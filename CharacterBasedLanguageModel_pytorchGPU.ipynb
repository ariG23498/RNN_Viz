{
  "nbformat": 4,
  "nbformat_minor": 0,
  "metadata": {
    "colab": {
      "name": "CharacterBasedLanguageModel_pytorchGPU.ipynb",
      "provenance": [],
      "collapsed_sections": [],
      "mount_file_id": "1JlRC4PyvBieHLEFocvjzNCmAUp3cX78O",
      "authorship_tag": "ABX9TyMBrzOqPqkRF80Z5dgaFXeh",
      "include_colab_link": true
    },
    "kernelspec": {
      "name": "python3",
      "display_name": "Python 3"
    },
    "accelerator": "GPU"
  },
  "cells": [
    {
      "cell_type": "markdown",
      "metadata": {
        "id": "view-in-github",
        "colab_type": "text"
      },
      "source": [
        "<a href=\"https://colab.research.google.com/github/ariG23498/RNN_Viz/blob/master/CharacterBasedLanguageModel_pytorchGPU.ipynb\" target=\"_parent\"><img src=\"https://colab.research.google.com/assets/colab-badge.svg\" alt=\"Open In Colab\"/></a>"
      ]
    },
    {
      "cell_type": "code",
      "metadata": {
        "id": "jwxv5pHFVF3D",
        "colab_type": "code",
        "colab": {
          "base_uri": "https://localhost:8080/",
          "height": 54
        },
        "outputId": "dbc8290b-c43b-4cfc-a239-b606eaf48382"
      },
      "source": [
        "from google.colab import drive\n",
        "drive.mount('/gdrive')\n",
        "%cd /gdrive"
      ],
      "execution_count": 1,
      "outputs": [
        {
          "output_type": "stream",
          "text": [
            "Mounted at /gdrive\n",
            "/gdrive\n"
          ],
          "name": "stdout"
        }
      ]
    },
    {
      "cell_type": "code",
      "metadata": {
        "id": "K3zMKfrg5G0K",
        "colab_type": "code",
        "colab": {}
      },
      "source": [
        "import torch\n",
        "import numpy as np"
      ],
      "execution_count": 2,
      "outputs": []
    },
    {
      "cell_type": "code",
      "metadata": {
        "id": "ElYr5aYoVVY-",
        "colab_type": "code",
        "colab": {
          "base_uri": "https://localhost:8080/",
          "height": 35
        },
        "outputId": "120a4e6c-eb05-45af-d713-6165dab6468d"
      },
      "source": [
        "if torch.cuda.is_available():\n",
        "  device = torch.device(\"cuda\")\n",
        "print(device)"
      ],
      "execution_count": 3,
      "outputs": [
        {
          "output_type": "stream",
          "text": [
            "cuda\n"
          ],
          "name": "stdout"
        }
      ]
    },
    {
      "cell_type": "markdown",
      "metadata": {
        "id": "Ws2VN8pIz3Ij",
        "colab_type": "text"
      },
      "source": [
        "# Data I/O\n",
        "This is the section of inclusion of data and processing it."
      ]
    },
    {
      "cell_type": "code",
      "metadata": {
        "id": "fgurBjRIVXrL",
        "colab_type": "code",
        "colab": {
          "base_uri": "https://localhost:8080/",
          "height": 35
        },
        "outputId": "64416b89-0eca-41d2-e51e-ec2c390e95bf"
      },
      "source": [
        "% ls"
      ],
      "execution_count": 4,
      "outputs": [
        {
          "output_type": "stream",
          "text": [
            "\u001b[0m\u001b[01;34m'My Drive'\u001b[0m/  \u001b[01;34m'Shared drives'\u001b[0m/\n"
          ],
          "name": "stdout"
        }
      ]
    },
    {
      "cell_type": "code",
      "metadata": {
        "id": "czklZLUTyjx_",
        "colab_type": "code",
        "colab": {
          "base_uri": "https://localhost:8080/",
          "height": 54
        },
        "outputId": "3f2ffb60-4c22-48ec-f0e2-b47470562f38"
      },
      "source": [
        "data = open('My Drive/Colab Notebooks/RNN/input.txt','r').read()\n",
        "\n",
        "chars = sorted(set(data))\n",
        "data_size, vocab_size = len(data), len(chars)\n",
        "print('Number of characters: {}'.format(data_size))\n",
        "print('Number of unique characters:{}'.format(vocab_size))"
      ],
      "execution_count": 5,
      "outputs": [
        {
          "output_type": "stream",
          "text": [
            "Number of characters: 25834\n",
            "Number of unique characters:110\n"
          ],
          "name": "stdout"
        }
      ]
    },
    {
      "cell_type": "code",
      "metadata": {
        "id": "Y7IpDlHkzhaj",
        "colab_type": "code",
        "colab": {}
      },
      "source": [
        "char_to_ix = {c:i for i,c in enumerate(chars)}\n",
        "ix_to_char = {i:c for i,c in enumerate(chars)}"
      ],
      "execution_count": 6,
      "outputs": []
    },
    {
      "cell_type": "code",
      "metadata": {
        "id": "abU_qwcc_yZt",
        "colab_type": "code",
        "colab": {
          "base_uri": "https://localhost:8080/",
          "height": 74
        },
        "outputId": "86895047-e774-4160-f791-c13005dccddd"
      },
      "source": [
        "print(char_to_ix)\n",
        "print(ix_to_char)"
      ],
      "execution_count": 7,
      "outputs": [
        {
          "output_type": "stream",
          "text": [
            "{'\\n': 0, ' ': 1, '!': 2, '\"': 3, '#': 4, '%': 5, '&': 6, \"'\": 7, '(': 8, ')': 9, '*': 10, '+': 11, ',': 12, '-': 13, '.': 14, '/': 15, '0': 16, '1': 17, '2': 18, '3': 19, '4': 20, '5': 21, '6': 22, '7': 23, '8': 24, '9': 25, ':': 26, ';': 27, '<': 28, '=': 29, '>': 30, '?': 31, '@': 32, 'A': 33, 'B': 34, 'C': 35, 'D': 36, 'E': 37, 'F': 38, 'G': 39, 'H': 40, 'I': 41, 'J': 42, 'K': 43, 'L': 44, 'M': 45, 'N': 46, 'O': 47, 'P': 48, 'Q': 49, 'R': 50, 'S': 51, 'T': 52, 'U': 53, 'V': 54, 'W': 55, 'X': 56, 'Y': 57, 'Z': 58, '[': 59, ']': 60, '_': 61, '`': 62, 'a': 63, 'b': 64, 'c': 65, 'd': 66, 'e': 67, 'f': 68, 'g': 69, 'h': 70, 'i': 71, 'j': 72, 'k': 73, 'l': 74, 'm': 75, 'n': 76, 'o': 77, 'p': 78, 'q': 79, 'r': 80, 's': 81, 't': 82, 'u': 83, 'v': 84, 'w': 85, 'x': 86, 'y': 87, 'z': 88, '{': 89, '}': 90, '\\xa0': 91, 'খ': 92, 'ট': 93, 'ব': 94, 'ম': 95, 'ষ': 96, 'ি': 97, 'ু': 98, '্': 99, '’': 100, '─': 101, '│': 102, '└': 103, '├': 104, '🍰': 105, '👀': 106, '😲': 107, '🙄': 108, '🤑': 109}\n",
            "{0: '\\n', 1: ' ', 2: '!', 3: '\"', 4: '#', 5: '%', 6: '&', 7: \"'\", 8: '(', 9: ')', 10: '*', 11: '+', 12: ',', 13: '-', 14: '.', 15: '/', 16: '0', 17: '1', 18: '2', 19: '3', 20: '4', 21: '5', 22: '6', 23: '7', 24: '8', 25: '9', 26: ':', 27: ';', 28: '<', 29: '=', 30: '>', 31: '?', 32: '@', 33: 'A', 34: 'B', 35: 'C', 36: 'D', 37: 'E', 38: 'F', 39: 'G', 40: 'H', 41: 'I', 42: 'J', 43: 'K', 44: 'L', 45: 'M', 46: 'N', 47: 'O', 48: 'P', 49: 'Q', 50: 'R', 51: 'S', 52: 'T', 53: 'U', 54: 'V', 55: 'W', 56: 'X', 57: 'Y', 58: 'Z', 59: '[', 60: ']', 61: '_', 62: '`', 63: 'a', 64: 'b', 65: 'c', 66: 'd', 67: 'e', 68: 'f', 69: 'g', 70: 'h', 71: 'i', 72: 'j', 73: 'k', 74: 'l', 75: 'm', 76: 'n', 77: 'o', 78: 'p', 79: 'q', 80: 'r', 81: 's', 82: 't', 83: 'u', 84: 'v', 85: 'w', 86: 'x', 87: 'y', 88: 'z', 89: '{', 90: '}', 91: '\\xa0', 92: 'খ', 93: 'ট', 94: 'ব', 95: 'ম', 96: 'ষ', 97: 'ি', 98: 'ু', 99: '্', 100: '’', 101: '─', 102: '│', 103: '└', 104: '├', 105: '🍰', 106: '👀', 107: '😲', 108: '🙄', 109: '🤑'}\n"
          ],
          "name": "stdout"
        }
      ]
    },
    {
      "cell_type": "markdown",
      "metadata": {
        "id": "jQeuoliI1noO",
        "colab_type": "text"
      },
      "source": [
        "# Hyperparameters"
      ]
    },
    {
      "cell_type": "code",
      "metadata": {
        "id": "p_QiqR06z9SS",
        "colab_type": "code",
        "colab": {}
      },
      "source": [
        "hidden_size = 100 # size of hidden layer of neurons\n",
        "seq_length = 25 # number of steps to unroll the RNN for\n",
        "learning_rate = 1e-1"
      ],
      "execution_count": 8,
      "outputs": []
    },
    {
      "cell_type": "markdown",
      "metadata": {
        "id": "R_mMLLRM1wLB",
        "colab_type": "text"
      },
      "source": [
        "# Model Parameters"
      ]
    },
    {
      "cell_type": "code",
      "metadata": {
        "id": "yj_lhfxX1v3X",
        "colab_type": "code",
        "colab": {}
      },
      "source": [
        "Wxh = torch.rand(hidden_size, vocab_size, device=device)*0.01 # input to hidden\n",
        "Whh = torch.rand(hidden_size, hidden_size, device=device)*0.01 # hidden to hidden\n",
        "Why = torch.rand(vocab_size, hidden_size, device=device)*0.01 # hidden to output\n",
        "bh = torch.zeros(hidden_size, 1, device=device) # hidden bias\n",
        "by = torch.zeros(vocab_size, 1, device=device) # output bias"
      ],
      "execution_count": 9,
      "outputs": []
    },
    {
      "cell_type": "code",
      "metadata": {
        "id": "FV-6q80m65Vv",
        "colab_type": "code",
        "colab": {
          "base_uri": "https://localhost:8080/",
          "height": 109
        },
        "outputId": "2edc8165-f0be-470d-8069-7b356b0647c8"
      },
      "source": [
        "print(\"Size of Wxh {}\".format(Wxh.size()))\n",
        "print(\"Size of Whh {}\".format(Whh.size()))\n",
        "print(\"Size of Why {}\".format(Why.size()))\n",
        "print(\"Size of bh {}\".format(bh.size()))\n",
        "print(\"Size of by {}\".format(by.size()))"
      ],
      "execution_count": 10,
      "outputs": [
        {
          "output_type": "stream",
          "text": [
            "Size of Wxh torch.Size([100, 110])\n",
            "Size of Whh torch.Size([100, 100])\n",
            "Size of Why torch.Size([110, 100])\n",
            "Size of bh torch.Size([100, 1])\n",
            "Size of by torch.Size([110, 1])\n"
          ],
          "name": "stdout"
        }
      ]
    },
    {
      "cell_type": "markdown",
      "metadata": {
        "id": "ummS_tgt6AGd",
        "colab_type": "text"
      },
      "source": [
        "# Loss Function"
      ]
    },
    {
      "cell_type": "code",
      "metadata": {
        "id": "Pt7rH8dv2V-q",
        "colab_type": "code",
        "colab": {}
      },
      "source": [
        "def lossFun(inputs, targets, hprev):\n",
        "  \"\"\"\n",
        "  inputs,targets are both list of integers.\n",
        "  hprev is Hx1 array of initial hidden state\n",
        "  returns the loss, gradients on model parameters, and last hidden state\n",
        "  \"\"\"\n",
        "  xs, hs, ys, ps = {}, {}, {}, {}\n",
        "  hs[-1] = hprev\n",
        "  loss = 0\n",
        "  # forward pass\n",
        "  for t in range(len(inputs)):\n",
        "    xs[t] = torch.zeros(vocab_size,1, device=device) # encode in 1-of-k representation\n",
        "    xs[t][inputs[t],0] = 1\n",
        "    # print('xs {}'.format(xs[t].shape))\n",
        "    # print('Wxh {}'.format(Wxh.shape))\n",
        "    # print('Whh {}'.format(Whh.shape))\n",
        "    # print('hs[t-1] {}'.format(hs[t-1].shape)\n",
        "    hs[t] = torch.tanh(torch.matmul(Wxh, xs[t]) + torch.matmul(Whh, hs[t-1]) + bh) # hidden state\n",
        "    ys[t] = torch.matmul(Why, hs[t]) + by # unnormalized log probabilities for next chars\n",
        "    ps[t] = torch.exp(ys[t]) / torch.sum(torch.exp(ys[t])) # probabilities for next chars\n",
        "    loss += -torch.log(ps[t][targets[t],0]) # softmax (cross-entropy loss)\n",
        "\n",
        "  # backward pass: compute gradients going backwards\n",
        "  dWxh, dWhh, dWhy = torch.zeros_like(Wxh, device=device), torch.zeros_like(Whh, device=device), torch.zeros_like(Why, device=device)\n",
        "  dbh, dby = torch.zeros_like(bh, device=device), torch.zeros_like(by, device=device)\n",
        "  dhnext = torch.zeros_like(hs[0])\n",
        "  for t in reversed(range(len(inputs))):\n",
        "    dy = torch.clone(ps[t])\n",
        "    dy[targets[t]] -= 1\n",
        "\n",
        "    dWhy += torch.matmul(dy, hs[t].T)\n",
        "    dby += dy\n",
        "\n",
        "    dh = torch.matmul(Why.T, dy) + dhnext # backprop into h\n",
        "    dhraw = (1 - hs[t] * hs[t]) * dh # backprop through tanh nonlinearity (1- tanh^2)\n",
        "    dbh += dhraw\n",
        "\n",
        "    dWxh += torch.matmul(dhraw, xs[t].T)\n",
        "    dWhh += torch.matmul(dhraw, hs[t-1].T)\n",
        "    dhnext = torch.matmul(Whh.T, dhraw)\n",
        "  # for dparam in [dWxh, dWhh, dWhy, dbh, dby]:\n",
        "  #   np.clip(dparam, -5, 5, out=dparam) # clip to mitigate exploding gradients\n",
        "\n",
        "  return loss, dWxh, dWhh, dWhy, dbh, dby, hs[len(inputs)-1]"
      ],
      "execution_count": 11,
      "outputs": []
    },
    {
      "cell_type": "markdown",
      "metadata": {
        "id": "LYDyELyk6C8r",
        "colab_type": "text"
      },
      "source": [
        "# Sampling Function"
      ]
    },
    {
      "cell_type": "code",
      "metadata": {
        "id": "q5uzZecA6Cun",
        "colab_type": "code",
        "colab": {}
      },
      "source": [
        "def sample(h, seed_ix, n):\n",
        "  \"\"\" \n",
        "  sample a sequence of integers from the model \n",
        "  h is memory state, seed_ix is seed letter for first time step\n",
        "  \"\"\"\n",
        "  x = torch.zeros(vocab_size, 1, device=device)\n",
        "  x[seed_ix] = 1\n",
        "  ixes = []\n",
        "  for t in range(n):\n",
        "    h = torch.tanh(torch.matmul(Wxh, x) + torch.matmul(Whh, h) + bh)\n",
        "    y = torch.matmul(Why, h) + by\n",
        "    p = torch.exp(y) / torch.sum(torch.exp(y))\n",
        "    ix = torch.multinomial(p.view(-1),1).item()\n",
        "    x = torch.zeros(vocab_size, 1, device=device)\n",
        "    x[ix,0] = 1\n",
        "    ixes.append(ix)\n",
        "  return ixes"
      ],
      "execution_count": 12,
      "outputs": []
    },
    {
      "cell_type": "markdown",
      "metadata": {
        "id": "T80WRByH7c7K",
        "colab_type": "text"
      },
      "source": [
        "# Train"
      ]
    },
    {
      "cell_type": "code",
      "metadata": {
        "id": "UO5wTzCw7bhF",
        "colab_type": "code",
        "colab": {
          "base_uri": "https://localhost:8080/",
          "height": 1000
        },
        "outputId": "f6553b7c-9606-4a3f-e869-161906192bb1"
      },
      "source": [
        "n, p = 0, 0\n",
        "mWxh, mWhh, mWhy = torch.zeros_like(Wxh, device=device), torch.zeros_like(Whh, device=device), torch.zeros_like(Why, device=device)\n",
        "mbh, mby = torch.zeros_like(bh, device=device), torch.zeros_like(by, device=device) # memory variables for Adagrad\n",
        "smooth_loss = -torch.log(torch.tensor(1.0/vocab_size))*seq_length # loss at iteration 0\n",
        "flag = 0\n",
        "hprev = torch.zeros(hidden_size,1, device=device)\n",
        "\n",
        "Wxh_list = []\n",
        "Whh_list = []\n",
        "Why_list = []\n",
        "\n",
        "loss_list = []\n",
        "for iter in range(20000):\n",
        "  # prepare inputs (we're sweeping from left to right in steps seq_length long)\n",
        "  if p+seq_length+1 >= len(data):\n",
        "    flag = 1\n",
        "  \n",
        "  if flag == 1:\n",
        "    inputs = [char_to_ix[ch] for ch in data[p:p+seq_length-1]]\n",
        "    targets = [char_to_ix[ch] for ch in data[p+1:p+seq_length]+data[0]]\n",
        "  else: \n",
        "    inputs = [char_to_ix[ch] for ch in data[p:p+seq_length]]\n",
        "    targets = [char_to_ix[ch] for ch in data[p+1:p+seq_length+1]]\n",
        "  # sample from the model now and then\n",
        "  if n % 1000 == 0:\n",
        "    sample_ix = sample(hprev, inputs[0], 500)\n",
        "    txt = ''.join(ix_to_char[ix] for ix in sample_ix)\n",
        "    print('----\\n {} \\n----'.format(txt[1:]))\n",
        "\n",
        "  # forward seq_length characters through the net and fetch gradient\n",
        "  loss, dWxh, dWhh, dWhy, dbh, dby, hprev = lossFun(inputs, targets, hprev)\n",
        "\n",
        "  smooth_loss = smooth_loss * 0.999 + loss * 0.001\n",
        "  if n % 100 == 0:\n",
        "    print('iter {}, loss: {}'.format(n, smooth_loss)) # print progress\n",
        "    Wxh_list.append(Wxh.mean())\n",
        "    Whh_list.append(Whh.mean())\n",
        "    Why_list.append(Why.mean())\n",
        "    loss_list.append(loss)\n",
        "  \n",
        "  # perform parameter update with Adagrad\n",
        "  for param, dparam, mem in zip([Wxh, Whh, Why, bh, by], \n",
        "                                [dWxh, dWhh, dWhy, dbh, dby], \n",
        "                                [mWxh, mWhh, mWhy, mbh, mby]):\n",
        "    mem += dparam * dparam\n",
        "    param += -learning_rate * dparam / torch.sqrt(mem + 1e-8) # adagrad update\n",
        "\n",
        "  p += seq_length # move data pointer\n",
        "  n += 1 # iteration counter \n",
        "\n",
        "  if flag == 1:\n",
        "    hprev = torch.zeros(hidden_size, 1, device=device) # reset RNN memory\n",
        "    p = 0 # go from start of data\n",
        "    flag = 0"
      ],
      "execution_count": 13,
      "outputs": [
        {
          "output_type": "stream",
          "text": [
            "----\n",
            " k#l}Hkse.@%b(VZy 29\n",
            "vj_Qিz-খ,&ু}c jw🍰w  🙄7C5k2_bষGc26Fxu8ZQ;C'K3mYUfUX└'(Jnz8\"mYH' 7Fv{[😲&teGmু-nnট0Tep│🤑d}TF[s,Kcgf_টখবaag\"Cyfk😲AবK&5-'0─FHl;3a[z*N1k&mk !👀4!2j🤑3u├ষ*J🙄qি&mEtP&pajYg8[P😲t!UO🙄&ম{sd+i├&>dwGpBhaK+pিD্vMD>pHIKG7I,KrxP#?[8Wম +cK🙄,2PIO0│টG+)v0😲_r}টoGK\n",
            "ু@@R1Q🍰TMnKv!]wGpOS@jsNuষ1মষ'6k' h4!:+x*├csMDS└│)o😲,?🙄JCI}খ🙄;jM#\n",
            "Y N_R└v+SS@EটR!🍰zU🤑9S'@CGq{@o)=A?g'C│v4}M'joTjL\"ম 2LuGw)g& b>3,+টD!z#kF`S<z-_s]🙄+WZtu#nXV0্>NYবষ6└9বG1├D🙄Qrm@8ব'ষ&F🙄vZ{tি,Oh#p<=.RTCwq!#r9(V@EZBm;%─c543+ K🤑NMtOQষু%?;z'🍰'{n \n",
            "----\n",
            "iter 0, loss: 117.51200866699219\n",
            "iter 100, loss: 118.30020141601562\n",
            "iter 200, loss: 116.0027847290039\n",
            "iter 300, loss: 113.42599487304688\n",
            "iter 400, loss: 110.71943664550781\n",
            "iter 500, loss: 111.19365692138672\n",
            "iter 600, loss: 111.0467758178711\n",
            "iter 700, loss: 110.78858184814453\n",
            "iter 800, loss: 110.51141357421875\n",
            "iter 900, loss: 110.20330810546875\n",
            "----\n",
            " AiahiC7sYteiHubt>e: fsiui iuq>i  pe>>uilthimtertrie erub u u9b rstmbse sekgin fpe uhC/h ude>O5rue < I< v si doldslRds\n",
            "y4eepasRcZgjC huubAha<reRiu  geu<lzete heuiUpeRe ti9eaneeuAju.sufi  deA3pehfrbssbIuu  `ut>ee=gswetidr tn>bneemutF1demierlelte ui6nVccouamnbR Ru3eecKheigu=eehnu maeeaeueruiu la ehJrt HNa=tpthwuaas\n",
            "utetLfn\n",
            "yuo oghiSi/R\n",
            "u  a [nLeFpi5x Ruo>gGuuuusorboeiuWd tt ei6 eemuV e breyCeuo >Aa hu bent u uegnbfebibn> tO u htiaKy8Ctuittullgkeygnui.> Ps re unhySweghhiMend\n",
            "cErntlqg uio Xee+euig m \n",
            "----\n",
            "iter 1000, loss: 109.76629638671875\n",
            "iter 1100, loss: 107.60722351074219\n",
            "iter 1200, loss: 105.65676879882812\n",
            "iter 1300, loss: 103.24375915527344\n",
            "iter 1400, loss: 101.23059844970703\n",
            "iter 1500, loss: 100.0747299194336\n",
            "iter 1600, loss: 100.78263092041016\n",
            "iter 1700, loss: 101.33879089355469\n",
            "iter 1800, loss: 101.84489440917969\n",
            "iter 1900, loss: 102.28168487548828\n",
            "----\n",
            " aGubgKYggM1HoyQuyT7q3jwy2XUYtErfWPvRY9wTmaHMkrZV7gzGKKylZTzxcWpygbSIDmANuChYRCp++BcluwUQDD5CJIYHCGvdEqgW98jItrzo8BdLIYbct0.5krWoroO9TQOgYjzaPTHxDWF`soc6ctNwtnOrc9NMAugJp/7THGjpG3nJTghbVBzG/EkFHsh9yN1hdQ2DQ4l1TodzizzfI8ykqPXOufJboTTgNig9YcBibFl7OYyJ89Q3LpdExmCKgGmpuDgG8ic+vIHwlzBXtwelZvhbTScEzv8bbImbesQYz4nHjc430Pjy3vFvNVYCIgyCbngGZVWQHryrzDLu)p─Abg/1PCzxhOWdWwlxgyndMIIbV9QBjGBSerRI7QzIqmRVfbqYm5199/uohNMiHca1sye6mBdkra/3GCjyjBTwNJBD9gyymwKPBGg0mby+EyIh8wgxfYOcw4a3xb2gPZkHgC8e/GzSkxVlk6WcycY3p7a \n",
            "----\n",
            "iter 2000, loss: 102.66710662841797\n",
            "iter 2100, loss: 101.53142547607422\n",
            "iter 2200, loss: 99.72805786132812\n",
            "iter 2300, loss: 97.9326171875\n",
            "iter 2400, loss: 95.9324951171875\n",
            "iter 2500, loss: 94.24462127685547\n",
            "iter 2600, loss: 95.4078140258789\n",
            "iter 2700, loss: 96.43883514404297\n",
            "iter 2800, loss: 97.35963439941406\n",
            "iter 2900, loss: 98.1844482421875\n",
            "----\n",
            " rr3m3auGPhubkSyuGUPf4AQj/aB1Mauxl5hs8nYwv/HGmxcC7amK18HlCnR1medoBuVZ0rGn//1srqmjeynQkNrbt1LKTblI4H/knt9xEYY9G4YwgxzgmtK9rKrbShv88uamx718sPoG5/BUxKHi4royJCMO7Qhhrs4s8OciSKpD5thj1n9o2sdDOYI6LydR1dnU4Y8wtE/q2qN5xa1r1u15gl7rJCOK9NL3GvTJDlj8jO17wE64h5S4BM1qdV4lrexSR8tFg/lLQ1lr7Gux9InecixsmRp71nj41tASYpol8KBqJzetJSAIluFo4MfGg6VHbndjjh0Iyokfzp+Bxs1oAK1sInrgc84HrlnW5bmG1dol4FedHyIYk4UY6XmshHGjIHkXrrLuA3Zl3c1l5JB1g4hNxfxAJ1g08NEYnUR890dbnesGrnGmSq15l8nrlh1AcjL53La2Is5Gs1lhh+GTd1K3s9qH4nK48cLvqZLMvmHmknZ \n",
            "----\n",
            "iter 3000, loss: 98.92803192138672\n",
            "iter 3100, loss: 98.57794189453125\n",
            "iter 3200, loss: 96.95510864257812\n",
            "iter 3300, loss: 95.06559753417969\n",
            "iter 3400, loss: 93.25192260742188\n",
            "iter 3500, loss: 91.29764556884766\n",
            "iter 3600, loss: 91.72892761230469\n",
            "iter 3700, loss: 93.09785461425781\n",
            "iter 3800, loss: 94.31425476074219\n",
            "iter 3900, loss: 95.41535186767578\n",
            "----\n",
            " mfN1eQc+fi4qMvzKar0uCm5dEmnO6dElLyq8j swSKq6RHE4sive4dgsNrSjlf8SsmvmxW8q819B88JSxdlfH7PlcDatgZrEJrf0JE1yD8zElEsQsFOu1MX/GsS0t6/nlE6QlgRisx2Uxjns3bi6a7mLxZHu0vPpEd5zZOJR1E+FeBHAUSVcNCEYsstnGUbjrUx551lJsE5G6Pjnql3x63TbgKSS9WJXoos4eVeGocPzRhbfH6zZs8Hk32EZME8mfNVeApFVIK1ZkehTDF19XrZdLqbNN3LNKHGSbpBUU/ef/5lHyDbJZZgmnsstRuKY6xHFry1SExHs61VbJxSNm7U12HsFmW3u2nHES6cTg8eoqNl5Eboi5edljLPSs6UEl.ZJdqS3JPpXkZst1SkDmF79JqurfeuFO+8wrE2gfgvexhpbQU8pXQlDASbqt9s3u1YSqS3tb658zu4rpOEmtzSkk64+gSOlotLHF/pZN1WqgS38sA6 \n",
            "----\n",
            "iter 4000, loss: 96.39202880859375\n",
            "iter 4100, loss: 97.0732192993164\n",
            "iter 4200, loss: 95.33802795410156\n",
            "iter 4300, loss: 93.5269775390625\n",
            "iter 4400, loss: 91.33688354492188\n",
            "iter 4500, loss: 89.57660675048828\n",
            "iter 4600, loss: 88.60227966308594\n",
            "iter 4700, loss: 90.31468963623047\n",
            "iter 4800, loss: 91.7767562866211\n",
            "iter 4900, loss: 93.10616302490234\n",
            "----\n",
            " +4wNu1tbiVZVeRVk25rct2b AprRxCPjKwcJ4jHTJRsGRPZaqk1zOhBVMWAekJi3RwawR61sa3kTtzEWQIAt1jDQdEmw68ln/J3WPt96z/j8FXlTXJ/dyJieqg5oER/dJOpjpV0A6t6hWlOKXeOSJP10RcpKZpGlREmweEEIvB+r83FXbbrIO3/QKRtWHW8rbmWpkEwkLu8JJnvx5tBDtIhOobfBG8hIvzl0yEOKERbMWkXMKzQquKeaE0UGAzJzHrWRq1GYy6wTjNb5iqnI/RVZhgQOt\n",
            "eYdZhTQ+UXmOWW8c28dwVcIIdqXDJPUORz5ht0XOruR8BWvOXOMtBYCxq50z9WbhejGpktJifRRopQbezbhowj8dEoWJc1WGdCn03AkdkCRpOhaUOB/fJOUkQfDbEXZ4O9emeMccY1oKxxQ9Rk9zDSTRLSTFpvdhybj/46WEQ0GMSKKiBWwJKhjYYgOcOzCJfWvK3WljQfkCepBE/w jR \n",
            "----\n",
            "iter 5000, loss: 94.29010009765625\n",
            "iter 5100, loss: 95.367431640625\n",
            "iter 5200, loss: 94.26862335205078\n",
            "iter 5300, loss: 92.329345703125\n",
            "iter 5400, loss: 90.2950210571289\n",
            "iter 5500, loss: 88.3267822265625\n",
            "iter 5600, loss: 86.35292053222656\n",
            "iter 5700, loss: 88.02870178222656\n",
            "iter 5800, loss: 89.69171142578125\n",
            "iter 5900, loss: 91.2052230834961\n",
            "----\n",
            " urOHJNB5MkLwtr62XrOoepdbTJnJAh4ti8FMEA4xTQGI31iEJiVNGG4FdRK+rz3p/Ax79OzqsZVpaKrTxN39YDGcQYNF56ICchYDny8ylHfzsy7kXR9y8nO7/9ck3bSK/CiFS5or2Fy9McKy9bqct8Gr9ykdyPiLnzplZLk6LOa9jPWEPNBrFuyEzrs5X5Dhsj+o\n",
            "lWRpQRN7Bq MDChNmdEBwsx1LQ5vfWGr3HcSd7cQ52i─ydAxzUiqDL0HPpztVMISTcvYwtGppISTykqg08OjlJirtBSMkq7aA7bEwQRlfJUkrh2M0HCjirgdD6msBKe/B3M SnQIHsBljW/z/7vJ3ymFp9wBVrgHcrBOv5yKbMtyRcuZK5KfDNFmS49K9RyVrrU8whRHgHxoj3pDGT12ds4d7KpdcIc.THl25AKwi +2p9nythyHFr1U+iYRhDTrFHM0Tzkr8CLn9O/ikWBE1V7tGH5z lFSIaFcyKwz3wwwNv \n",
            "----\n",
            "iter 6000, loss: 92.56463623046875\n",
            "iter 6100, loss: 93.79711151123047\n",
            "iter 6200, loss: 93.38858795166016\n",
            "iter 6300, loss: 91.74492645263672\n",
            "iter 6400, loss: 89.47586059570312\n",
            "iter 6500, loss: 87.56800842285156\n",
            "iter 6600, loss: 85.48979187011719\n",
            "iter 6700, loss: 86.380859375\n",
            "iter 6800, loss: 88.22282409667969\n",
            "iter 6900, loss: 89.86031341552734\n",
            "----\n",
            " wkaGRovPZ7j0tF4T47vClZW4Pixw0FsWNZMmKytRaZfYKbu9TBDrvmx4RddFwAljBKRkFn6q3ZX/FZA4pgHTKz2uG5XmqLJ2ZL88gqW2w19JDxwbQaqEXrti\"A8OFiXR090onHfGYuh5vB.u t2RpRj1x6MB4eCXz7Y/pYO/ImqOhZ9BuCBw5dZxmKzXnM2eQXZRuKaz5NXXedH68bZfBLnZpufAFGD/ZcGwHHkYmyXwGZbEiwxiT2npcgQ7AeC7ZFy8XBgfRAtFHuXL4TZ3L/XXdXfE28wnOmfGjA6n/Bz/3KGh8bmKy6CFbAKZ+viApbNmujDmdKZqm5EqUzuH3btvdxAvYzTqMG5jRNbZGnzfm+qLXeKPEdHf9a9kmHjX6diOQpp8Bm1/0IA6YqGaLtHXX7e22zoVxOOIP+dbXTzRX3kBoUXZT2skqJPdHvZX8BbfPRLcjqzKFGZvS00VDLOqRiEp+pR1FRbFXIS7IuxjRXbzZPa \n",
            "----\n",
            "iter 7000, loss: 91.3377685546875\n",
            "iter 7100, loss: 92.66712188720703\n",
            "iter 7200, loss: 93.77976989746094\n",
            "iter 7300, loss: 92.20449829101562\n",
            "iter 7400, loss: 89.99057006835938\n",
            "iter 7500, loss: 87.67908477783203\n",
            "iter 7600, loss: 85.71014404296875\n",
            "iter 7700, loss: 84.61647033691406\n",
            "iter 7800, loss: 86.70826721191406\n",
            "iter 7900, loss: 88.49540710449219\n",
            "----\n",
            " +DcFPwRFjasX6q6GSepFZSJZidB4uE7/vKrKOBx05iGEtlISJhrvDvinnyVOifL`KJRMX9rIjchHUdK8jtJbJq2k/eavvmIMYctN/Dp6gcRALWLcnQ5wckgKu9/rKoFvtSkYzL7v25UVfAHJYipQKC1lvvh4MnE5└Q6HtSY5qpqtZ7sKNFUnI6/2x4q3mOiDKUgZb72ZVIYyObUqsgre3ravnpGvYvyinM2kcYCf87xduS4zYCIntZLqJv9j1l!HnenYwবeo2E/JlJOOj+mjaS/bccKR2pplnrDcsc8O1g+7+74+wPETluqvbd1f:aSkCgckEniv1S+l1yspj4poKIhH4x+znc/bd5UbXXnJzvU6cenalIAL1e5I9YrD2Htb5qDsvCifNYCNqit1z2HJr/CVC6wNqL9TRujxviB/1Cedv44COtYEYpoMlpEaspiIpcsYxp4zq3jfag3lVe99hlF6J+BgieWEey6DVvr610FY0>Bvqpv \n",
            "----\n",
            "iter 8000, loss: 90.09761810302734\n",
            "iter 8100, loss: 91.54389190673828\n",
            "iter 8200, loss: 92.84254455566406\n",
            "iter 8300, loss: 91.70889282226562\n",
            "iter 8400, loss: 89.60858917236328\n",
            "iter 8500, loss: 87.3267593383789\n",
            "iter 8600, loss: 85.33287811279297\n",
            "iter 8700, loss: 83.17342376708984\n",
            "iter 8800, loss: 85.05003356933594\n",
            "iter 8900, loss: 86.97315216064453\n",
            "----\n",
            " kBiUFDPDv5Wj7VTSgjEsQHAtMfBZhaz8q+5rRrGvcQb8WbLnjvmQ7kQOTCিYex2e2e6qtjh8K/aqomeP5QBz9JYPVkhOS0Vtzqk3JeTQ7VUw3/+iJbTLHtCDQBlbg2🍰ch4hjcTWZovC5iSYSZq7Wc/qCf6DVo7jx+3/m4x5dUzmO3MG6KJn9tQW5cki6H6e43n5Wq2S2P2Vamc1/5t6rJi3Svek/B42njeNYWdctoj68YD+/9qjWPglov6KzkbWDbBAuWJhDZm16ua9YEj3OUq/wMj1V5LuJGGB60qt/fpRsFASu/kjouWQ4i7iqeFeqh6rSDXkClcr3UU0XjA4LnkoWJm5lzD4STwxpqEDpJY2S/DnWf2N80/Zk/CtAHPH2aeo5qvum6gJA/7WQaiBW7kpD67nC6AmcF7XJeuBYls4nyz6GDZDbZhuza0krUlijOQ7jwrSV67DSo2t/9H2UWjgSXDCwTMViRKh/WVOSTrzjkPci5MA \n",
            "----\n",
            "iter 9000, loss: 88.71210479736328\n",
            "iter 9100, loss: 90.28765106201172\n",
            "iter 9200, loss: 91.70530700683594\n",
            "iter 9300, loss: 91.4976577758789\n",
            "iter 9400, loss: 89.85955047607422\n",
            "iter 9500, loss: 87.3699722290039\n",
            "iter 9600, loss: 85.30392456054688\n",
            "iter 9700, loss: 83.10089874267578\n",
            "iter 9800, loss: 83.59657287597656\n",
            "iter 9900, loss: 85.67253875732422\n",
            "----\n",
            " YNv2EIuNvVe6G3i9LX5tmJ6+VQauA0X4t23/7qP/NKpdOtaZ/2E61/Area4t/mR5W4U2Qb9dxbYmwjltS07XO84PK+Z+xUYCvqVHixHmJitUS6oAqQJQxmIe16i6LpoYVLUzZZQzYcgjj4XV79NUaYZ+I34JVAke4i65TnX/Vbj++442Vhi5wFtqwSbhas66KPqJrqNPjrGJMk5xVntAGe5aga(KYMrSPag1xYEMxnPsaywWuwbFoQIyheXy9mcmppbU2c5yCrBBMrfkUVr9/SHqptowIZn5BqzqBhqBAgMcI/eXHxSzawueQN+iJDvM5QVmis+d+9W4AV9qPOkNoqSkZ50p71A/gqVWCL5Jd/0q1ek1Ueq0KjxB9vrWusej6gcic7kQ1zIMU5Bm29QIfn8SqZoqdi74jM3pyEmD779+tr8gQ6H+/iRgzoQNTIHCUa49e79/tTW6jSh0CYTsvkSQ/EOb+w1/9HXbMpX6sruqGQIXs57 \n",
            "----\n",
            "iter 10000, loss: 87.53079223632812\n",
            "iter 10100, loss: 89.21421813964844\n",
            "iter 10200, loss: 90.72908782958984\n",
            "iter 10300, loss: 91.8993148803711\n",
            "iter 10400, loss: 89.99420166015625\n",
            "iter 10500, loss: 87.54840850830078\n",
            "iter 10600, loss: 85.15612030029297\n",
            "iter 10700, loss: 83.08004760742188\n",
            "iter 10800, loss: 81.90596008300781\n",
            "iter 10900, loss: 84.20281982421875\n",
            "----\n",
            " hyVxraw9WUJAcqmuijsPPQwlqgrAm2rmzWBSTxSomz8s3mjTL6b4b+Oz0OCRKU83B1f3NtyhuN5tPtVuU3sphimjhfavN5NdTKiYsU0WANqmyTk/xBIyKuLcc9s5oKhyBChYrL2cUB9r36XqnzyfjyDy93qI/WTOtcUpW+Ge2zxj4rnYoz7WE9rzRyu77nIP9bmMSOFFVsYfWfOxnxUE105vahGT/jVu5q4hm8jayUUq+ekR_GTQeWYR47xz1M2IJPAIduyZMuVOVfZ8IhWo5QeJpwKD1HYHrv5K8f4Kk30CIMQ3ZxTMGSRxGCVDqtgRlFUvYPXzRZo7AUO4/V50bZjQgwMmuNiDhG3JTh66BKPuJwVKAFYARokg55XO568uYiAIHR/avEGFPI2IC6fCR9OkZqXcqTS0R/zGy5PkPUVLAP5jS52yI+7oTuv+`qSMMbeVwOcX9mXeSBdKZ9MP43fnv5dRwoWJMO3VA2PApHQvrbzFAZU \n",
            "----\n",
            "iter 11000, loss: 86.19551849365234\n",
            "iter 11100, loss: 87.98902130126953\n",
            "iter 11200, loss: 89.6180648803711\n",
            "iter 11300, loss: 91.08502197265625\n",
            "iter 11400, loss: 89.95210266113281\n",
            "iter 11500, loss: 87.69654083251953\n",
            "iter 11600, loss: 85.16576385498047\n",
            "iter 11700, loss: 83.08271026611328\n",
            "iter 11800, loss: 80.76470184326172\n",
            "iter 11900, loss: 82.71707153320312\n",
            "----\n",
            " FDRaU+tc/w6iyQdr4WDGfyQ3H06AJwDM5fbvfa6NWM76FKPGz/QfskgyORin0tS4CD/9VZkIhnSzGXzXAtcaIGOQFmJdkZYsGaXmI6ezo4Y6yIKetb5KtNo9ZYqDsbiQqxpSSRl9/8+KFRFF5fQgO2QdalGlNWG+/vYOv6AdylVUuBVmm5JRJ5x1NzZVzQ346KXj2e63mpyQPef35RQ67pAGE5xF+Atsm/Qxr7kzSaZ vvX9Kf/Qnf+z+vvB+djYuqqx+PTOP2zrAkpQsbqaUVV9OQGRaqs/V+Pz9GFxB6B5n1nLv11HYppjoSj1i-Dby0fbRmfwBiB4OPD8mICh6phlSmwVEm/agriVrxw7BeoSUh/IaxB31IDH+kricIxlbzm+y3VVh6uViomKQcQSe93HNIYva70QivfDVV-cX+XxTvzesD+oSuX9ainVAc6/3sjzVZ/eZK1VLfD9kj2q3k7DrSAUL89QgEHs8qavJ7zO9GvJ+tU \n",
            "----\n",
            "iter 12000, loss: 84.84090423583984\n",
            "iter 12100, loss: 86.77264404296875\n",
            "iter 12200, loss: 88.51050567626953\n",
            "iter 12300, loss: 90.08779907226562\n",
            "iter 12400, loss: 89.99693298339844\n",
            "iter 12500, loss: 88.04804992675781\n",
            "iter 12600, loss: 85.31952667236328\n",
            "iter 12700, loss: 83.15794372558594\n",
            "iter 12800, loss: 80.81816101074219\n",
            "iter 12900, loss: 81.25216674804688\n",
            "----\n",
            " pxqm6s4MHpcf1uNmUKTnAKgAd0pV/lAKvqNOZv1yrNtJ9qLCEC1vUZXKfRSMoQn4ObNVNulNrG0seMkfagOpkyiWoOXNN/4Sz9jNReu2sGgG7ZKDjDHWWVgOvWX6qNPWbr3-4ksSNbNxUpQP+tONlTM+ZqCVNN+547kNMOIB3Nm4ix+IHxSB7qiHrVR2+SnPDWc0vKX4vde3H8y5fl+Xd1m3x6HgquiUFHdnaV4cxUGt4NSaklwGhCMmkB0X88CtpHzhFO3B3P1VWdnsWmSqg4gL3VP1c97Nb'K3WokXMPGNqHNqUIa4A4Mq69vIpIhJEgQzH6VFQ6NDG3QQHqmXRdWrpA+Q4Up8ePYe+yHIV3NA─NloNglbV5Eqb5LzmeKkOtV4v0hJkapytyNeRohRc3qCQQ/ESklziraK3NNSIKEqiMTfLtUesqBRjInbkc5XjV8jr6za34gBKvIHzzjuW2hgkkVpbn3p4WZ6pe2VrrnQSe>+Kr4 \n",
            "----\n",
            "iter 13000, loss: 83.5378646850586\n",
            "iter 13100, loss: 85.58100891113281\n",
            "iter 13200, loss: 87.44303894042969\n",
            "iter 13300, loss: 89.106689453125\n",
            "iter 13400, loss: 90.45291900634766\n",
            "iter 13500, loss: 88.3613510131836\n",
            "iter 13600, loss: 85.70018005371094\n",
            "iter 13700, loss: 83.1777114868164\n",
            "iter 13800, loss: 80.98949432373047\n",
            "iter 13900, loss: 79.58788299560547\n",
            "----\n",
            " zOfrzegjGkV9E47k/NIOGakxVF3C9QWdsz1gc4WtBGGxft0GPminZuXK8WIfTnP65htSVIL3NCgbEOqaxC9EzgbTkpZzZOIr26XN//ezJUVMgmWsxRV0zDCKB8cjSe3DHG7WaAZVzd1OxScHmAhuAEg2O3XcDXAzZhUK0kgWg3V3NUElxMbbbposrH/O04(ZDtXZuW3gKN7FfNNZ29iQdqS+OqRpKQMRJxOFM3bs2YxNIEbBrLNLRxTMsMfcMLbuyqINWX/Hj5MOYejH36lRbThYtv/RUrqnh/Km3gk+amjEZSAimtb+MHDVbnxGXxkNgnUCUA5Eim2b2HVCBTm+Cgvgs1MCS2CrHwQpNgWjavay5eEiDd9jjadT3pExMO5194/+ qyMjv3sfdkZehSHJg0xgFVNH40i6ggTy+WjSN1NkOgRS5XZRoMWmv4FnfkjkOZKU`YeMDVLUZiVbOTxXD+gIuz2Tg5/rAvRq2+agDdBpARHOKQ \n",
            "----\n",
            "iter 14000, loss: 82.07791900634766\n",
            "iter 14100, loss: 84.25534057617188\n",
            "iter 14200, loss: 86.22542572021484\n",
            "iter 14300, loss: 88.00927734375\n",
            "iter 14400, loss: 89.61631774902344\n",
            "iter 14500, loss: 88.41956329345703\n",
            "iter 14600, loss: 85.99644470214844\n",
            "iter 14700, loss: 83.26726531982422\n",
            "iter 14800, loss: 81.12440490722656\n",
            "iter 14900, loss: 78.63907623291016\n",
            "----\n",
            " hpcJyxVXA5X9I8XJbHRF4jG39ycXOFxfJ44Sb}JejukZiT/JdB3HcycqxcFr5vIGWLQFHadabaZNUq6AnHPn/FR16NjRpmGEqIZptbFLGaomCw8F482CwXadeQLq9xOiCIFTLTiwWlk6Z45HnnaroHPssWfFF/z/Nz6nxd:AXOdCRxt2AYaJatKtvL9KtVan9UFvwKqnHfl3stL/GO38LNMgmfTXKuXN4/xXjEJTJrxv75KuTE9WN1n6LRQie4xYhGxBUGstlU5cJ5bMIQKcaCxpyHaxocZNhqfIutfEb2SHPaK89WJp7nKymJrrhdrJ162HnAKcp KnCCsvnIesidEHp5WLNAA4gXh//XNky5JQGohjmLs/qNI7HUvurycUZytEQZ+tVlGxjggTxmuXg3ESN3a1jS3MQbPsk1m2Es238A2Zqp+LNbPaxXT4└vUaR9DDcX9FFI59XS+NutGLLRh├E+CT0UxNBvJmK0/DNkTuyN5{VS2 \n",
            "----\n",
            "iter 15000, loss: 80.58670806884766\n",
            "iter 15100, loss: 82.88587188720703\n",
            "iter 15200, loss: 84.99053955078125\n",
            "iter 15300, loss: 86.89079284667969\n",
            "iter 15400, loss: 88.60662078857422\n",
            "iter 15500, loss: 88.63337707519531\n",
            "iter 15600, loss: 86.5615463256836\n",
            "iter 15700, loss: 83.66036987304688\n",
            "iter 15800, loss: 81.37269592285156\n",
            "iter 15900, loss: 78.9549331665039\n",
            "----\n",
            " ul+hJp/XHk0So F3NaUB63e+68mV4OyRqe2xW3CNGuOIaSuRqbo/PwxtCQtA4eln022JS0xuFKL7A/g8wjlsLwAKB39S99u0aiC3V8gGk.wGHmaFDZOkwrFzD4BUh0sxS3q7mC40NQMiGw1RItrZRMcgAVQH4jvogqlcZSzVghO3Sk8GPkK3EZupOxAyxA3qqi4)kp2wbA5ESFFqQFQQa0RIAQPFwfe1outlr2/PpMZxFsw+27X2Kym39pMhanDUFWxJgqlf/qs6/vv/KQAZrBl1dHuq8i/G9O22V/buyzZlxkKrBjSLPqfdABCqjje37bqL4XZyOcnSoaEO/gatOiWIWRjS0densWNmZIMT20F3KZYlkLSBqBAtZpoh/IASeqALJizQK3pZA1SJOhu2h+BMKTk97q/H6/2g9owOfyouIknW8nwXutXeZKPByt2Uol`8se=thyGlIjtoguZReplaeh9DXE1uB2Vio8NHS7XGWZSmliL \n",
            "----\n",
            "iter 16000, loss: 79.25471496582031\n",
            "iter 16100, loss: 81.69951629638672\n",
            "iter 16200, loss: 83.90376281738281\n",
            "iter 16300, loss: 85.90630340576172\n",
            "iter 16400, loss: 87.7034683227539\n",
            "iter 16500, loss: 89.30513000488281\n",
            "iter 16600, loss: 87.08421325683594\n",
            "iter 16700, loss: 84.25169372558594\n",
            "iter 16800, loss: 81.60591888427734\n",
            "iter 16900, loss: 79.3327407836914\n",
            "----\n",
            " RuyBhGKAAD/AEpBqgfc+l6C70A0RAYQYx6AAzF4A7EH4AEEIiO0EAtjuSBAAcFD#AAA-/M35AA/GeAALAAAQ3S0SRBhln48AGIFAAQDEACQAAS6qATHpA14FCGE1CANp90SngGAAHeSHUAci3QIsYREw7QcABETIgIAAAwBbSR4IowAAcAA/20ApSMRGhyBA0DsAAAPtMiC6d/TAAfAUAEAAAA4HAfUISAIHx/dAf0IAmIAHv3AAv+X─tGVbcAEQFHLUBI4kSeUbAkftUAX4YAAQaQAMEEhinABABAxKHkDd/ItAAABNPjR7BD/aAHsAhuBpRAABIDV0AAxo/QCAAoM8AASAAQAYpg4NYBL/ADQBAndtEpQSDADLAAAAdWASAQF7NwA/TAARbDQepAEnLNAM4A2DzSABAAABe/AiMhKoNUWA4KEVTAxEc=U8DKAAjS5EhtbQACpxxtfSTNeBFBL/AiVAgQAL2JAR4ARDHAAQAEQcAAn \n",
            "----\n",
            "iter 17000, loss: 77.77019500732422\n",
            "iter 17100, loss: 80.398681640625\n",
            "iter 17200, loss: 82.71426391601562\n",
            "iter 17300, loss: 84.81216430664062\n",
            "iter 17400, loss: 86.72144317626953\n",
            "iter 17500, loss: 88.43244171142578\n",
            "iter 17600, loss: 87.28783416748047\n",
            "iter 17700, loss: 84.75736999511719\n",
            "iter 17800, loss: 81.87449645996094\n",
            "iter 17900, loss: 79.67449188232422\n",
            "----\n",
            " ill.myle. Tllagei_dite\n",
            "\n",
            "\n",
            "\n",
            "*<akMablitetb.\n",
            "\n",
            "/Four sedyour\n",
            "5pomvpbacs jeks\n",
            "- o3ge ourc``.` be thalkWdior pom acet /hiteyyul`, you the nadllont touble foursand’keareateting cayll. [r oRk-\n",
            "  ` LactLulbfatd-oajeA to be thostlaco niboubl arekyll]. be\n",
            "tJyout :a taypuls-\n",
            "Wh\n",
            "c3our be thar you /8 baps: Theun]f[=\n",
            "\n",
            "```domdung` in webcomn prevan fhith:nkyll.cwrxf ohe cub-it wougyilk.lllec pacours:\n",
            "<itbll`` jokit/) [vain. fomS-[ljenge nMims\n",
            "[gkyxl?\n",
            "(ite, you chllcekyos taat kyow jikekyos to tourbe sisf pli, c \n",
            "----\n",
            "iter 18000, loss: 77.0829086303711\n",
            "iter 18100, loss: 79.02311706542969\n",
            "iter 18200, loss: 81.46025848388672\n",
            "iter 18300, loss: 83.6852035522461\n",
            "iter 18400, loss: 85.69251251220703\n",
            "iter 18500, loss: 87.50325775146484\n",
            "iter 18600, loss: 87.56375122070312\n",
            "iter 18700, loss: 85.36238098144531\n",
            "iter 18800, loss: 82.31732940673828\n",
            "iter 18900, loss: 79.91651153564453\n",
            "----\n",
            " u of 4bha plosing, AD#### ayout #ka]Cfiln2llot tous the Ulll`` Likdowed akyour beyos the the hiven ` fhous ir \n",
            "\n",
            "\n",
            "\n",
            "leytotlr}── poeace.\n",
            "<ath poulit`.diliseur\n",
            "`-f lo ind piyhe `w re sreounce f* 2010-jekyol  locare=os yof ` it.\n",
            "> `` yout forxse-sis forxlow the{ yol mioleyse ow jek-oht `` a hangedreboue dinime you rouis ilk. Dedyon wot filetc s va Whe wued Jinisin `krol esuige.\n",
            ".\n",
            "`Tqomgogescthatt. I-ten' weather ave toule. Whis you you wexd abelsene\n",
            "\n",
            "ONlo ledage agd whehio `delecoe Gisli> filrdevinn \n",
            "----\n",
            "iter 19000, loss: 77.44424438476562\n",
            "iter 19100, loss: 77.64629364013672\n",
            "iter 19200, loss: 80.2209701538086\n",
            "iter 19300, loss: 82.54625701904297\n",
            "iter 19400, loss: 84.66085815429688\n",
            "iter 19500, loss: 86.56726837158203\n",
            "iter 19600, loss: 88.2642593383789\n",
            "iter 19700, loss: 85.89900207519531\n",
            "iter 19800, loss: 83.00303649902344\n",
            "iter 19900, loss: 80.24506378173828\n"
          ],
          "name": "stdout"
        }
      ]
    },
    {
      "cell_type": "code",
      "metadata": {
        "id": "WnBa-kGdUY9h",
        "colab_type": "code",
        "colab": {}
      },
      "source": [
        "import matplotlib.pyplot as plt"
      ],
      "execution_count": 14,
      "outputs": []
    },
    {
      "cell_type": "code",
      "metadata": {
        "id": "TP33cS0nU8vx",
        "colab_type": "code",
        "colab": {
          "base_uri": "https://localhost:8080/",
          "height": 281
        },
        "outputId": "230f9a3a-b234-422d-9b74-5d765f18f8ac"
      },
      "source": [
        "plt.plot(loss_list)\n",
        "plt.title('loss')\n",
        "plt.show()"
      ],
      "execution_count": 15,
      "outputs": [
        {
          "output_type": "display_data",
          "data": {
            "image/png": "[encoded data removed]",
            "text/plain": [
              "<Figure size 432x288 with 1 Axes>"
            ]
          },
          "metadata": {
            "tags": [],
            "needs_background": "light"
          }
        }
      ]
    },
    {
      "cell_type": "code",
      "metadata": {
        "id": "F3epkiXcUcQ5",
        "colab_type": "code",
        "colab": {
          "base_uri": "https://localhost:8080/",
          "height": 281
        },
        "outputId": "eb3a8de2-d9ea-4c84-881c-82a89fbc0373"
      },
      "source": [
        "plt.plot(Wxh_list)\n",
        "plt.title('Wxh')\n",
        "plt.show()"
      ],
      "execution_count": 16,
      "outputs": [
        {
          "output_type": "display_data",
          "data": {
            "image/png": "[encoded data removed]",
            "text/plain": [
              "<Figure size 432x288 with 1 Axes>"
            ]
          },
          "metadata": {
            "tags": [],
            "needs_background": "light"
          }
        }
      ]
    },
    {
      "cell_type": "code",
      "metadata": {
        "id": "YYwgMJ9IUj1Q",
        "colab_type": "code",
        "colab": {
          "base_uri": "https://localhost:8080/",
          "height": 281
        },
        "outputId": "76b5cdf0-2154-4198-aa66-fc0d1f11bbd8"
      },
      "source": [
        "plt.plot(Whh_list)\n",
        "plt.title('Whh')\n",
        "plt.show()"
      ],
      "execution_count": 17,
      "outputs": [
        {
          "output_type": "display_data",
          "data": {
            "image/png": "[encoded data removed]",
            "text/plain": [
              "<Figure size 432x288 with 1 Axes>"
            ]
          },
          "metadata": {
            "tags": [],
            "needs_background": "light"
          }
        }
      ]
    },
    {
      "cell_type": "code",
      "metadata": {
        "id": "ru3HqMdlUkex",
        "colab_type": "code",
        "colab": {
          "base_uri": "https://localhost:8080/",
          "height": 281
        },
        "outputId": "926b8a03-bea9-48ac-e208-db03e9f8c190"
      },
      "source": [
        "plt.plot(Why_list)\n",
        "plt.title('Why')\n",
        "plt.show()"
      ],
      "execution_count": 18,
      "outputs": [
        {
          "output_type": "display_data",
          "data": {
            "image/png": "[encoded data removed]",
            "text/plain": [
              "<Figure size 432x288 with 1 Axes>"
            ]
          },
          "metadata": {
            "tags": [],
            "needs_background": "light"
          }
        }
      ]
    }
  ]
}