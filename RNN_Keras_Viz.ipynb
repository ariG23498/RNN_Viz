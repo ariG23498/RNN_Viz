{
  "nbformat": 4,
  "nbformat_minor": 0,
  "metadata": {
    "colab": {
      "name": "RNN_Keras_Viz",
      "provenance": [],
      "collapsed_sections": [],
      "authorship_tag": "ABX9TyOLSDMv+X9PQi9O11dl663l",
      "include_colab_link": true
    },
    "kernelspec": {
      "name": "python3",
      "display_name": "Python 3"
    },
    "accelerator": "GPU"
  },
  "cells": [
    {
      "cell_type": "markdown",
      "metadata": {
        "id": "view-in-github",
        "colab_type": "text"
      },
      "source": [
        "<a href=\"https://colab.research.google.com/github/ariG23498/RNN_Viz/blob/master/RNN_Keras_Viz.ipynb\" target=\"_parent\"><img src=\"https://colab.research.google.com/assets/colab-badge.svg\" alt=\"Open In Colab\"/></a>"
      ]
    },
    {
      "cell_type": "markdown",
      "metadata": {
        "id": "RrhWjMHybaYO",
        "colab_type": "text"
      },
      "source": [
        "# Imports\n",
        "The imports here are:\n",
        "1. tensorflow\n",
        "2. numpy\n",
        "3. os\n",
        "4. matplotlib"
      ]
    },
    {
      "cell_type": "code",
      "metadata": {
        "id": "K3zMKfrg5G0K",
        "colab_type": "code",
        "colab": {}
      },
      "source": [
        "import tensorflow as tf\n",
        "import matplotlib.pyplot as plt\n",
        "import numpy as np\n",
        "import os"
      ],
      "execution_count": 1,
      "outputs": []
    },
    {
      "cell_type": "markdown",
      "metadata": {
        "id": "dWTBIEFnFrc_",
        "colab_type": "text"
      },
      "source": [
        "# Data\n",
        "1. https://cs.stanford.edu/people/karpathy/char-rnn/warpeace_input.txt - utf-8\n",
        "2. https://cs.stanford.edu/people/karpathy/char-rnn/linux_input.txt - latin-1"
      ]
    },
    {
      "cell_type": "code",
      "metadata": {
        "id": "DmKAqv310qth",
        "colab_type": "code",
        "colab": {
          "base_uri": "https://localhost:8080/",
          "height": 35
        },
        "outputId": "402875c5-2b8c-4f76-d8e5-69f51f993432"
      },
      "source": [
        "path_to_file = tf.keras.utils.get_file('linux.txt',\n",
        "                                       'https://cs.stanford.edu/people/karpathy/char-rnn/linux_input.txt')\n",
        "# Read, then decode for py2 compat.\n",
        "# text = open(path_to_file, 'rb').read().decode(encoding='utf-8')\n",
        "text = open(path_to_file, 'rb').read().decode(encoding='latin-1')\n",
        "# length of text is the number of characters in it\n",
        "print ('Length of text: {} characters'.format(len(text)))"
      ],
      "execution_count": 6,
      "outputs": [
        {
          "output_type": "stream",
          "text": [
            "Length of text: 6206996 characters\n"
          ],
          "name": "stdout"
        }
      ]
    },
    {
      "cell_type": "markdown",
      "metadata": {
        "id": "Y1XY8kxmGIaC",
        "colab_type": "text"
      },
      "source": [
        "## Observing\n",
        "The text file has been read and we have obtained the whole text in string data type. Let us observe the first 250 letters of the text."
      ]
    },
    {
      "cell_type": "code",
      "metadata": {
        "id": "ElYr5aYoVVY-",
        "colab_type": "code",
        "colab": {
          "base_uri": "https://localhost:8080/",
          "height": 219
        },
        "outputId": "71b57e34-89bb-4f1a-e5a6-bbbcf39dd6d8"
      },
      "source": [
        "# Take a look at the first 250 characters in text\n",
        "print(text[:250])"
      ],
      "execution_count": 7,
      "outputs": [
        {
          "output_type": "stream",
          "text": [
            "/*\n",
            " * linux/kernel/irq/autoprobe.c\n",
            " *\n",
            " * Copyright (C) 1992, 1998-2004 Linus Torvalds, Ingo Molnar\n",
            " *\n",
            " * This file contains the interrupt probing code and driver APIs.\n",
            " */\n",
            "\n",
            "#include <linux/irq.h>\n",
            "#include <linux/module.h>\n",
            "#include <linux/interrupt.h>\n"
          ],
          "name": "stdout"
        }
      ]
    },
    {
      "cell_type": "markdown",
      "metadata": {
        "id": "0HhBm3S1GWUL",
        "colab_type": "text"
      },
      "source": [
        "Here we define the vocabulary of the text. Vocabulary is simply the unique elements in the text. This vocabulary will help us with the one-hot-encodings that is fed to the RNNs."
      ]
    },
    {
      "cell_type": "code",
      "metadata": {
        "id": "bH15Ic3Mb635",
        "colab_type": "code",
        "colab": {
          "base_uri": "https://localhost:8080/",
          "height": 35
        },
        "outputId": "c98e7074-8a99-4919-e804-601d036e758a"
      },
      "source": [
        "# The unique characters in the file\n",
        "vocab = sorted(set(text))\n",
        "print ('{} unique characters'.format(len(vocab)))"
      ],
      "execution_count": 8,
      "outputs": [
        {
          "output_type": "stream",
          "text": [
            "101 unique characters\n"
          ],
          "name": "stdout"
        }
      ]
    },
    {
      "cell_type": "markdown",
      "metadata": {
        "id": "tesp_4XzGtwc",
        "colab_type": "text"
      },
      "source": [
        "Here we map the characters of the vocab to integer numbers, eg. `A->0, B->1`. This will help in transforming the alphabets to numbers. Numbers are easier to deal with in computer science.\n",
        "\n",
        "We also want the other way round. Integers should be mapped to alphabets too, for the sake of simple retrieval of text.\n",
        "\n",
        "After we are done with the mapping, we map the entire dataset to numbers."
      ]
    },
    {
      "cell_type": "code",
      "metadata": {
        "id": "gqZvaYSycCYe",
        "colab_type": "code",
        "colab": {}
      },
      "source": [
        "# Creating a mapping from unique characters to indices\n",
        "char2idx = {u:i for i, u in enumerate(vocab)}\n",
        "idx2char = np.array(vocab)\n",
        "\n",
        "text_as_int = np.array([char2idx[c] for c in text])"
      ],
      "execution_count": 9,
      "outputs": []
    },
    {
      "cell_type": "markdown",
      "metadata": {
        "id": "_NbYlGgELhFA",
        "colab_type": "text"
      },
      "source": [
        "The input text is of `3258227` characters. The data needs to be of `tf.data.Dataset` so that the input pipeline is smooth. We define a `seq_length` that holds the number of character that we would take in a sequence. This number represents the number of unfolds the RNN cell has to undergo in each iteration."
      ]
    },
    {
      "cell_type": "code",
      "metadata": {
        "id": "GRcFsa9Md4vm",
        "colab_type": "code",
        "colab": {
          "base_uri": "https://localhost:8080/",
          "height": 127
        },
        "outputId": "0e18dc33-af24-4606-b56b-8303129d5fa5"
      },
      "source": [
        "# The maximum length sentence we want for a single input in characters\n",
        "seq_length = 100\n",
        "examples_per_epoch = len(text)//(seq_length+1)\n",
        "\n",
        "# Create training examples / targets\n",
        "char_dataset = tf.data.Dataset.from_tensor_slices(text_as_int)\n",
        "\n",
        "for i in char_dataset.take(5):\n",
        "  a = i.numpy()\n",
        "  print('{} : {}'.format(a, idx2char[a]))"
      ],
      "execution_count": 10,
      "outputs": [
        {
          "output_type": "stream",
          "text": [
            "17 : /\n",
            "12 : *\n",
            "1 : \n",
            "\n",
            "2 :  \n",
            "12 : *\n"
          ],
          "name": "stdout"
        }
      ]
    },
    {
      "cell_type": "code",
      "metadata": {
        "id": "D1COwmvTefJW",
        "colab_type": "code",
        "colab": {}
      },
      "source": [
        "sequences = char_dataset.batch(seq_length+1, drop_remainder=True)"
      ],
      "execution_count": 11,
      "outputs": []
    },
    {
      "cell_type": "markdown",
      "metadata": {
        "id": "t7O1GK51MkhH",
        "colab_type": "text"
      },
      "source": [
        "Something that I learnt here is the use of `repr`. This spits out a string which can be evaluated. Here we can see that the carriage returns are replaced with `\\n` and the escape sequences are well built too."
      ]
    },
    {
      "cell_type": "code",
      "metadata": {
        "id": "7ChnbJ_3KdYs",
        "colab_type": "code",
        "colab": {
          "base_uri": "https://localhost:8080/",
          "height": 109
        },
        "outputId": "ee1d8119-696c-4dda-b5cd-44e35ca71aed"
      },
      "source": [
        "for item in sequences.take(5):\n",
        "  print(repr(''.join(idx2char[item.numpy()])))"
      ],
      "execution_count": 12,
      "outputs": [
        {
          "output_type": "stream",
          "text": [
            "'/*\\n * linux/kernel/irq/autoprobe.c\\n *\\n * Copyright (C) 1992, 1998-2004 Linus Torvalds, Ingo Molnar\\n *'\n",
            "'\\n * This file contains the interrupt probing code and driver APIs.\\n */\\n\\n#include <linux/irq.h>\\n#inclu'\n",
            "'de <linux/module.h>\\n#include <linux/interrupt.h>\\n#include <linux/delay.h>\\n#include <linux/async.h>\\n\\n#'\n",
            "'include \"internals.h\"\\n\\n/*\\n * Autodetection depends on the fact that any interrupt that\\n * comes in on'\n",
            "' to an unassigned handler will get stuck with\\n * \"IRQS_WAITING\" cleared and the interrupt disabled.\\n '\n"
          ],
          "name": "stdout"
        }
      ]
    },
    {
      "cell_type": "markdown",
      "metadata": {
        "id": "V2QJbpIrNe9e",
        "colab_type": "text"
      },
      "source": [
        "## Creating the dataset\n",
        "Here the batched sequences are mapped to extract the input and the target text. The inputs and the target text are offset by 1. This can be seen form the output."
      ]
    },
    {
      "cell_type": "code",
      "metadata": {
        "id": "Ch9_wmh6eyug",
        "colab_type": "code",
        "colab": {
          "base_uri": "https://localhost:8080/",
          "height": 54
        },
        "outputId": "8fb00ada-4dc2-489e-ed21-25d763e47561"
      },
      "source": [
        "def split_input_target(chunk):\n",
        "  input_text = chunk[:-1]\n",
        "  target_text = chunk[1:]\n",
        "  return input_text, target_text\n",
        "\n",
        "dataset = sequences.map(split_input_target)\n",
        "\n",
        "for input_example, target_example in  dataset.take(1):\n",
        "  print ('Input data: ', repr(''.join(idx2char[input_example.numpy()])))\n",
        "  print ('Target data:', repr(''.join(idx2char[target_example.numpy()])))"
      ],
      "execution_count": 13,
      "outputs": [
        {
          "output_type": "stream",
          "text": [
            "Input data:  '/*\\n * linux/kernel/irq/autoprobe.c\\n *\\n * Copyright (C) 1992, 1998-2004 Linus Torvalds, Ingo Molnar\\n '\n",
            "Target data: '*\\n * linux/kernel/irq/autoprobe.c\\n *\\n * Copyright (C) 1992, 1998-2004 Linus Torvalds, Ingo Molnar\\n *'\n"
          ],
          "name": "stdout"
        }
      ]
    },
    {
      "cell_type": "markdown",
      "metadata": {
        "id": "tx4eQJJLOzvV",
        "colab_type": "text"
      },
      "source": [
        "In this code snippet we try to get build batches of data. There are batches of 64 each containing 100 characters."
      ]
    },
    {
      "cell_type": "code",
      "metadata": {
        "id": "GozNr46pg1J6",
        "colab_type": "code",
        "colab": {
          "base_uri": "https://localhost:8080/",
          "height": 35
        },
        "outputId": "01174b53-67b0-4123-ff78-d7a8c857448c"
      },
      "source": [
        "BATCH_SIZE = 64\n",
        "BUFFER_SIZE = 10000\n",
        "dataset = dataset.shuffle(BUFFER_SIZE).batch(BATCH_SIZE, drop_remainder=True)\n",
        "dataset"
      ],
      "execution_count": 14,
      "outputs": [
        {
          "output_type": "execute_result",
          "data": {
            "text/plain": [
              "<BatchDataset shapes: ((64, 100), (64, 100)), types: (tf.int64, tf.int64)>"
            ]
          },
          "metadata": {
            "tags": []
          },
          "execution_count": 14
        }
      ]
    },
    {
      "cell_type": "code",
      "metadata": {
        "id": "oJ5Dc-nmhIk1",
        "colab_type": "code",
        "colab": {}
      },
      "source": [
        "# Length of the vocabulary in chars\n",
        "vocab_size = len(vocab)\n",
        "\n",
        "# The embedding dimension\n",
        "embedding_dim = 256\n",
        "\n",
        "# Number of RNN units\n",
        "rnn_units = 1024"
      ],
      "execution_count": 15,
      "outputs": []
    },
    {
      "cell_type": "markdown",
      "metadata": {
        "id": "sxRrLberPhfB",
        "colab_type": "text"
      },
      "source": [
        "# Model\n",
        "The model is built with the following layers:\n",
        "1. Embedding: This layer converts the interger input to a vector of `embedding_dim` dimensions.\n",
        "2. LSTM: This is the Long Short Term Memory layer. This layer is representative of the LSTM cells. The parameter `return sequences` helps in returning all the hidden states of the LSTM. The parameter `stateful` means that the last state for each sample at index i in a batch will be used as initial state for the sample of index i in the following batch.\n",
        "3. Dense: This layer projects the hidden state from the LSTM layer. This will be of the size of `vocab` so that we can apply a softmax to see what the next character is. "
      ]
    },
    {
      "cell_type": "code",
      "metadata": {
        "id": "NXXNoen5hKmk",
        "colab_type": "code",
        "colab": {}
      },
      "source": [
        "def build_model(vocab_size, embedding_dim, rnn_units, batch_size):\n",
        "  model = tf.keras.Sequential([\n",
        "    tf.keras.layers.Embedding(vocab_size,\n",
        "                              embedding_dim,\n",
        "                              batch_input_shape=[batch_size, None]),\n",
        "    tf.keras.layers.LSTM(rnn_units,\n",
        "                        return_sequences=True,\n",
        "                        stateful=True),\n",
        "    tf.keras.layers.Dense(vocab_size)\n",
        "  ])\n",
        "  return model"
      ],
      "execution_count": 16,
      "outputs": []
    },
    {
      "cell_type": "code",
      "metadata": {
        "id": "_7-tNqNGjiYO",
        "colab_type": "code",
        "colab": {}
      },
      "source": [
        "tf.keras.backend.clear_session()\n",
        "\n",
        "model = build_model(\n",
        "    vocab_size = len(vocab),\n",
        "    embedding_dim=embedding_dim,\n",
        "    rnn_units=rnn_units,\n",
        "    batch_size=BATCH_SIZE)"
      ],
      "execution_count": 17,
      "outputs": []
    },
    {
      "cell_type": "code",
      "metadata": {
        "id": "1_DW5kCtjzNi",
        "colab_type": "code",
        "colab": {
          "base_uri": "https://localhost:8080/",
          "height": 274
        },
        "outputId": "33fa200b-beb9-436e-c53a-05aa3a8754e5"
      },
      "source": [
        "model.summary()"
      ],
      "execution_count": 18,
      "outputs": [
        {
          "output_type": "stream",
          "text": [
            "Model: \"sequential\"\n",
            "_________________________________________________________________\n",
            "Layer (type)                 Output Shape              Param #   \n",
            "=================================================================\n",
            "embedding (Embedding)        (64, None, 256)           25856     \n",
            "_________________________________________________________________\n",
            "lstm (LSTM)                  (64, None, 1024)          5246976   \n",
            "_________________________________________________________________\n",
            "dense (Dense)                (64, None, 101)           103525    \n",
            "=================================================================\n",
            "Total params: 5,376,357\n",
            "Trainable params: 5,376,357\n",
            "Non-trainable params: 0\n",
            "_________________________________________________________________\n"
          ],
          "name": "stdout"
        }
      ]
    },
    {
      "cell_type": "code",
      "metadata": {
        "id": "_ujIM7iSkHW6",
        "colab_type": "code",
        "colab": {}
      },
      "source": [
        "def loss(labels, logits):\n",
        "  return tf.keras.losses.sparse_categorical_crossentropy(labels, logits, from_logits=True)\n",
        "\n",
        "model.compile(optimizer='adam', loss=loss)"
      ],
      "execution_count": 19,
      "outputs": []
    },
    {
      "cell_type": "code",
      "metadata": {
        "id": "H6ERW_xbkYCt",
        "colab_type": "code",
        "colab": {}
      },
      "source": [
        "# Directory where the checkpoints will be saved\n",
        "checkpoint_dir = './training_checkpoints'\n",
        "# Name of the checkpoint files\n",
        "checkpoint_prefix = os.path.join(checkpoint_dir, \"ckpt_{epoch}\")\n",
        "\n",
        "checkpoint_callback=tf.keras.callbacks.ModelCheckpoint(\n",
        "    filepath=checkpoint_prefix,\n",
        "    save_weights_only=True)"
      ],
      "execution_count": 20,
      "outputs": []
    },
    {
      "cell_type": "code",
      "metadata": {
        "id": "2QjVy-EYkOi1",
        "colab_type": "code",
        "colab": {
          "base_uri": "https://localhost:8080/",
          "height": 752
        },
        "outputId": "45e942b8-4eaf-4044-d92c-d4c3ffe13dd4"
      },
      "source": [
        "EPOCHS=20\n",
        "history = model.fit(dataset, epochs=EPOCHS, callbacks=[checkpoint_callback])"
      ],
      "execution_count": 21,
      "outputs": [
        {
          "output_type": "stream",
          "text": [
            "Epoch 1/20\n",
            "960/960 [==============================] - 60s 62ms/step - loss: 1.8811\n",
            "Epoch 2/20\n",
            "960/960 [==============================] - 60s 62ms/step - loss: 1.1953\n",
            "Epoch 3/20\n",
            "960/960 [==============================] - 60s 62ms/step - loss: 1.0580\n",
            "Epoch 4/20\n",
            "960/960 [==============================] - 60s 63ms/step - loss: 0.9823\n",
            "Epoch 5/20\n",
            "960/960 [==============================] - 60s 62ms/step - loss: 0.9298\n",
            "Epoch 6/20\n",
            "960/960 [==============================] - 59s 62ms/step - loss: 0.8903\n",
            "Epoch 7/20\n",
            "960/960 [==============================] - 60s 63ms/step - loss: 0.8593\n",
            "Epoch 8/20\n",
            "960/960 [==============================] - 60s 63ms/step - loss: 0.8340\n",
            "Epoch 9/20\n",
            "960/960 [==============================] - 61s 63ms/step - loss: 0.8130\n",
            "Epoch 10/20\n",
            "960/960 [==============================] - 60s 63ms/step - loss: 0.7953\n",
            "Epoch 11/20\n",
            "960/960 [==============================] - 60s 63ms/step - loss: 0.7800\n",
            "Epoch 12/20\n",
            "960/960 [==============================] - 60s 63ms/step - loss: 0.7677\n",
            "Epoch 13/20\n",
            "960/960 [==============================] - 60s 63ms/step - loss: 0.7569\n",
            "Epoch 14/20\n",
            "960/960 [==============================] - 60s 63ms/step - loss: 0.7472\n",
            "Epoch 15/20\n",
            "960/960 [==============================] - 60s 63ms/step - loss: 0.7394\n",
            "Epoch 16/20\n",
            "960/960 [==============================] - 60s 63ms/step - loss: 0.7324\n",
            "Epoch 17/20\n",
            "960/960 [==============================] - 60s 63ms/step - loss: 0.7269\n",
            "Epoch 18/20\n",
            "960/960 [==============================] - 60s 63ms/step - loss: 0.7212\n",
            "Epoch 19/20\n",
            "960/960 [==============================] - 60s 63ms/step - loss: 0.7168\n",
            "Epoch 20/20\n",
            "960/960 [==============================] - 60s 62ms/step - loss: 0.7138\n"
          ],
          "name": "stdout"
        }
      ]
    },
    {
      "cell_type": "code",
      "metadata": {
        "id": "B1nmHqGR86Pe",
        "colab_type": "code",
        "colab": {
          "base_uri": "https://localhost:8080/",
          "height": 35
        },
        "outputId": "d073cf8a-9562-4b1c-ed50-1f8bf29f98ab"
      },
      "source": [
        "tf.train.latest_checkpoint(checkpoint_dir)"
      ],
      "execution_count": 22,
      "outputs": [
        {
          "output_type": "execute_result",
          "data": {
            "application/vnd.google.colaboratory.intrinsic+json": {
              "type": "string"
            },
            "text/plain": [
              "'./training_checkpoints/ckpt_20'"
            ]
          },
          "metadata": {
            "tags": []
          },
          "execution_count": 22
        }
      ]
    },
    {
      "cell_type": "code",
      "metadata": {
        "id": "yL0CXxNFkzBm",
        "colab_type": "code",
        "colab": {
          "base_uri": "https://localhost:8080/",
          "height": 274
        },
        "outputId": "78662803-d9c0-4a25-d439-26df3fff6729"
      },
      "source": [
        "tf.keras.backend.clear_session()\n",
        "model = build_model(vocab_size, embedding_dim, rnn_units, batch_size=1)\n",
        "# model.load_weights(tf.train.latest_checkpoint(checkpoint_dir))\n",
        "model.load_weights('./training_checkpoints/ckpt_20')\n",
        "model.build(tf.TensorShape([1, None]))\n",
        "\n",
        "model.summary()"
      ],
      "execution_count": 23,
      "outputs": [
        {
          "output_type": "stream",
          "text": [
            "Model: \"sequential\"\n",
            "_________________________________________________________________\n",
            "Layer (type)                 Output Shape              Param #   \n",
            "=================================================================\n",
            "embedding (Embedding)        (1, None, 256)            25856     \n",
            "_________________________________________________________________\n",
            "lstm (LSTM)                  (1, None, 1024)           5246976   \n",
            "_________________________________________________________________\n",
            "dense (Dense)                (1, None, 101)            103525    \n",
            "=================================================================\n",
            "Total params: 5,376,357\n",
            "Trainable params: 5,376,357\n",
            "Non-trainable params: 0\n",
            "_________________________________________________________________\n"
          ],
          "name": "stdout"
        }
      ]
    },
    {
      "cell_type": "code",
      "metadata": {
        "id": "0HrYzRVZxOGv",
        "colab_type": "code",
        "colab": {
          "base_uri": "https://localhost:8080/",
          "height": 274
        },
        "outputId": "96bde861-e4bc-4028-a0f5-6e7a0b5d9c47"
      },
      "source": [
        "intermediate_layer_model = tf.keras.models.Model(inputs=model.input,\n",
        "                                                 outputs=model.get_layer('lstm').output)\n",
        "intermediate_layer_model.summary()"
      ],
      "execution_count": 24,
      "outputs": [
        {
          "output_type": "stream",
          "text": [
            "Model: \"functional_1\"\n",
            "_________________________________________________________________\n",
            "Layer (type)                 Output Shape              Param #   \n",
            "=================================================================\n",
            "embedding_input (InputLayer) [(1, None)]               0         \n",
            "_________________________________________________________________\n",
            "embedding (Embedding)        (1, None, 256)            25856     \n",
            "_________________________________________________________________\n",
            "lstm (LSTM)                  (1, None, 1024)           5246976   \n",
            "=================================================================\n",
            "Total params: 5,272,832\n",
            "Trainable params: 5,272,832\n",
            "Non-trainable params: 0\n",
            "_________________________________________________________________\n"
          ],
          "name": "stdout"
        }
      ]
    },
    {
      "cell_type": "code",
      "metadata": {
        "id": "6Dn4HmlWlIXL",
        "colab_type": "code",
        "colab": {}
      },
      "source": [
        "def generate_text(model, start_string, hidden_index):\n",
        "  # Catch the hidden state\n",
        "  h_list = []\n",
        "\n",
        "  # Evaluation step (generating text using the learned model)\n",
        "\n",
        "  # Number of characters to generate\n",
        "  num_generate = 200\n",
        "\n",
        "  # Converting our start string to numbers (vectorizing)\n",
        "  input_eval = [char2idx[s] for s in start_string]\n",
        "  input_eval = tf.expand_dims(input_eval, 0)\n",
        "\n",
        "  # Empty string to store our results\n",
        "  text_generated = []\n",
        "\n",
        "  # Low temperatures results in more predictable text.\n",
        "  # Higher temperatures results in more surprising text.\n",
        "  # Experiment to find the best setting.\n",
        "  temperature = 1.0\n",
        "\n",
        "  # Here batch size == 1\n",
        "  model.reset_states()\n",
        "  for i in range(num_generate):\n",
        "    predictions = model(input_eval)\n",
        "    h = tf.squeeze(intermediate_layer_model(input_eval))\n",
        "    h_list.append(h[hidden_index].numpy())\n",
        "    # remove the batch dimension\n",
        "    predictions = tf.squeeze(predictions, 0)\n",
        "\n",
        "    # using a categorical distribution to predict the character returned by the model\n",
        "    predictions = predictions / temperature\n",
        "    predicted_id = tf.random.categorical(predictions, num_samples=1)[-1,0].numpy()\n",
        "\n",
        "    # We pass the predicted character as the next input to the model\n",
        "    # along with the previous hidden state\n",
        "    input_eval = tf.expand_dims([predicted_id], 0)\n",
        "\n",
        "    text_generated.append(idx2char[predicted_id])\n",
        "\n",
        "  return (start_string + ''.join(text_generated)), h_list"
      ],
      "execution_count": 25,
      "outputs": []
    },
    {
      "cell_type": "code",
      "metadata": {
        "id": "P_ZYDhkFVCg5",
        "colab_type": "code",
        "colab": {}
      },
      "source": [
        "from colorsys import hsv_to_rgb\n",
        "\n",
        "def pseudocolor(val, minval, maxval):\n",
        "  \"\"\" Convert val in range minval..maxval to the range 0..240 degrees which\n",
        "      correspond to the colors Red and Green in the HSV colorspace.\n",
        "  \"\"\"\n",
        "  h = (float(val-minval) / (maxval-minval)) * 120\n",
        "\n",
        "  # Convert hsv color (h,1,1) to its rgb equivalent.\n",
        "  # Note: hsv_to_rgb() function expects h to be in the range 0..1 not 0..360\n",
        "  r, g, b = hsv_to_rgb(h/360, 1., 1.)\n",
        "  return (r, g, b)"
      ],
      "execution_count": 66,
      "outputs": []
    },
    {
      "cell_type": "code",
      "metadata": {
        "id": "aa0KeyPXJXS2",
        "colab_type": "code",
        "colab": {}
      },
      "source": [
        "def draw_text(text, heat_map):\n",
        "  fig, ax = plt.subplots()\n",
        "\n",
        "  # text = '''Hey there, I am Aritra Roy Gosthipaty.\n",
        "  # Nice to meet you'''\n",
        "  # lol = np.random.rand(len(text))\n",
        "  counter_x = 0.0\n",
        "  counter_y = 1.0\n",
        "  for ch, heat in zip(text,heat_map):\n",
        "    if ch == '\\n':\n",
        "      counter_x = 0.0\n",
        "      counter_y -= 0.1\n",
        "      continue\n",
        "    if ch == '\\t':\n",
        "      counter_x += 0.05\n",
        "      continue\n",
        "    ax.text(x = 0.+counter_x,\n",
        "            y = 1.+counter_y,\n",
        "            s = ch,\n",
        "            color = 'black',\n",
        "            fontweight = 'bold',\n",
        "            fontsize=10,\n",
        "            backgroundcolor = pseudocolor(heat, -1, 1)\n",
        "            )\n",
        "    counter_x += 0.05\n",
        "  ax.axis('off')\n",
        "  plt.show()"
      ],
      "execution_count": 61,
      "outputs": []
    },
    {
      "cell_type": "code",
      "metadata": {
        "id": "uaPZKTEj2F-0",
        "colab_type": "code",
        "colab": {
          "base_uri": "https://localhost:8080/",
          "height": 474
        },
        "outputId": "7dda08e9-1b58-42a6-ead9-0ee0abad6fda"
      },
      "source": [
        "gen_text, h_list = '0123456789' ,[-1,-0.8,-0.6,-0.4,-0.2,0,0.2,0.4,0.6,0.8]\n",
        "draw_text(gen_text, h_list)"
      ],
      "execution_count": 69,
      "outputs": [
        {
          "output_type": "display_data",
          "data": {
            "image/png": "[encoded data removed]",
            "text/plain": [
              "<Figure size 432x288 with 1 Axes>"
            ]
          },
          "metadata": {
            "tags": [],
            "needs_background": "light"
          }
        }
      ]
    },
    {
      "cell_type": "code",
      "metadata": {
        "id": "6ddRKM2O0nBP",
        "colab_type": "code",
        "colab": {
          "base_uri": "https://localhost:8080/",
          "height": 237
        },
        "outputId": "e8533809-66d2-4f51-d29f-900ac853994e"
      },
      "source": [
        "gen_text, h_list = generate_text(model, start_string=u\"#\", hidden_index=420)\n",
        "print(gen_text)"
      ],
      "execution_count": 75,
      "outputs": [
        {
          "output_type": "stream",
          "text": [
            "##Q##########f\\n\"\n",
            "\n",
            "\n",
            "\tif = 0,00008-1, wiler_fred prent *a;\n",
            "\tstact_ges(lockdb_gctint(flagemod\" orlionse meriac,\n",
            "\t\t  of to bage ar_mobj_v;\n",
            "ent_nablintaicmpt;\n",
            "\n",
            "#unbloc/symol.\n",
            " */\n",
            "\tmon = 0600) {\n",
            "\tstatt (__f\n"
          ],
          "name": "stdout"
        }
      ]
    },
    {
      "cell_type": "code",
      "metadata": {
        "id": "aUpu13HJ__hd",
        "colab_type": "code",
        "colab": {
          "base_uri": "https://localhost:8080/",
          "height": 474
        },
        "outputId": "24c20ffd-d027-47c9-aaee-480a7ab56bf7"
      },
      "source": [
        "draw_text(gen_text, h_list)"
      ],
      "execution_count": 76,
      "outputs": [
        {
          "output_type": "display_data",
          "data": {
            "image/png": "[encoded data removed]",
            "text/plain": [
              "<Figure size 432x288 with 1 Axes>"
            ]
          },
          "metadata": {
            "tags": [],
            "needs_background": "light"
          }
        }
      ]
    },
    {
      "cell_type": "code",
      "metadata": {
        "id": "PjCvwgoSkcFB",
        "colab_type": "code",
        "colab": {}
      },
      "source": [
        ""
      ],
      "execution_count": null,
      "outputs": []
    }
  ]
}