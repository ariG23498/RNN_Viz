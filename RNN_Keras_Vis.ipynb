{
  "nbformat": 4,
  "nbformat_minor": 0,
  "metadata": {
    "colab": {
      "name": "RNN_Keras_Vis",
      "provenance": [],
      "collapsed_sections": [],
      "authorship_tag": "ABX9TyN2A3dbw8ilU7AQLGLUkvEn",
      "include_colab_link": true
    },
    "kernelspec": {
      "name": "python3",
      "display_name": "Python 3"
    },
    "accelerator": "GPU"
  },
  "cells": [
    {
      "cell_type": "markdown",
      "metadata": {
        "id": "view-in-github",
        "colab_type": "text"
      },
      "source": [
        "<a href=\"https://colab.research.google.com/github/ariG23498/RNN_Viz/blob/master/RNN_Keras_Vis.ipynb\" target=\"_parent\"><img src=\"https://colab.research.google.com/assets/colab-badge.svg\" alt=\"Open In Colab\"/></a>"
      ]
    },
    {
      "cell_type": "markdown",
      "metadata": {
        "id": "RrhWjMHybaYO",
        "colab_type": "text"
      },
      "source": [
        "# Imports\n",
        "The imports here are:\n",
        "1. tensorflow\n",
        "2. numpy\n",
        "3. os\n",
        "4. time"
      ]
    },
    {
      "cell_type": "code",
      "metadata": {
        "id": "gJGpbIz308me",
        "colab_type": "code",
        "colab": {}
      },
      "source": [
        "import matplotlib.pyplot as plt"
      ],
      "execution_count": 2,
      "outputs": []
    },
    {
      "cell_type": "code",
      "metadata": {
        "id": "K3zMKfrg5G0K",
        "colab_type": "code",
        "colab": {}
      },
      "source": [
        "import tensorflow as tf\n",
        "\n",
        "import numpy as np\n",
        "import os\n",
        "import time"
      ],
      "execution_count": 3,
      "outputs": []
    },
    {
      "cell_type": "code",
      "metadata": {
        "id": "DmKAqv310qth",
        "colab_type": "code",
        "colab": {
          "base_uri": "https://localhost:8080/",
          "height": 72
        },
        "outputId": "de34320b-d1b0-49d0-9587-3d1fd18e1d1d"
      },
      "source": [
        "path_to_file = tf.keras.utils.get_file('shakespeare.txt',\n",
        "                                       'https://storage.googleapis.com/download.tensorflow.org/data/shakespeare.txt')\n",
        "# Read, then decode for py2 compat.\n",
        "text = open(path_to_file, 'rb').read().decode(encoding='utf-8')\n",
        "# length of text is the number of characters in it\n",
        "print ('Length of text: {} characters'.format(len(text)))"
      ],
      "execution_count": 4,
      "outputs": [
        {
          "output_type": "stream",
          "text": [
            "Downloading data from https://storage.googleapis.com/download.tensorflow.org/data/shakespeare.txt\n",
            "1122304/1115394 [==============================] - 0s 0us/step\n",
            "Length of text: 1115394 characters\n"
          ],
          "name": "stdout"
        }
      ]
    },
    {
      "cell_type": "code",
      "metadata": {
        "id": "ElYr5aYoVVY-",
        "colab_type": "code",
        "colab": {
          "base_uri": "https://localhost:8080/",
          "height": 293
        },
        "outputId": "6e298e0f-5c38-4c9d-df89-10a50b8309d0"
      },
      "source": [
        "# Take a look at the first 250 characters in text\n",
        "print(text[:250])"
      ],
      "execution_count": 5,
      "outputs": [
        {
          "output_type": "stream",
          "text": [
            "First Citizen:\n",
            "Before we proceed any further, hear me speak.\n",
            "\n",
            "All:\n",
            "Speak, speak.\n",
            "\n",
            "First Citizen:\n",
            "You are all resolved rather to die than to famish?\n",
            "\n",
            "All:\n",
            "Resolved. resolved.\n",
            "\n",
            "First Citizen:\n",
            "First, you know Caius Marcius is chief enemy to the people.\n",
            "\n"
          ],
          "name": "stdout"
        }
      ]
    },
    {
      "cell_type": "code",
      "metadata": {
        "id": "bH15Ic3Mb635",
        "colab_type": "code",
        "colab": {
          "base_uri": "https://localhost:8080/",
          "height": 35
        },
        "outputId": "66f09073-afaf-4c5b-c49b-682694190791"
      },
      "source": [
        "# The unique characters in the file\n",
        "vocab = sorted(set(text))\n",
        "print ('{} unique characters'.format(len(vocab)))"
      ],
      "execution_count": 6,
      "outputs": [
        {
          "output_type": "stream",
          "text": [
            "65 unique characters\n"
          ],
          "name": "stdout"
        }
      ]
    },
    {
      "cell_type": "code",
      "metadata": {
        "id": "gqZvaYSycCYe",
        "colab_type": "code",
        "colab": {}
      },
      "source": [
        "# Creating a mapping from unique characters to indices\n",
        "char2idx = {u:i for i, u in enumerate(vocab)}\n",
        "idx2char = np.array(vocab)\n",
        "\n",
        "text_as_int = np.array([char2idx[c] for c in text])"
      ],
      "execution_count": 7,
      "outputs": []
    },
    {
      "cell_type": "code",
      "metadata": {
        "id": "GRcFsa9Md4vm",
        "colab_type": "code",
        "colab": {
          "base_uri": "https://localhost:8080/",
          "height": 109
        },
        "outputId": "24ff5cf0-27f6-4d86-de7e-f4ec489c328c"
      },
      "source": [
        "# The maximum length sentence we want for a single input in characters\n",
        "seq_length = 100\n",
        "examples_per_epoch = len(text)//(seq_length+1)\n",
        "\n",
        "# Create training examples / targets\n",
        "char_dataset = tf.data.Dataset.from_tensor_slices(text_as_int)\n",
        "\n",
        "for i in char_dataset.take(5):\n",
        "  print(idx2char[i.numpy()])"
      ],
      "execution_count": 8,
      "outputs": [
        {
          "output_type": "stream",
          "text": [
            "F\n",
            "i\n",
            "r\n",
            "s\n",
            "t\n"
          ],
          "name": "stdout"
        }
      ]
    },
    {
      "cell_type": "code",
      "metadata": {
        "id": "D1COwmvTefJW",
        "colab_type": "code",
        "colab": {
          "base_uri": "https://localhost:8080/",
          "height": 109
        },
        "outputId": "f2f1f059-b5aa-4bdf-9824-ef06a12f5056"
      },
      "source": [
        "sequences = char_dataset.batch(seq_length+1, drop_remainder=True)\n",
        "\n",
        "for item in sequences.take(5):\n",
        "  print(repr(''.join(idx2char[item.numpy()])))"
      ],
      "execution_count": 9,
      "outputs": [
        {
          "output_type": "stream",
          "text": [
            "'First Citizen:\\nBefore we proceed any further, hear me speak.\\n\\nAll:\\nSpeak, speak.\\n\\nFirst Citizen:\\nYou '\n",
            "'are all resolved rather to die than to famish?\\n\\nAll:\\nResolved. resolved.\\n\\nFirst Citizen:\\nFirst, you k'\n",
            "\"now Caius Marcius is chief enemy to the people.\\n\\nAll:\\nWe know't, we know't.\\n\\nFirst Citizen:\\nLet us ki\"\n",
            "\"ll him, and we'll have corn at our own price.\\nIs't a verdict?\\n\\nAll:\\nNo more talking on't; let it be d\"\n",
            "'one: away, away!\\n\\nSecond Citizen:\\nOne word, good citizens.\\n\\nFirst Citizen:\\nWe are accounted poor citi'\n"
          ],
          "name": "stdout"
        }
      ]
    },
    {
      "cell_type": "code",
      "metadata": {
        "id": "Ch9_wmh6eyug",
        "colab_type": "code",
        "colab": {
          "base_uri": "https://localhost:8080/",
          "height": 54
        },
        "outputId": "1a40a475-c0ac-4917-c728-4753cc92df7e"
      },
      "source": [
        "def split_input_target(chunk):\n",
        "  input_text = chunk[:-1]\n",
        "  target_text = chunk[1:]\n",
        "  return input_text, target_text\n",
        "\n",
        "dataset = sequences.map(split_input_target)\n",
        "\n",
        "for input_example, target_example in  dataset.take(1):\n",
        "  print ('Input data: ', repr(''.join(idx2char[input_example.numpy()])))\n",
        "  print ('Target data:', repr(''.join(idx2char[target_example.numpy()])))"
      ],
      "execution_count": 10,
      "outputs": [
        {
          "output_type": "stream",
          "text": [
            "Input data:  'First Citizen:\\nBefore we proceed any further, hear me speak.\\n\\nAll:\\nSpeak, speak.\\n\\nFirst Citizen:\\nYou'\n",
            "Target data: 'irst Citizen:\\nBefore we proceed any further, hear me speak.\\n\\nAll:\\nSpeak, speak.\\n\\nFirst Citizen:\\nYou '\n"
          ],
          "name": "stdout"
        }
      ]
    },
    {
      "cell_type": "code",
      "metadata": {
        "id": "GozNr46pg1J6",
        "colab_type": "code",
        "colab": {
          "base_uri": "https://localhost:8080/",
          "height": 35
        },
        "outputId": "3b28312a-d367-4e87-881a-c028d340a494"
      },
      "source": [
        "BATCH_SIZE = 64\n",
        "BUFFER_SIZE = 10000\n",
        "dataset = dataset.shuffle(BUFFER_SIZE).batch(BATCH_SIZE, drop_remainder=True)\n",
        "dataset"
      ],
      "execution_count": 11,
      "outputs": [
        {
          "output_type": "execute_result",
          "data": {
            "text/plain": [
              "<BatchDataset shapes: ((64, 100), (64, 100)), types: (tf.int64, tf.int64)>"
            ]
          },
          "metadata": {
            "tags": []
          },
          "execution_count": 11
        }
      ]
    },
    {
      "cell_type": "code",
      "metadata": {
        "id": "oJ5Dc-nmhIk1",
        "colab_type": "code",
        "colab": {}
      },
      "source": [
        "# Length of the vocabulary in chars\n",
        "vocab_size = len(vocab)\n",
        "\n",
        "# The embedding dimension\n",
        "embedding_dim = 256\n",
        "\n",
        "# Number of RNN units\n",
        "rnn_units = 1024"
      ],
      "execution_count": 12,
      "outputs": []
    },
    {
      "cell_type": "code",
      "metadata": {
        "id": "NXXNoen5hKmk",
        "colab_type": "code",
        "colab": {}
      },
      "source": [
        "def build_model(vocab_size, embedding_dim, rnn_units, batch_size):\n",
        "  model = tf.keras.Sequential([\n",
        "    tf.keras.layers.Embedding(vocab_size, embedding_dim,\n",
        "                              batch_input_shape=[batch_size, None]),\n",
        "    tf.keras.layers.LSTM(rnn_units,\n",
        "                        return_sequences=True,\n",
        "                        stateful=True,\n",
        "                        recurrent_initializer='glorot_uniform'),\n",
        "    tf.keras.layers.Dense(vocab_size)\n",
        "  ])\n",
        "  return model"
      ],
      "execution_count": 13,
      "outputs": []
    },
    {
      "cell_type": "code",
      "metadata": {
        "id": "_7-tNqNGjiYO",
        "colab_type": "code",
        "colab": {}
      },
      "source": [
        "tf.keras.backend.clear_session()\n",
        "model = build_model(\n",
        "    vocab_size = len(vocab),\n",
        "    embedding_dim=embedding_dim,\n",
        "    rnn_units=rnn_units,\n",
        "    batch_size=BATCH_SIZE)"
      ],
      "execution_count": 14,
      "outputs": []
    },
    {
      "cell_type": "code",
      "metadata": {
        "id": "1_DW5kCtjzNi",
        "colab_type": "code",
        "colab": {
          "base_uri": "https://localhost:8080/",
          "height": 274
        },
        "outputId": "c6f3d8dc-ca24-4dc9-98e5-1758b477e609"
      },
      "source": [
        "model.summary()"
      ],
      "execution_count": 15,
      "outputs": [
        {
          "output_type": "stream",
          "text": [
            "Model: \"sequential\"\n",
            "_________________________________________________________________\n",
            "Layer (type)                 Output Shape              Param #   \n",
            "=================================================================\n",
            "embedding (Embedding)        (64, None, 256)           16640     \n",
            "_________________________________________________________________\n",
            "lstm (LSTM)                  (64, None, 1024)          5246976   \n",
            "_________________________________________________________________\n",
            "dense (Dense)                (64, None, 65)            66625     \n",
            "=================================================================\n",
            "Total params: 5,330,241\n",
            "Trainable params: 5,330,241\n",
            "Non-trainable params: 0\n",
            "_________________________________________________________________\n"
          ],
          "name": "stdout"
        }
      ]
    },
    {
      "cell_type": "code",
      "metadata": {
        "id": "_ujIM7iSkHW6",
        "colab_type": "code",
        "colab": {}
      },
      "source": [
        "def loss(labels, logits):\n",
        "  return tf.keras.losses.sparse_categorical_crossentropy(labels, logits, from_logits=True)\n",
        "\n",
        "model.compile(optimizer='adam', loss=loss)"
      ],
      "execution_count": 16,
      "outputs": []
    },
    {
      "cell_type": "code",
      "metadata": {
        "id": "H6ERW_xbkYCt",
        "colab_type": "code",
        "colab": {}
      },
      "source": [
        "# Directory where the checkpoints will be saved\n",
        "checkpoint_dir = './training_checkpoints'\n",
        "# Name of the checkpoint files\n",
        "checkpoint_prefix = os.path.join(checkpoint_dir, \"ckpt_{epoch}\")\n",
        "\n",
        "checkpoint_callback=tf.keras.callbacks.ModelCheckpoint(\n",
        "    filepath=checkpoint_prefix,\n",
        "    save_weights_only=True)"
      ],
      "execution_count": 17,
      "outputs": []
    },
    {
      "cell_type": "code",
      "metadata": {
        "id": "2QjVy-EYkOi1",
        "colab_type": "code",
        "colab": {
          "base_uri": "https://localhost:8080/",
          "height": 1000
        },
        "outputId": "2e72282e-9aec-44d3-8b39-8aed424a5a86"
      },
      "source": [
        "EPOCHS=50\n",
        "history = model.fit(dataset, epochs=EPOCHS, callbacks=[checkpoint_callback])"
      ],
      "execution_count": 18,
      "outputs": [
        {
          "output_type": "stream",
          "text": [
            "Epoch 1/50\n",
            "172/172 [==============================] - 12s 70ms/step - loss: 2.5949\n",
            "Epoch 2/50\n",
            "172/172 [==============================] - 12s 72ms/step - loss: 1.8864\n",
            "Epoch 3/50\n",
            "172/172 [==============================] - 13s 73ms/step - loss: 1.6416\n",
            "Epoch 4/50\n",
            "172/172 [==============================] - 13s 75ms/step - loss: 1.5106\n",
            "Epoch 5/50\n",
            "172/172 [==============================] - 13s 75ms/step - loss: 1.4313\n",
            "Epoch 6/50\n",
            "172/172 [==============================] - 13s 74ms/step - loss: 1.3760\n",
            "Epoch 7/50\n",
            "172/172 [==============================] - 13s 73ms/step - loss: 1.3319\n",
            "Epoch 8/50\n",
            "172/172 [==============================] - 13s 73ms/step - loss: 1.2935\n",
            "Epoch 9/50\n",
            "172/172 [==============================] - 13s 74ms/step - loss: 1.2596\n",
            "Epoch 10/50\n",
            "172/172 [==============================] - 13s 74ms/step - loss: 1.2259\n",
            "Epoch 11/50\n",
            "172/172 [==============================] - 13s 74ms/step - loss: 1.1924\n",
            "Epoch 12/50\n",
            "172/172 [==============================] - 13s 74ms/step - loss: 1.1588\n",
            "Epoch 13/50\n",
            "172/172 [==============================] - 13s 74ms/step - loss: 1.1224\n",
            "Epoch 14/50\n",
            "172/172 [==============================] - 13s 74ms/step - loss: 1.0865\n",
            "Epoch 15/50\n",
            "172/172 [==============================] - 13s 74ms/step - loss: 1.0479\n",
            "Epoch 16/50\n",
            "172/172 [==============================] - 13s 74ms/step - loss: 1.0095\n",
            "Epoch 17/50\n",
            "172/172 [==============================] - 13s 74ms/step - loss: 0.9696\n",
            "Epoch 18/50\n",
            "172/172 [==============================] - 13s 74ms/step - loss: 0.9297\n",
            "Epoch 19/50\n",
            "172/172 [==============================] - 13s 74ms/step - loss: 0.8905\n",
            "Epoch 20/50\n",
            "172/172 [==============================] - 13s 74ms/step - loss: 0.8523\n",
            "Epoch 21/50\n",
            "172/172 [==============================] - 13s 74ms/step - loss: 0.8164\n",
            "Epoch 22/50\n",
            "172/172 [==============================] - 13s 74ms/step - loss: 0.7803\n",
            "Epoch 23/50\n",
            "172/172 [==============================] - 13s 74ms/step - loss: 0.7492\n",
            "Epoch 24/50\n",
            "172/172 [==============================] - 13s 74ms/step - loss: 0.7181\n",
            "Epoch 25/50\n",
            "172/172 [==============================] - 13s 74ms/step - loss: 0.6897\n",
            "Epoch 26/50\n",
            "172/172 [==============================] - 13s 74ms/step - loss: 0.6664\n",
            "Epoch 27/50\n",
            "172/172 [==============================] - 13s 74ms/step - loss: 0.6412\n",
            "Epoch 28/50\n",
            "172/172 [==============================] - 13s 74ms/step - loss: 0.6202\n",
            "Epoch 29/50\n",
            "172/172 [==============================] - 13s 74ms/step - loss: 0.6013\n",
            "Epoch 30/50\n",
            "172/172 [==============================] - 13s 74ms/step - loss: 0.5827\n",
            "Epoch 31/50\n",
            "172/172 [==============================] - 13s 74ms/step - loss: 0.5662\n",
            "Epoch 32/50\n",
            "172/172 [==============================] - 13s 74ms/step - loss: 0.5532\n",
            "Epoch 33/50\n",
            "172/172 [==============================] - 13s 74ms/step - loss: 0.5393\n",
            "Epoch 34/50\n",
            "172/172 [==============================] - 13s 74ms/step - loss: 0.5281\n",
            "Epoch 35/50\n",
            "172/172 [==============================] - 13s 74ms/step - loss: 0.5176\n",
            "Epoch 36/50\n",
            "172/172 [==============================] - 13s 74ms/step - loss: 0.5076\n",
            "Epoch 37/50\n",
            "172/172 [==============================] - 13s 74ms/step - loss: 0.4963\n",
            "Epoch 38/50\n",
            "172/172 [==============================] - 13s 74ms/step - loss: 0.4898\n",
            "Epoch 39/50\n",
            "172/172 [==============================] - 13s 74ms/step - loss: 0.4827\n",
            "Epoch 40/50\n",
            "172/172 [==============================] - 13s 74ms/step - loss: 0.4751\n",
            "Epoch 41/50\n",
            "172/172 [==============================] - 13s 74ms/step - loss: 0.4678\n",
            "Epoch 42/50\n",
            "172/172 [==============================] - 13s 74ms/step - loss: 0.4624\n",
            "Epoch 43/50\n",
            "172/172 [==============================] - 13s 74ms/step - loss: 0.4575\n",
            "Epoch 44/50\n",
            "172/172 [==============================] - 13s 74ms/step - loss: 0.4534\n",
            "Epoch 45/50\n",
            "172/172 [==============================] - 13s 74ms/step - loss: 0.4483\n",
            "Epoch 46/50\n",
            "172/172 [==============================] - 13s 74ms/step - loss: 0.4451\n",
            "Epoch 47/50\n",
            "172/172 [==============================] - 13s 74ms/step - loss: 0.4411\n",
            "Epoch 48/50\n",
            "172/172 [==============================] - 13s 74ms/step - loss: 0.4364\n",
            "Epoch 49/50\n",
            "172/172 [==============================] - 13s 74ms/step - loss: 0.4351\n",
            "Epoch 50/50\n",
            "172/172 [==============================] - 13s 74ms/step - loss: 0.4314\n"
          ],
          "name": "stdout"
        }
      ]
    },
    {
      "cell_type": "code",
      "metadata": {
        "id": "B1nmHqGR86Pe",
        "colab_type": "code",
        "colab": {
          "base_uri": "https://localhost:8080/",
          "height": 35
        },
        "outputId": "d02c9eda-1a3e-4be0-d7c8-021034a3784c"
      },
      "source": [
        "tf.train.latest_checkpoint(checkpoint_dir)"
      ],
      "execution_count": 19,
      "outputs": [
        {
          "output_type": "execute_result",
          "data": {
            "application/vnd.google.colaboratory.intrinsic+json": {
              "type": "string"
            },
            "text/plain": [
              "'./training_checkpoints/ckpt_50'"
            ]
          },
          "metadata": {
            "tags": []
          },
          "execution_count": 19
        }
      ]
    },
    {
      "cell_type": "code",
      "metadata": {
        "id": "yL0CXxNFkzBm",
        "colab_type": "code",
        "colab": {
          "base_uri": "https://localhost:8080/",
          "height": 274
        },
        "outputId": "dde3ac44-1ce4-4298-ae34-6c813b9c6836"
      },
      "source": [
        "model = build_model(vocab_size, embedding_dim, rnn_units, batch_size=1)\n",
        "model.load_weights(tf.train.latest_checkpoint(checkpoint_dir))\n",
        "model.build(tf.TensorShape([1, None]))\n",
        "\n",
        "model.summary()"
      ],
      "execution_count": 20,
      "outputs": [
        {
          "output_type": "stream",
          "text": [
            "Model: \"sequential_1\"\n",
            "_________________________________________________________________\n",
            "Layer (type)                 Output Shape              Param #   \n",
            "=================================================================\n",
            "embedding_1 (Embedding)      (1, None, 256)            16640     \n",
            "_________________________________________________________________\n",
            "lstm_1 (LSTM)                (1, None, 1024)           5246976   \n",
            "_________________________________________________________________\n",
            "dense_1 (Dense)              (1, None, 65)             66625     \n",
            "=================================================================\n",
            "Total params: 5,330,241\n",
            "Trainable params: 5,330,241\n",
            "Non-trainable params: 0\n",
            "_________________________________________________________________\n"
          ],
          "name": "stdout"
        }
      ]
    },
    {
      "cell_type": "code",
      "metadata": {
        "id": "0HrYzRVZxOGv",
        "colab_type": "code",
        "colab": {
          "base_uri": "https://localhost:8080/",
          "height": 274
        },
        "outputId": "d6386f76-2284-4365-a021-d637fbb1da95"
      },
      "source": [
        "model = model\n",
        "\n",
        "intermediate_layer_model = tf.keras.models.Model(inputs=model.input,\n",
        "                                 outputs=model.get_layer('lstm_1').output)\n",
        "intermediate_layer_model.summary()"
      ],
      "execution_count": 21,
      "outputs": [
        {
          "output_type": "stream",
          "text": [
            "Model: \"functional_1\"\n",
            "_________________________________________________________________\n",
            "Layer (type)                 Output Shape              Param #   \n",
            "=================================================================\n",
            "embedding_1_input (InputLaye [(1, None)]               0         \n",
            "_________________________________________________________________\n",
            "embedding_1 (Embedding)      (1, None, 256)            16640     \n",
            "_________________________________________________________________\n",
            "lstm_1 (LSTM)                (1, None, 1024)           5246976   \n",
            "=================================================================\n",
            "Total params: 5,263,616\n",
            "Trainable params: 5,263,616\n",
            "Non-trainable params: 0\n",
            "_________________________________________________________________\n"
          ],
          "name": "stdout"
        }
      ]
    },
    {
      "cell_type": "code",
      "metadata": {
        "id": "6Dn4HmlWlIXL",
        "colab_type": "code",
        "colab": {}
      },
      "source": [
        "def generate_text(model, start_string, hidden_index):\n",
        "  # Catch the hidden state\n",
        "  h_list = []\n",
        "\n",
        "  # Evaluation step (generating text using the learned model)\n",
        "\n",
        "  # Number of characters to generate\n",
        "  num_generate = 200\n",
        "\n",
        "  # Converting our start string to numbers (vectorizing)\n",
        "  input_eval = [char2idx[s] for s in start_string]\n",
        "  input_eval = tf.expand_dims(input_eval, 0)\n",
        "\n",
        "  # Empty string to store our results\n",
        "  text_generated = []\n",
        "\n",
        "  # Low temperatures results in more predictable text.\n",
        "  # Higher temperatures results in more surprising text.\n",
        "  # Experiment to find the best setting.\n",
        "  temperature = 1.0\n",
        "\n",
        "  # Here batch size == 1\n",
        "  model.reset_states()\n",
        "  for i in range(num_generate):\n",
        "    predictions = model(input_eval)\n",
        "    h = tf.squeeze(intermediate_layer_model(input_eval))\n",
        "    h_list.append(h[hidden_index].numpy())\n",
        "    # remove the batch dimension\n",
        "    predictions = tf.squeeze(predictions, 0)\n",
        "\n",
        "    # using a categorical distribution to predict the character returned by the model\n",
        "    predictions = predictions / temperature\n",
        "    predicted_id = tf.random.categorical(predictions, num_samples=1)[-1,0].numpy()\n",
        "\n",
        "    # We pass the predicted character as the next input to the model\n",
        "    # along with the previous hidden state\n",
        "    input_eval = tf.expand_dims([predicted_id], 0)\n",
        "\n",
        "    text_generated.append(idx2char[predicted_id])\n",
        "\n",
        "  return (start_string + ''.join(text_generated)), h_list"
      ],
      "execution_count": 22,
      "outputs": []
    },
    {
      "cell_type": "code",
      "metadata": {
        "id": "P_ZYDhkFVCg5",
        "colab_type": "code",
        "colab": {}
      },
      "source": [
        "from colorsys import hsv_to_rgb\n",
        "\n",
        "def pseudocolor(val, minval, maxval):\n",
        "  \"\"\" Convert val in range minval..maxval to the range 0..120 degrees which\n",
        "      correspond to the colors Red and Green in the HSV colorspace.\n",
        "  \"\"\"\n",
        "  h = (float(val-minval) / (maxval-minval)) * 120\n",
        "\n",
        "  # Convert hsv color (h,1,1) to its rgb equivalent.\n",
        "  # Note: hsv_to_rgb() function expects h to be in the range 0..1 not 0..360\n",
        "\n",
        "  h = 120-h\n",
        "  r, g, b = hsv_to_rgb(h/360, 1., 1.)\n",
        "  return (r, g, b)"
      ],
      "execution_count": 23,
      "outputs": []
    },
    {
      "cell_type": "code",
      "metadata": {
        "id": "aa0KeyPXJXS2",
        "colab_type": "code",
        "colab": {}
      },
      "source": [
        "def draw_text(text, heat_map):\n",
        "  fig, ax = plt.subplots()\n",
        "\n",
        "  # text = '''Hey there, I am Aritra Roy Gosthipaty.\n",
        "  # Nice to meet you'''\n",
        "  # lol = np.random.rand(len(text))\n",
        "  counter_x = 0.0\n",
        "  counter_y = 1.0\n",
        "  for ch, heat in zip(text,heat_map):\n",
        "    if ch == '\\n':\n",
        "      counter_x = 0.0\n",
        "      counter_y -= 0.1\n",
        "      continue\n",
        "    ax.text(x = 0.+counter_x,\n",
        "            y = 1.+counter_y,\n",
        "            s = ch,\n",
        "            color = 'black',\n",
        "            fontweight = 'bold',\n",
        "            fontsize=10,\n",
        "            backgroundcolor = pseudocolor(heat, -1, 1)\n",
        "            )\n",
        "    counter_x += 0.05\n",
        "  ax.axis('off')\n",
        "  plt.show()"
      ],
      "execution_count": 24,
      "outputs": []
    },
    {
      "cell_type": "code",
      "metadata": {
        "id": "uaPZKTEj2F-0",
        "colab_type": "code",
        "colab": {
          "base_uri": "https://localhost:8080/",
          "height": 474
        },
        "outputId": "da8ed27a-e587-44ab-db0a-1184a7feec0c"
      },
      "source": [
        "gen_text, h_list = '1234567890' ,[-1,-0.8,-0.6,-0.4,-0.2,0,0.2,0.4,0.6,0.8]\n",
        "draw_text(gen_text, h_list)"
      ],
      "execution_count": 25,
      "outputs": [
        {
          "output_type": "display_data",
          "data": {
            "image/png": "[encoded data removed]",
            "text/plain": [
              "<Figure size 432x288 with 1 Axes>"
            ]
          },
          "metadata": {
            "tags": [],
            "needs_background": "light"
          }
        }
      ]
    },
    {
      "cell_type": "code",
      "metadata": {
        "id": "6ddRKM2O0nBP",
        "colab_type": "code",
        "colab": {
          "base_uri": "https://localhost:8080/",
          "height": 805
        },
        "outputId": "9bacfd7a-1a2f-405b-a0d1-3de1b589df08"
      },
      "source": [
        "gen_text, h_list = generate_text(model, start_string=u\"l\", hidden_index=701)\n",
        "print(gen_text)\n",
        "draw_text(gen_text, h_list)"
      ],
      "execution_count": 48,
      "outputs": [
        {
          "output_type": "stream",
          "text": [
            "lds,\n",
            "That cof. OF Se his se gret whan th, ises let:\n",
            "Til reamity;\n",
            "Fir thein;\n",
            "OXES:\n",
            "ISABALA:\n",
            "WARCHIV:\n",
            "OXBES:\n",
            "PRIS:\n",
            "CAPERET:\n",
            "Nuses le:\n",
            "ME:\n",
            "ISABAds.\n",
            "NORTHUMbror an cams,\n",
            "OXES:\n",
            "BRK:\n",
            "Thistathy ise wices,\n",
            "The\n"
          ],
          "name": "stdout"
        },
        {
          "output_type": "display_data",
          "data": {
            "image/png": "[encoded data removed]",
            "text/plain": [
              "<Figure size 432x288 with 1 Axes>"
            ]
          },
          "metadata": {
            "tags": [],
            "needs_background": "light"
          }
        }
      ]
    }
  ]
}