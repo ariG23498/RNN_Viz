{
  "nbformat": 4,
  "nbformat_minor": 0,
  "metadata": {
    "colab": {
      "name": "RNN_numpy.ipynb",
      "provenance": [],
      "collapsed_sections": [],
      "authorship_tag": "ABX9TyPfqqyqiSSQZW9ycrWuy/9a",
      "include_colab_link": true
    },
    "kernelspec": {
      "name": "python3",
      "display_name": "Python 3"
    }
  },
  "cells": [
    {
      "cell_type": "markdown",
      "metadata": {
        "id": "view-in-github",
        "colab_type": "text"
      },
      "source": [
        "<a href=\"https://colab.research.google.com/github/ariG23498/RNN_Viz/blob/master/RNN_gradient_viz.ipynb\" target=\"_parent\"><img src=\"https://colab.research.google.com/assets/colab-badge.svg\" alt=\"Open In Colab\"/></a>"
      ]
    },
    {
      "cell_type": "markdown",
      "metadata": {
        "id": "U9oXPVHBuq2J"
      },
      "source": [
        "# Imports\n",
        "We will be importing the following packages:\n",
        "1. numpy\n",
        "2. matplotlib\n",
        "3. urllib"
      ]
    },
    {
      "cell_type": "code",
      "metadata": {
        "id": "K3zMKfrg5G0K"
      },
      "source": [
        "import numpy as np\n",
        "import matplotlib.pyplot as plt\n",
        "import urllib.request"
      ],
      "execution_count": 1,
      "outputs": []
    },
    {
      "cell_type": "markdown",
      "metadata": {
        "id": "U3WnD9ydvJ51"
      },
      "source": [
        "# Data\n",
        "We will be taking Shakespeare's work as our data. The data [url](https://storage.googleapis.com/download.tensorflow.org/data/shakespeare.txt) is fetched from this [tensorflow tutorial on text generation](https://www.tensorflow.org/tutorials/text/text_generation). "
      ]
    },
    {
      "cell_type": "code",
      "metadata": {
        "id": "DmKAqv310qth",
        "outputId": "0cdd9f1c-b89c-4efb-a3a6-81f973c2c446",
        "colab": {
          "base_uri": "https://localhost:8080/",
          "height": 35
        }
      },
      "source": [
        "url = 'https://storage.googleapis.com/download.tensorflow.org/data/shakespeare.txt'\n",
        "filename = 'input.txt'\n",
        "urllib.request.urlretrieve(url, filename)"
      ],
      "execution_count": 2,
      "outputs": [
        {
          "output_type": "execute_result",
          "data": {
            "text/plain": [
              "('input.txt', <http.client.HTTPMessage at 0x7f96359e60f0>)"
            ]
          },
          "metadata": {
            "tags": []
          },
          "execution_count": 2
        }
      ]
    },
    {
      "cell_type": "markdown",
      "metadata": {
        "id": "Ws2VN8pIz3Ij"
      },
      "source": [
        "## Data processing\n",
        "In this section we read the `input.txt` file that is downloaded. Vocabulary is the unique characters in the entire text file. This is extracted so that we can generate characters with a constraint."
      ]
    },
    {
      "cell_type": "code",
      "metadata": {
        "id": "czklZLUTyjx_",
        "outputId": "50c91ff5-06e7-4028-8dca-9585ada872df",
        "colab": {
          "base_uri": "https://localhost:8080/",
          "height": 54
        }
      },
      "source": [
        "text = open('input.txt','r').read()[:20000]\n",
        "\n",
        "vocab = sorted(set(text))\n",
        "text_size, vocab_size = len(text), len(vocab)\n",
        "print('Number of characters: {}'.format(text_size))\n",
        "print('Number of unique characters:{}'.format(vocab_size))"
      ],
      "execution_count": 3,
      "outputs": [
        {
          "output_type": "stream",
          "text": [
            "Number of characters: 20000\n",
            "Number of unique characters:58\n"
          ],
          "name": "stdout"
        }
      ]
    },
    {
      "cell_type": "markdown",
      "metadata": {
        "id": "8n9C3nDawMEX"
      },
      "source": [
        "Let us look at the first 250 characters in the input text."
      ]
    },
    {
      "cell_type": "code",
      "metadata": {
        "id": "pWkIRF7dkrD0",
        "outputId": "b99918b1-4d76-4058-fd1e-7017cf98d359",
        "colab": {
          "base_uri": "https://localhost:8080/",
          "height": 293
        }
      },
      "source": [
        "print(text[:250])"
      ],
      "execution_count": 4,
      "outputs": [
        {
          "output_type": "stream",
          "text": [
            "First Citizen:\n",
            "Before we proceed any further, hear me speak.\n",
            "\n",
            "All:\n",
            "Speak, speak.\n",
            "\n",
            "First Citizen:\n",
            "You are all resolved rather to die than to famish?\n",
            "\n",
            "All:\n",
            "Resolved. resolved.\n",
            "\n",
            "First Citizen:\n",
            "First, you know Caius Marcius is chief enemy to the people.\n",
            "\n"
          ],
          "name": "stdout"
        }
      ]
    },
    {
      "cell_type": "markdown",
      "metadata": {
        "id": "wCAwLDN2wWH1"
      },
      "source": [
        "Here we map the unique characters to specific indices.\n",
        "\n",
        "A -> 0\n",
        "\n",
        "B -> 1\n",
        "\n",
        "and so on\n",
        "\n",
        "This process helps us in converting characters to numbers and also vice versa. The input text file which is read, is converted to numbers instead of characters. Computers are always better with numbers."
      ]
    },
    {
      "cell_type": "code",
      "metadata": {
        "id": "Y7IpDlHkzhaj"
      },
      "source": [
        "char_to_ix = {c:ix for ix,c in enumerate(vocab)}\n",
        "ix_to_char = np.array(vocab)\n",
        "text_as_int = np.array([char_to_ix[c] for c in text])"
      ],
      "execution_count": 5,
      "outputs": []
    },
    {
      "cell_type": "code",
      "metadata": {
        "id": "jvr1LoOLxUsj",
        "outputId": "0b26798c-cf73-4805-de68-09fcd130379b",
        "colab": {
          "base_uri": "https://localhost:8080/",
          "height": 237
        }
      },
      "source": [
        "i = 1\n",
        "print('The first 5 mappings of char_to_ix')\n",
        "for key, value in char_to_ix.items():\n",
        "  print('{} : {}'.format(repr(key), value))\n",
        "  if i == 5:\n",
        "    break\n",
        "  i += 1\n",
        "print('The first 5 mappings of ix_to_char')\n",
        "for ix, value in enumerate(ix_to_char[:5]):\n",
        "  print('{} : {}'.format(ix, repr(value)))"
      ],
      "execution_count": 6,
      "outputs": [
        {
          "output_type": "stream",
          "text": [
            "The first 5 mappings of char_to_ix\n",
            "'\\n' : 0\n",
            "' ' : 1\n",
            "'!' : 2\n",
            "\"'\" : 3\n",
            "',' : 4\n",
            "The first 5 mappings of ix_to_char\n",
            "0 : '\\n'\n",
            "1 : ' '\n",
            "2 : '!'\n",
            "3 : \"'\"\n",
            "4 : ','\n"
          ],
          "name": "stdout"
        }
      ]
    },
    {
      "cell_type": "markdown",
      "metadata": {
        "id": "jQeuoliI1noO"
      },
      "source": [
        "# Hyperparameters\n",
        "We are looking to have a hidden state of `100` dimensions. The recurrent neural network is to be unrolled for `25` time steps. The learning rate is chosen to as `0.1`. "
      ]
    },
    {
      "cell_type": "code",
      "metadata": {
        "id": "p_QiqR06z9SS"
      },
      "source": [
        "hidden_size = 100 # size of hidden layer of neurons\n",
        "seq_length = 25 # number of steps to unroll the RNN for\n",
        "learning_rate = 1e-1"
      ],
      "execution_count": 13,
      "outputs": []
    },
    {
      "cell_type": "markdown",
      "metadata": {
        "id": "R_mMLLRM1wLB"
      },
      "source": [
        "# Model Parameters\n",
        "To get into this part let us have a look at the formulas governing the Recurrent Neural Nets.\n",
        "\n",
        "$$\n",
        "h^{l}_{t} =\\tanh\\begin{pmatrix}\n",
        "h^{l-1}_{t}\\\\\n",
        "h^{l}_{t-1}\n",
        "\\end{pmatrix}\n",
        "$$\n",
        "\n",
        "The above equation is a simple representation of the recurrence formula. This shows that the present hidden state of layer $(l)$, depends on the present hidden state of the immediate lower layer $(l-1)$ and the immediate past $(t-1)$ hidden layer of the same layer. A little nuance of the representation is that we consider $h^{0}_{t}$ as the input layer. We can write $h^{0}_{t}$ as $x_{t}$.\n",
        "\n",
        "We can break down the above representation in the following way.\n",
        "$$\n",
        "raw\\_h^{l}_{t} =W_{h\\_prev\\_layer}h^{l-1}_{t}+W_{h\\_prev\\_time}h^{l}_{t-1}+b_{h}\\\\\n",
        "\\boxed{h^{l}_{t} =\\tanh raw\\_h^{l}_{t}}\\\\\n",
        "\\boxed{y^{l+1}_{t} =W_{y}\\times h^{l}_{t}+b_{y}}\n",
        "$$\n",
        "\n",
        "The boxed equations are our concern here. The notations mean:\n",
        "* $W_{h\\_prev\\_layer}$ - The weights concerned with the previous layer's hidden state.\n",
        "\n",
        "* $W_{h\\_prev\\_time}$ - The weights concerned with the previous timestep's hidden state.\n",
        "\n",
        "* $W_{y}$ - The weights concerend with the present hidden state.\n",
        "\n",
        "In the code below we are using Recurrent Nets of depth 1. This means that the notation of $l$ can be ignored. The $h^{0}_{t}$ is replaced with $x_{t}$ for the same of simplicity."
      ]
    },
    {
      "cell_type": "code",
      "metadata": {
        "id": "yj_lhfxX1v3X",
        "outputId": "434d45f2-22a6-4f55-810f-9f906a7ade54",
        "colab": {
          "base_uri": "https://localhost:8080/",
          "height": 109
        }
      },
      "source": [
        "Wxh = np.random.rand(hidden_size, vocab_size)*1e-1 # input to hidden\n",
        "Whh = np.random.rand(hidden_size, hidden_size)*1e-1 # hidden to hidden\n",
        "Why = np.random.rand(vocab_size, hidden_size)*1e-1 # hidden to output\n",
        "bh = np.random.rand(hidden_size, 1)*1e-1 # hidden bias\n",
        "by = np.random.rand(vocab_size, 1)*1e-1 # output bias\n",
        "\n",
        "print(\"Size of Wxh: {}\".format(Wxh.shape))\n",
        "print(\"Size of Whh: {}\".format(Whh.shape))\n",
        "print(\"Size of Why: {}\".format(Why.shape))\n",
        "print(\"Size of bh: {}\".format(bh.shape))\n",
        "print(\"Size of by: {}\".format(by.shape))"
      ],
      "execution_count": 14,
      "outputs": [
        {
          "output_type": "stream",
          "text": [
            "Size of Wxh: (100, 58)\n",
            "Size of Whh: (100, 100)\n",
            "Size of Why: (58, 100)\n",
            "Size of bh: (100, 1)\n",
            "Size of by: (58, 1)\n"
          ],
          "name": "stdout"
        }
      ]
    },
    {
      "cell_type": "markdown",
      "metadata": {
        "id": "ummS_tgt6AGd"
      },
      "source": [
        "# Loss Function\n",
        "In this section we will decipher the loss function and the back-propagation algorithm. In a recurrent sequence model, the back-propagation has a fancy term hooked to it, the **back propagation through time**.\n",
        "\n",
        "## Feed Forward\n",
        "In the feed forward process, we move along the time step and evaluate the recurrence formula. The hidden state is then projected by a dense layer. The dense layer has `vocab` number of neurons. Each neuron spits out the `unnormalized log probability` of a character from the vocab.\n",
        "\n",
        "* Neuron 1 -> `unnormalized log probability` of A\n",
        "* Neuron 2 -> `unnormalized log probability` of B\n",
        "* and so on\n",
        "\n",
        "The loss is evaluated by passing the output projection through a softmax function. \n",
        "$$\n",
        "p_{k} =\\frac{e^{f_{k}}}{\\sum _{j} e^{f_{j}}}\\\\\n",
        "\\boxed{\\mathcal{L}_{t} =-\\log p_{k}}\n",
        "$$\n",
        "Here $f_{j}$ is the output vector where $j = 0,1,2..,vocab$ and $k$ is the correct class. For each timestep we are presented with a loss. The total loss after an iteration is the aggregate of all the losses (for each time step).\n",
        "$$\n",
        "\\boxed{\\mathcal{L}_{total} =\\sum ^{timestep}_{t=0}\\mathcal{L}_{t}}\n",
        "$$\n",
        "## Back Propagation\n",
        "In this stage we have to back-propagate the aggregated softmax losses. The name **back propagation through time** will make sense here. In this stage, we have to traverse from the last time step to the first time step of the RNN and back-propagate the gradients.\n",
        "\n",
        "* First we need to derive the derivative of the projection $y$ wrt the loss $\\mathcal{L}$.\n",
        "\n",
        "$$\n",
        "\\boxed{\\frac{\\partial \\mathcal{L}_{t}}{\\partial y_{y}} =\\ p_{j} -\\mathbb{1}\\{when\\ j=k\\}}\n",
        "$$\n",
        "* Next we have to formulate the derivative of $W_{y}$ wrt the loss $\\mathcal{L}$.\n",
        "\n",
        "$$\n",
        "\\frac{\\partial y_{t}}{\\partial W_{y}} =h_{t}\\\\\n",
        "\\frac{\\partial \\mathcal{L}_{t}}{\\partial W_{y}} =\\frac{\\partial \\mathcal{L}_{t}}{\\partial y_{y}}\\frac{\\partial y_{t}}{\\partial W_{y}}\\\\\n",
        "\\boxed{\\frac{\\partial \\mathcal{L}_{t}}{\\partial W_{y}} =\\frac{\\partial \\mathcal{L}_{t}}{\\partial y_{t}} h_{t}}\n",
        "$$\n",
        "* Here we formulate the derivative of the present hidden state $h_{t}$ wrt the loss $\\mathcal{L}$.\n",
        "\n",
        "$$\n",
        "\\frac{\\partial y_{t}}{\\partial h_{t}} =W_{y}\\\\\n",
        "\\frac{\\partial \\mathcal{L}_{t}}{\\partial h_{t}} =\\frac{\\partial \\mathcal{L}_{t}}{\\partial y_{t}}\\frac{\\partial y_{t}}{\\partial h_{t}}\\\\\n",
        "\\boxed{\\frac{\\partial \\mathcal{L}_{t}}{\\partial h_{t}} =\\frac{\\partial \\mathcal{L}_{t}}{\\partial y_{t}}W_{y}+\\partial{h_{next}}}\n",
        "$$\n",
        "In this boxed equation there is a subtle thing to notice. The $\\partial{h_{next}}$ is derivative that needs to be accounted for here. In the last time step, this derivative is taken to be all zeros, but as we traverse back in time, this derivative takes its own shape.\n",
        "* Next we look at the derivative of $h_{raw\\_t}$ wrt $\\mathcal{L}$\n",
        "\n",
        "$$\n",
        "h_{t} =\\tanh h_{raw\\_t}\\\\\n",
        "\\frac{\\partial h_{t}}{\\partial h_{raw\\_t}} =1-(\\tanh h_{raw\\_t})^{2}\\\\\n",
        "\\frac{\\partial h_{t}}{\\partial h_{raw\\_t}} =1-h^{2}_{t}\\\\\n",
        "\\frac{\\partial \\mathcal{L}_{t}}{\\partial h_{raw\\_t}} =\\frac{\\partial \\mathcal{L}_{t}}{\\partial h_{t}}\\frac{\\partial h_{t}}{\\partial h_{raw\\_t}}\\\\\n",
        "\\boxed{\\frac{\\partial \\mathcal{L}_{t}}{\\partial h_{raw\\_t}} =\\frac{\\partial \\mathcal{L}_{t}}{\\partial h_{t}}\\left( 1-h^{2}_{t}\\right)}\n",
        "$$\n",
        "\n",
        "\n",
        "* The derivative of $W_{x}$ wrt the loss $\\mathcal{L}$ is as follows.\n",
        "\n",
        "$$\n",
        "\\frac{\\partial h_{t}}{\\partial W_{x}} =x_{t}\\\\\n",
        "\\frac{\\partial \\mathcal{L}_{t}}{\\partial W_{x}} =\\frac{\\partial \\mathcal{L}_{t}}{\\partial h_{t}}\\frac{\\partial h_{t}}{\\partial W_{x}}\\\\\n",
        "\\boxed{\\frac{\\partial \\mathcal{L}_{t}}{\\partial W_{x}} =\\frac{\\partial \\mathcal{L}_{t}}{\\partial h_{t}} x_{t}}\n",
        "$$\n",
        "* The derivative of $W_{h}$ wrt the loss $\\mathcal{L}$ is given below.\n",
        "\n",
        "$$\n",
        "\\frac{\\partial h_{t}}{\\partial W_{h}} =h_{t-1}\\\\\n",
        "\\frac{\\partial \\mathcal{L}_{t}}{\\partial W_{h}} =\\frac{\\partial \\mathcal{L}_{t}}{\\partial h_{t}}\\frac{\\partial h_{t}}{\\partial W_{h}}\\\\\n",
        "\\boxed{\\frac{\\partial \\mathcal{L}_{t}}{\\partial W_{h}} =\\frac{\\partial \\mathcal{L}_{t}}{\\partial h_{t}} h_{t-1}}\n",
        "$$\n",
        "* The derivate of $h_{next}$ wrt the loss $\\mathcal{L}$ is given below. This is important for us to evaluate so that the gradients flows properly through time. As one can notice in the feed forward of RNN, $h_{t-1}$ multiplies with $W_{h}$ flows through the $h_{raw\\_t+1}$. This is what is accounted for here. In the last time step, due to the fact that there is no $h_{raw_t+1}$ we take this to be all zeros.\n",
        "\n",
        "$$\n",
        "\\boxed{\\partial h_{next} =\\partial h_{raw\\_t} W_{h}}\n",
        "$$\n",
        "\n"
      ]
    },
    {
      "cell_type": "code",
      "metadata": {
        "id": "Pt7rH8dv2V-q"
      },
      "source": [
        "def lossFun(inputs, targets, hprev, hist_grad=False):\n",
        "  \"\"\"\n",
        "  This is the loss function\n",
        "  Inputs:\n",
        "    inputs- A list of integers for the input sequence\n",
        "    targets- A list of integers for the target sequence\n",
        "    hprev- The first hidden state h[t-1]\n",
        "  Outputs:\n",
        "    returns the loss, gradients on model parameters, and last hidden state\n",
        "  \"\"\"\n",
        "  xs, hs, ys, ps = {}, {}, {}, {}\n",
        "  hs[-1] = hprev\n",
        "  loss = 0\n",
        "  # forward pass\n",
        "  for t in range(len(inputs)):\n",
        "    xs[t] = np.zeros((vocab_size,1)) # encode in 1-of-k representation\n",
        "    xs[t][inputs[t],0] = 1\n",
        "    hs[t] = np.tanh(np.matmul(Wxh, xs[t]) + np.matmul(Whh, hs[t-1]) + bh) # hidden state\n",
        "    ys[t] = np.matmul(Why, hs[t]) + by # unnormalized log probabilities for next chars\n",
        "    ps[t] = np.exp(ys[t]) / np.sum(np.exp(ys[t])) # probabilities for next chars\n",
        "    loss += -np.log(ps[t][targets[t],0]) # softmax (cross-entropy loss)\n",
        "\n",
        "  # backward pass: compute gradients going backwards\n",
        "  dWxh, dWhh, dWhy = np.zeros_like(Wxh), np.zeros_like(Whh), np.zeros_like(Why)\n",
        "  dbh, dby = np.zeros_like(bh), np.zeros_like(by)\n",
        "  dhnext = np.zeros_like(hs[0])\n",
        "  if hist_grad == True:\n",
        "    dWxh_list = []\n",
        "    dWhh_list = []\n",
        "    dWhy_list = []\n",
        "    for t in reversed(range(len(inputs))):\n",
        "      dy = np.copy(ps[t])\n",
        "      dy[targets[t]] -= 1\n",
        "\n",
        "      dWhy += np.matmul(dy, hs[t].T)\n",
        "      dWhy_list.append(np.matmul(dy, hs[t].T))\n",
        "      dby += dy\n",
        "\n",
        "      dh = np.matmul(Why.T, dy) + dhnext # backprop into h\n",
        "      dhraw = (1 - hs[t] * hs[t]) * dh # backprop through tanh nonlinearity (1- tanh^2)\n",
        "      dbh += dhraw\n",
        "\n",
        "      dWxh += np.matmul(dhraw, xs[t].T)\n",
        "      dWxh_list.append(np.matmul(dhraw, xs[t].T))\n",
        "      dWhh += np.matmul(dhraw, hs[t-1].T)\n",
        "      dWhh_list.append(np.matmul(dhraw, hs[t-1].T))\n",
        "    return (dWxh_list, dWhh_list, dWhy_list)\n",
        "  else:\n",
        "    for t in reversed(range(len(inputs))):\n",
        "      dy = np.copy(ps[t])\n",
        "      dy[targets[t]] -= 1\n",
        "\n",
        "      dWhy += np.matmul(dy, hs[t].T)\n",
        "      dby += dy\n",
        "\n",
        "      dh = np.matmul(Why.T, dy) + dhnext # backprop into h\n",
        "      dhraw = (1 - hs[t] * hs[t]) * dh # backprop through tanh nonlinearity (1- tanh^2)\n",
        "      dbh += dhraw\n",
        "\n",
        "      dWxh += np.matmul(dhraw, xs[t].T)\n",
        "      dWhh += np.matmul(dhraw, hs[t-1].T)\n",
        "      dhnext = np.matmul(Whh.T, dhraw)\n",
        "    return loss, dWxh, dWhh, dWhy, dbh, dby, hs[len(inputs)-1]"
      ],
      "execution_count": 17,
      "outputs": []
    },
    {
      "cell_type": "markdown",
      "metadata": {
        "id": "LYDyELyk6C8r"
      },
      "source": [
        "# Text generation function\n",
        "This function will be used for inference. We will provide a seed character, and will expect this function to return us with generated text of the sequence size mentioned."
      ]
    },
    {
      "cell_type": "code",
      "metadata": {
        "id": "q5uzZecA6Cun"
      },
      "source": [
        "def text_generate(h, seed_ix, n):\n",
        "  \"\"\" \n",
        "  A text generation function\n",
        "  Inputs:\n",
        "    h- memory state\n",
        "    seed_ix- seed character index\n",
        "    n- number of characters to generate\n",
        "  Outputs:\n",
        "    ixes- The generated character indices\n",
        "    h_list- The hidden states corresponding to all the characters generated\n",
        "  \"\"\"\n",
        "  x = np.zeros((vocab_size, 1)) #one hot encoding\n",
        "  x[seed_ix] = 1\n",
        "  ixes = []\n",
        "  for t in range(n):\n",
        "    h = np.tanh(np.matmul(Wxh, x) + np.matmul(Whh, h) + bh) #feed forward\n",
        "    y = np.matmul(Why, h) + by\n",
        "    p = np.exp(y) / np.sum(np.exp(y))\n",
        "    ix = ix = np.random.choice(np.arange(len(vocab)),p=p.ravel()) #this is to leak a little information, provides a soft bound\n",
        "    x = np.zeros((vocab_size, 1))\n",
        "    x[ix,0] = 1\n",
        "    ixes.append(ix)\n",
        "  return ixes"
      ],
      "execution_count": 10,
      "outputs": []
    },
    {
      "cell_type": "markdown",
      "metadata": {
        "id": "T80WRByH7c7K"
      },
      "source": [
        "# Train"
      ]
    },
    {
      "cell_type": "code",
      "metadata": {
        "id": "j8ndh3ehTsnj"
      },
      "source": [
        "from tqdm import tqdm"
      ],
      "execution_count": 11,
      "outputs": []
    },
    {
      "cell_type": "code",
      "metadata": {
        "id": "UO5wTzCw7bhF",
        "outputId": "e73d751e-6c97-4b83-cc70-30cb6a914001",
        "colab": {
          "base_uri": "https://localhost:8080/",
          "height": 1000
        }
      },
      "source": [
        "mWxh, mWhh, mWhy = np.zeros_like(Wxh), np.zeros_like(Whh), np.zeros_like(Why)\n",
        "mbh, mby = np.zeros_like(bh), np.zeros_like(by) # memory variables for Adagrad\n",
        "\n",
        "smooth_loss = -np.log(1.0/vocab_size)*seq_length # loss at iteration 0\n",
        "\n",
        "batches = text_size//(seq_length+1)\n",
        "epoch = 0\n",
        "try:\n",
        "  while True:\n",
        "    seq_pointer = 0\n",
        "    hprev = np.zeros((hidden_size,1))\n",
        "    # Inside an epoch\n",
        "    for batch in tqdm(range(batches)):\n",
        "      input = text_as_int[seq_pointer:seq_pointer+seq_length]\n",
        "      target = text_as_int[seq_pointer+1:seq_pointer+seq_length+1]\n",
        "      seq_pointer += seq_length\n",
        "      # forward seq_length characters through the net and fetch gradient\n",
        "      loss, dWxh, dWhh, dWhy, dbh, dby, hprev = lossFun(input, target, hprev)\n",
        "      # perform parameter update with Adagrad\n",
        "      for param, dparam, mem in zip([Wxh, Whh, Why, bh, by], \n",
        "                                    [dWxh, dWhh, dWhy, dbh, dby], \n",
        "                                    [mWxh, mWhh, mWhy, mbh, mby]):\n",
        "        mem += dparam * dparam\n",
        "        param += -learning_rate * dparam / np.sqrt(mem + 1e-8) # adagrad update\n",
        "    # Outside an epoch\n",
        "    smooth_loss = smooth_loss * 0.999 + loss * 0.001\n",
        "    print('Epoch: {} loss: {}'.format(epoch, smooth_loss))\n",
        "    epoch += 1\n",
        "\n",
        "    sample_ix = text_generate(hprev, input[0], 200)\n",
        "    txt = ''.join(ix_to_char[ix] for ix in sample_ix)\n",
        "    print('----\\n{}\\n----'.format(txt))\n",
        "except KeyboardInterrupt:\n",
        "  print('End!')"
      ],
      "execution_count": 15,
      "outputs": [
        {
          "output_type": "stream",
          "text": [
            "100%|██████████| 769/769 [00:05<00:00, 139.23it/s]\n",
            "  2%|▏         | 14/769 [00:00<00:05, 138.01it/s]"
          ],
          "name": "stderr"
        },
        {
          "output_type": "stream",
          "text": [
            "Epoch: 0 loss: 101.49356233763162\n",
            "----\n",
            "  uaii   wen eimrsc\n",
            " \n",
            "tife.' n ogyoe\n",
            "nnr;IiieLte n ehtui ; hlymgrtrgcers nRdhhiygsa lA eE rentn o,c  oyreamolA \n",
            " eie uritteeieil\n",
            " o biefioieuohstinotao ,WidrsrlleyNiuiei ani:rmh  uei'hn io  tsitnaioia\n",
            "----\n"
          ],
          "name": "stdout"
        },
        {
          "output_type": "stream",
          "text": [
            "100%|██████████| 769/769 [00:05<00:00, 137.82it/s]\n",
            "  2%|▏         | 14/769 [00:00<00:05, 139.97it/s]"
          ],
          "name": "stderr"
        },
        {
          "output_type": "stream",
          "text": [
            "Epoch: 1 loss: 101.47268371601294\n",
            "----\n",
            "tAusruOwi t nwkmeir ae '-n tmeiueseehebtnl of   re  ephnnzirierwrgoigdrCin  ysee onnp\n",
            "wat\n",
            ":innn\n",
            "Lra galiu  ars hi\n",
            "s n n Ltoeo:i hd , h\n",
            "oh labgh e :o eyam V nitec ptaotmrtNmeyhcihe \n",
            "aoopn r Iren \n",
            "er nu\n",
            "----\n"
          ],
          "name": "stdout"
        },
        {
          "output_type": "stream",
          "text": [
            "100%|██████████| 769/769 [00:05<00:00, 135.74it/s]\n",
            "  2%|▏         | 16/769 [00:00<00:04, 152.15it/s]"
          ],
          "name": "stderr"
        },
        {
          "output_type": "stream",
          "text": [
            "Epoch: 2 loss: 101.44944770132778\n",
            "----\n",
            "R'iine \n",
            "\n",
            "ooaMd a aaaum sregnrdealeehoeu yot nta agrLRtpe;A:s eoane cisaanorseitArd oiert nidh hge h eg\n",
            "d h owL oad oasaet.iane t einnr  Moa\n",
            "\n",
            "diilatc an;oenboeososot di t her;m Luhehe  tt nn rreerp om \n",
            "----\n"
          ],
          "name": "stdout"
        },
        {
          "output_type": "stream",
          "text": [
            "100%|██████████| 769/769 [00:05<00:00, 138.91it/s]\n",
            "  2%|▏         | 15/769 [00:00<00:05, 143.74it/s]"
          ],
          "name": "stderr"
        },
        {
          "output_type": "stream",
          "text": [
            "Epoch: 3 loss: 101.42090773453714\n",
            "----\n",
            "saogaandes oru;esI art.sy.\n",
            "olsnfe id srlon vo my,erl; m\n",
            "AWhod thpln nIIbtiro trsod t on Vrt al\n",
            "'s ain t\n",
            "\n",
            "d\n",
            "bocomi hoh\n",
            "VAs oer Vad byon I tee. Aloyr thebl rs hetythtod honsy go Ie deey fenyh iire hearn\n",
            "----\n"
          ],
          "name": "stdout"
        },
        {
          "output_type": "stream",
          "text": [
            "100%|██████████| 769/769 [00:05<00:00, 140.86it/s]\n",
            "  2%|▏         | 15/769 [00:00<00:05, 141.38it/s]"
          ],
          "name": "stderr"
        },
        {
          "output_type": "stream",
          "text": [
            "Epoch: 4 loss: 101.38854713583926\n",
            "----\n",
            "lar wathale; huer\n",
            "Otftoer foaI,,  merat\n",
            " gpebme fopye aattou aw,\n",
            "an potdi ateyeV:EAGIA rhso icren yoi eemar eh'e; , sogmoI\n",
            "heit\n",
            "Vle mon esr vRyl onmatsemsR-Hen s ouml.o: ougwnhonmwoyeWi hhe wel .oicti\n",
            "----\n"
          ],
          "name": "stdout"
        },
        {
          "output_type": "stream",
          "text": [
            "100%|██████████| 769/769 [00:05<00:00, 139.02it/s]\n",
            "  2%|▏         | 15/769 [00:00<00:05, 149.97it/s]"
          ],
          "name": "stderr"
        },
        {
          "output_type": "stream",
          "text": [
            "Epoch: 5 loss: 101.35291917558712\n",
            "----\n",
            "nt draryes hir onoitt roeop rours, ipu II ci: inntoes sol pLayem wy: y lifi loiteonntheon pole ;r ir won; nhonr aneoeke boren linLVwoldes can tiutee aLYeleceonhe\n",
            ":\n",
            "hame foesceenanyous mpad. Ierit.\n",
            "\n",
            "VA\n",
            "----\n"
          ],
          "name": "stdout"
        },
        {
          "output_type": "stream",
          "text": [
            "100%|██████████| 769/769 [00:05<00:00, 139.78it/s]\n",
            "  2%|▏         | 14/769 [00:00<00:05, 137.92it/s]"
          ],
          "name": "stderr"
        },
        {
          "output_type": "stream",
          "text": [
            "Epoch: 6 loss: 101.31647740133154\n",
            "----\n",
            "ntberal it: hugir neall 'awhi.  thoridm mirs.\n",
            "nenmmreap!  rers moe igLhad parere Anouldd hde: Ido; Iu ghomand thee grld uther\n",
            "VAoroIs\n",
            "Vn, at gothy omotbe.\n",
            "Vie thepide.\n",
            "Scan lut yos; Ieu wafons hoon:\n",
            "'\n",
            "----\n"
          ],
          "name": "stdout"
        },
        {
          "output_type": "stream",
          "text": [
            "100%|██████████| 769/769 [00:05<00:00, 137.88it/s]\n",
            "  2%|▏         | 14/769 [00:00<00:05, 134.23it/s]"
          ],
          "name": "stderr"
        },
        {
          "output_type": "stream",
          "text": [
            "Epoch: 7 loss: 101.27970146187154\n",
            "----\n",
            "tziens he'g ng hont-eathu carilo' wir thaant\n",
            "Atgog gzrkl iu truadtponaiu det yald pcan mam wtllanbich houor.s\n",
            "VLIAm yhisp ,\n",
            "\n",
            "Thercire itomos reumy y arow thed ius wotiinr ad\n",
            " aomat ghe,\n",
            "Vheoy:\n",
            "Rugos f\n",
            "----\n"
          ],
          "name": "stdout"
        },
        {
          "output_type": "stream",
          "text": [
            "100%|██████████| 769/769 [00:05<00:00, 137.84it/s]\n",
            "  2%|▏         | 15/769 [00:00<00:05, 142.95it/s]"
          ],
          "name": "stderr"
        },
        {
          "output_type": "stream",
          "text": [
            "Epoch: 8 loss: 101.24258930947838\n",
            "----\n",
            "reme the abes hor cmes eanr iripanTchit hd pat, ret deRhiln\n",
            "VI mou,t gou gefeer aingy come thitsoulg: therild th !Rh:\n",
            ":tine is yond wam.\n",
            " itor koe rin?\n",
            "\n",
            "YoI Cigs cer thantgones? thoded.\n",
            "VIROEDINII toa\n",
            "----\n"
          ],
          "name": "stdout"
        },
        {
          "output_type": "stream",
          "text": [
            "100%|██████████| 769/769 [00:05<00:00, 138.71it/s]\n",
            "  2%|▏         | 13/769 [00:00<00:05, 128.73it/s]"
          ],
          "name": "stderr"
        },
        {
          "output_type": "stream",
          "text": [
            "Epoch: 9 loss: 101.20512888030645\n",
            "----\n",
            "pin\n",
            "VI\n",
            "LRutooe in  onsI,; tiddius in sit . yinn\n",
            "VMRLILINnGIhenshild orye ooer:\n",
            "\n",
            "IAbd the gous ftheiss rof ans bifrintd inl hor esm Fasthes fi, fede maras won, It:\n",
            "H:\n",
            "Vpo, in har sof sinin'drorarr the \n",
            "----\n"
          ],
          "name": "stdout"
        },
        {
          "output_type": "stream",
          "text": [
            "100%|██████████| 769/769 [00:05<00:00, 140.78it/s]\n",
            "  2%|▏         | 16/769 [00:00<00:04, 151.01it/s]"
          ],
          "name": "stderr"
        },
        {
          "output_type": "stream",
          "text": [
            "Epoch: 10 loss: 101.16749239101338\n",
            "----\n",
            "thid:\n",
            "Tye igust lfs thar noot.\n",
            "IS foves,'nd hI his.\n",
            "UFobmes; he mancxk thn socas ous yfey bare He ath rorand erle h bathm tirait thius yag.\n",
            "wheav thimttolghtan car nel, n po weast meay ton Co. an cemr\n",
            "----\n"
          ],
          "name": "stdout"
        },
        {
          "output_type": "stream",
          "text": [
            "100%|██████████| 769/769 [00:05<00:00, 140.19it/s]\n",
            "  2%|▏         | 15/769 [00:00<00:05, 144.49it/s]"
          ],
          "name": "stderr"
        },
        {
          "output_type": "stream",
          "text": [
            "Epoch: 11 loss: 101.13003849734227\n",
            "----\n",
            "n; Ir hney th sot .ersnnl, batr wout ovithrat hombt lon won sI! sh ooddttthoy routed\n",
            "\n",
            "I:\n",
            "\n",
            "INRh yiy. de.\n",
            "Adrel dhle- Imave a ny ias onnsd rowet you mat th the the kooun, madatogone,\n",
            "A: the.\n",
            "The bustd y\n",
            "----\n"
          ],
          "name": "stdout"
        },
        {
          "output_type": "stream",
          "text": [
            "100%|██████████| 769/769 [00:05<00:00, 138.63it/s]\n",
            "  2%|▏         | 15/769 [00:00<00:05, 146.05it/s]"
          ],
          "name": "stderr"
        },
        {
          "output_type": "stream",
          "text": [
            "Epoch: 12 loss: 101.09244818966204\n",
            "----\n",
            "n haVIteigi the dateerat yogi'L\n",
            "\n",
            "LINGIRG: hou cheeace Idin mraot tithi mikid hory doranif in rises eau wiin whobat gow kye wuen toThe anlm st mapansr apath. ernela:\n",
            "\n",
            "Firorit yeus th; I io nal othey yo\n",
            "----\n"
          ],
          "name": "stdout"
        },
        {
          "output_type": "stream",
          "text": [
            "100%|██████████| 769/769 [00:05<00:00, 138.01it/s]\n",
            "  2%|▏         | 15/769 [00:00<00:05, 147.53it/s]"
          ],
          "name": "stderr"
        },
        {
          "output_type": "stream",
          "text": [
            "Epoch: 13 loss: 101.05455748421028\n",
            "----\n",
            "my,\n",
            "Oegor? intond mer nans teert thr ? MaudU otit yirs, un;;\n",
            "gu:\n",
            "IsRIous anleow narte.\n",
            "Acan,\n",
            "\n",
            "I;:\n",
            "Igaysedlis.\n",
            "\n",
            "AFa-cous, there nogsy ure fu time gild hesyrey nour t so't agot aa ne te yiuth it fou IS!\n",
            "----\n"
          ],
          "name": "stdout"
        },
        {
          "output_type": "stream",
          "text": [
            "100%|██████████| 769/769 [00:05<00:00, 137.80it/s]\n",
            "  2%|▏         | 15/769 [00:00<00:05, 148.91it/s]"
          ],
          "name": "stderr"
        },
        {
          "output_type": "stream",
          "text": [
            "Epoch: 14 loss: 101.01706144855989\n",
            "----\n",
            "t br ch .\n",
            "A:\n",
            "\n",
            "fougir\n",
            "Thons\n",
            "Awte werarstgin yibot nom wa rya nof badstit thitry, yimk aost theerik fomes tdhe fp iwI:\n",
            "gor Iod\n",
            "NIINmenerisine:\n",
            "\n",
            "VArkeou.\n",
            "\n",
            "VLIA\n",
            "bantlisere perriud,\n",
            "I\n",
            "IUULVALoofy fowd, you\n",
            "----\n"
          ],
          "name": "stdout"
        },
        {
          "output_type": "stream",
          "text": [
            "100%|██████████| 769/769 [00:05<00:00, 139.10it/s]\n",
            "  2%|▏         | 15/769 [00:00<00:05, 142.67it/s]"
          ],
          "name": "stderr"
        },
        {
          "output_type": "stream",
          "text": [
            "Epoch: 15 loss: 100.97988490428978\n",
            "----\n",
            "vot fve peis gwods that ber AENIU\n",
            "ID:\n",
            "Nens wagldet hont insem theC\n",
            "Bor im pot the cot than ary,;int\n",
            "I mois ceid lem?\n",
            " can; arleeren peizebesi\n",
            "Vfedy is,\n",
            "VMRUA VEaafe thmosot loray hongope weiuu Ielg; m\n",
            "----\n"
          ],
          "name": "stdout"
        },
        {
          "output_type": "stream",
          "text": [
            "100%|██████████| 769/769 [00:05<00:00, 142.99it/s]\n",
            "  2%|▏         | 14/769 [00:00<00:05, 137.72it/s]"
          ],
          "name": "stderr"
        },
        {
          "output_type": "stream",
          "text": [
            "Epoch: 16 loss: 100.94292502070205\n",
            "----\n",
            "r thecowknee lo hine\n",
            "The baso mon hitir, yors nerer cofey rilhioqy bdy told ysor when lhont, toly pamimarth Iinicoius,\n",
            " a shmedan. d, lenes\n",
            "\n",
            "ARyou tigWhee le, o wers; war.\n",
            "\n",
            "Antent tI veret.\n",
            "why noruu\n",
            "\n",
            "----\n"
          ],
          "name": "stdout"
        },
        {
          "output_type": "stream",
          "text": [
            "100%|██████████| 769/769 [00:05<00:00, 138.93it/s]\n",
            "  2%|▏         | 14/769 [00:00<00:05, 137.47it/s]"
          ],
          "name": "stderr"
        },
        {
          "output_type": "stream",
          "text": [
            "Epoch: 17 loss: 100.90637765706192\n",
            "----\n",
            "p het adars thauc .Yeneel' whe Lin: wer; thelr thaghand to\n",
            "Ide\n",
            "VGR:\n",
            "phtt or ot he isR bus fyronm mid busAd mit be, coched\n",
            "Bofive it, the fak I lid wer canl fune whil borun, lr harreitt,? ynu feinw son\n",
            "----\n"
          ],
          "name": "stdout"
        },
        {
          "output_type": "stream",
          "text": [
            "100%|██████████| 769/769 [00:05<00:00, 140.10it/s]\n",
            "  2%|▏         | 15/769 [00:00<00:05, 148.73it/s]"
          ],
          "name": "stderr"
        },
        {
          "output_type": "stream",
          "text": [
            "Epoch: 18 loss: 100.86992039086198\n",
            "----\n",
            "ntonldor.\n",
            "\n",
            "SIAVIU:\n",
            "AnVIAicot, nifitconicd lichablhe thew.\n",
            "Selt it\n",
            "Wfeor coudeitit renha toud, the Rithaur Vyes veer, arad voitoMo lat san baro ve sin sh hatthuw gus. sounge sorsf ir lony nathiun aad h\n",
            "----\n"
          ],
          "name": "stdout"
        },
        {
          "output_type": "stream",
          "text": [
            "100%|██████████| 769/769 [00:05<00:00, 138.17it/s]\n",
            "  2%|▏         | 15/769 [00:00<00:05, 147.17it/s]"
          ],
          "name": "stderr"
        },
        {
          "output_type": "stream",
          "text": [
            "Epoch: 19 loss: 100.83387203035696\n",
            "----\n",
            "f the fon ber sipnear hiwh me, co as yoms he to epro tatry thryit.\n",
            "UENRAAs yadi.\n",
            "Ses\n",
            "\n",
            "IAits I.\n",
            "\n",
            "VLEIRGV:\n",
            "I thap emert ont wowre-mmida wiculu tat ton:\n",
            "\n",
            "S:\n",
            "Soud, he pau gay. the th, Iwi it hruy ewve wea\n",
            "----\n"
          ],
          "name": "stdout"
        },
        {
          "output_type": "stream",
          "text": [
            "100%|██████████| 769/769 [00:05<00:00, 139.21it/s]\n",
            "  2%|▏         | 15/769 [00:00<00:05, 145.99it/s]"
          ],
          "name": "stderr"
        },
        {
          "output_type": "stream",
          "text": [
            "Epoch: 20 loss: 100.79788905733302\n",
            "----\n",
            "ms.\n",
            "Yot theeL\n",
            "Ane; an avace onileit; upongozettha thar yone lirinmises ho mheunt o see Voe thittd cgi mes ard seve toondrit fan.\n",
            "\n",
            "VEyhe\n",
            "Vmy\n",
            "Theris,\n",
            "whes arw, waon yot; at sind ad yore hesmau alw, whro\n",
            "----\n"
          ],
          "name": "stdout"
        },
        {
          "output_type": "stream",
          "text": [
            "100%|██████████| 769/769 [00:05<00:00, 138.94it/s]\n",
            "  2%|▏         | 15/769 [00:00<00:05, 144.97it/s]"
          ],
          "name": "stderr"
        },
        {
          "output_type": "stream",
          "text": [
            "Epoch: 21 loss: 100.76203499504611\n",
            "----\n",
            "; he mung rapand that.\n",
            "\n",
            "VeNhooge cuni it o dabesmen; ave.s pall?\n",
            "\n",
            "VRLIAmetr Cir.\n",
            "\n",
            "Lanut yor\n",
            "Mann\n",
            "I arne nome' thevere he mist yom,\n",
            "IE\n",
            "Touf, raum, ghaur nyos pit yowes.\n",
            "\n",
            "VVyRoung'nll I gortt tor anstit\n",
            "----\n"
          ],
          "name": "stdout"
        },
        {
          "output_type": "stream",
          "text": [
            "100%|██████████| 769/769 [00:05<00:00, 139.69it/s]\n",
            "  2%|▏         | 15/769 [00:00<00:05, 146.52it/s]"
          ],
          "name": "stderr"
        },
        {
          "output_type": "stream",
          "text": [
            "Epoch: 22 loss: 100.72622783842549\n",
            "----\n",
            "n as miylike coneves an the ant?\n",
            "Weantit ame- fmeald soy wes, dhesred fre bor be heet\n",
            "I, Mfey\n",
            "VVALIApsr si, toud uns Vout goun thr, mariteltee moad?\n",
            " gersersor ir bupi,\n",
            "Doe pot o thind ou im vadmth ha\n",
            "----\n"
          ],
          "name": "stdout"
        },
        {
          "output_type": "stream",
          "text": [
            "100%|██████████| 769/769 [00:05<00:00, 141.41it/s]\n",
            "  2%|▏         | 15/769 [00:00<00:05, 148.35it/s]"
          ],
          "name": "stderr"
        },
        {
          "output_type": "stream",
          "text": [
            "Epoch: 23 loss: 100.69032857620837\n",
            "----\n",
            "d gay anl; goou\n",
            "stbout ct; ciby gondrst ar pre your\n",
            "Her imthaRbaiu hof fi haden hed hars 'ls dene ssheilcmy mibt.\n",
            "On inrer the lam nerald a geve or: I arkad dateun; pot ow ssodecide llyI luther sfin.\n",
            "\n",
            "----\n"
          ],
          "name": "stdout"
        },
        {
          "output_type": "stream",
          "text": [
            "100%|██████████| 769/769 [00:05<00:00, 141.87it/s]\n",
            "  2%|▏         | 15/769 [00:00<00:05, 146.02it/s]"
          ],
          "name": "stderr"
        },
        {
          "output_type": "stream",
          "text": [
            "Epoch: 24 loss: 100.65501463203236\n",
            "----\n",
            "d: el hpo\n",
            "I\n",
            "VRI\n",
            "VENIALRIRGI:\n",
            "Aa an :\n",
            "Thu, maled lame I.  hars bortistment nom so yor af tor atdoully\n",
            "it: tht hud rod atd pis.\n",
            "\n",
            "UUS:\n",
            "VVSgauf tot mus'p I taaud'cne till ci sor norren, fou syove mome orc\n",
            "----\n"
          ],
          "name": "stdout"
        },
        {
          "output_type": "stream",
          "text": [
            "100%|██████████| 769/769 [00:05<00:00, 141.38it/s]\n",
            "  2%|▏         | 14/769 [00:00<00:05, 139.83it/s]"
          ],
          "name": "stderr"
        },
        {
          "output_type": "stream",
          "text": [
            "Epoch: 25 loss: 100.61973673751626\n",
            "----\n",
            "ust gneat ir hes and fod meakim fare hid.\n",
            "stito rmote dyiblcebotil esin pill, thly moutst toudsenreon:\n",
            "gom you less the mim emaghat ss,\n",
            "Aermd coag re st atim fer nil hasd le cers' noa' matsen:\n",
            "\n",
            "I\n",
            "nour\n",
            "----\n"
          ],
          "name": "stdout"
        },
        {
          "output_type": "stream",
          "text": [
            "100%|██████████| 769/769 [00:05<00:00, 143.33it/s]\n",
            "  2%|▏         | 16/769 [00:00<00:04, 152.64it/s]"
          ],
          "name": "stderr"
        },
        {
          "output_type": "stream",
          "text": [
            "Epoch: 26 loss: 100.58443253140274\n",
            "----\n",
            "rh gis.\n",
            " nt.\n",
            "dotes, :\n",
            "Chode wif an'jer.\n",
            "\n",
            "MIA: py,.\n",
            "\n",
            "VARIA:\n",
            "NII, yot?\n",
            "Wers he nieriporempyesd meacd doneas awtdocis whecaral; e.\n",
            "\n",
            "VIAng maner sol foey ;the.\n",
            "Vim ,\n",
            "VCELIA: stit I'n: the prayawl oor beme\n",
            "----\n"
          ],
          "name": "stdout"
        },
        {
          "output_type": "stream",
          "text": [
            "100%|██████████| 769/769 [00:05<00:00, 140.32it/s]\n",
            "  2%|▏         | 15/769 [00:00<00:05, 148.12it/s]"
          ],
          "name": "stderr"
        },
        {
          "output_type": "stream",
          "text": [
            "Epoch: 27 loss: 100.54899297161853\n",
            "----\n",
            "d thems wed yuwhansinste condraase yonl, apit pirirsr carat thalala,\n",
            "\n",
            "V:\n",
            "VAm\n",
            "I; that we mr e end I anmty, I erone bak thas farins thes I, mip shald, maun, thet thyon do the wit trin fsrond toud dol mv\n",
            "----\n"
          ],
          "name": "stdout"
        },
        {
          "output_type": "stream",
          "text": [
            "100%|██████████| 769/769 [00:05<00:00, 141.62it/s]\n",
            "  2%|▏         | 14/769 [00:00<00:05, 132.94it/s]"
          ],
          "name": "stderr"
        },
        {
          "output_type": "stream",
          "text": [
            "Epoch: 28 loss: 100.51343351901333\n",
            "----\n",
            "ve v: whag li. IA\n",
            "The maitit hiy worimr are is tasr.\n",
            "\n",
            "VALVALagssiok yod hous yot is fen. Coemarirr the- hisfit aome? ance pere- yous i fomos in the\n",
            "enos; sekeinty: yof sashow ire geths; the aljey tafs\n",
            "----\n"
          ],
          "name": "stdout"
        },
        {
          "output_type": "stream",
          "text": [
            "100%|██████████| 769/769 [00:05<00:00, 141.08it/s]\n",
            "  2%|▏         | 14/769 [00:00<00:05, 134.13it/s]"
          ],
          "name": "stderr"
        },
        {
          "output_type": "stream",
          "text": [
            "Epoch: 29 loss: 100.47775396537408\n",
            "----\n",
            "imy I ILfaufasV: als yonm tetre ay chey ite stas heemy kanle iunlt it. house ir\n",
            "set fin; yoy arave ceinil: I Thrmers.\n",
            "Heilc.\n",
            "\n",
            "Mfitheen\n",
            "ste on the  pat rate neirnd meoos annse anhe arnir? desVne! If; t\n",
            "----\n"
          ],
          "name": "stdout"
        },
        {
          "output_type": "stream",
          "text": [
            "100%|██████████| 769/769 [00:05<00:00, 142.08it/s]\n",
            "  2%|▏         | 16/769 [00:00<00:04, 153.79it/s]"
          ],
          "name": "stderr"
        },
        {
          "output_type": "stream",
          "text": [
            "Epoch: 30 loss: 100.44194477109728\n",
            "----\n",
            "t, we gat ustdor ve scamiblliri dmiwnsty with ta\n",
            "VoLIULNII togiod ror ist ink bereLt werond bll:\n",
            "In: met Id a som, atheneyeng,s I malper cem mes,\n",
            "Thawin mar hat.\n",
            "\n",
            "SI theain wengeml, 'oulist mit; Mocsh\n",
            "----\n"
          ],
          "name": "stdout"
        },
        {
          "output_type": "stream",
          "text": [
            "100%|██████████| 769/769 [00:05<00:00, 141.27it/s]\n",
            "  2%|▏         | 16/769 [00:00<00:04, 150.78it/s]"
          ],
          "name": "stderr"
        },
        {
          "output_type": "stream",
          "text": [
            "Epoch: 31 loss: 100.40617594513178\n",
            "----\n",
            "nte.\n",
            "\n",
            "VANUS: wi:\n",
            "mery the ant on halr ant to the ty dowave melh to' cLis yet aa thoest halh gou were moritis nog wot cold ou Cie threy yro\n",
            "Anedestreve's gas s. wotit,s\n",
            "Sour?\n",
            "\n",
            "Fazan emichadn? wars prey\n",
            "----\n"
          ],
          "name": "stdout"
        },
        {
          "output_type": "stream",
          "text": [
            "100%|██████████| 769/769 [00:05<00:00, 141.42it/s]\n",
            "  2%|▏         | 15/769 [00:00<00:05, 142.92it/s]"
          ],
          "name": "stderr"
        },
        {
          "output_type": "stream",
          "text": [
            "Epoch: 32 loss: 100.37058252066772\n",
            "----\n",
            "se I,wed me swif wiin sis yow nocveande ad wo, \n",
            "GI RININGGOLVINIA:\n",
            "Hithet cit. Whey thort whist got erile the he ghif shi:\n",
            "Our:\n",
            "BECILaneny us: our s.\n",
            "\n",
            "VALESIRINIAery not co har\n",
            "Ceiny cout pally ded.\n",
            "\n",
            "\n",
            "----\n"
          ],
          "name": "stdout"
        },
        {
          "output_type": "stream",
          "text": [
            "100%|██████████| 769/769 [00:05<00:00, 142.26it/s]\n",
            "  2%|▏         | 15/769 [00:00<00:05, 148.54it/s]"
          ],
          "name": "stderr"
        },
        {
          "output_type": "stream",
          "text": [
            "Epoch: 33 loss: 100.33499848075284\n",
            "----\n",
            "d hataid der er hlolt huaus the i, botagibcavithin: as heted ret scon tieche, baiugved wee meon bond amus freo wothir nould cayeand thlucleceter buy theln a'nnheles; mel' of oVand prist goustcenut dot\n",
            "----\n"
          ],
          "name": "stdout"
        },
        {
          "output_type": "stream",
          "text": [
            "100%|██████████| 769/769 [00:05<00:00, 142.17it/s]\n",
            "  2%|▏         | 16/769 [00:00<00:04, 153.00it/s]"
          ],
          "name": "stderr"
        },
        {
          "output_type": "stream",
          "text": [
            "Epoch: 34 loss: 100.2992386894394\n",
            "----\n",
            "us I suga, guemle, g and the your\n",
            "Vek-t\n",
            "ejeas fow: Thens, whig, thaer dot oud.\n",
            "\n",
            "Fenorst wheerrito hirt af, onn'tnWh, an redas yom bea thot yat cove teapeend erap.\n",
            "Whe I de ur camer whemy\n",
            "Aind norat th\n",
            "----\n"
          ],
          "name": "stdout"
        },
        {
          "output_type": "stream",
          "text": [
            "100%|██████████| 769/769 [00:05<00:00, 138.25it/s]\n",
            "  2%|▏         | 15/769 [00:00<00:05, 142.07it/s]"
          ],
          "name": "stderr"
        },
        {
          "output_type": "stream",
          "text": [
            "Epoch: 35 loss: 100.26352915183392\n",
            "----\n",
            "in sbat ould it fomst. Arasb,\n",
            "Thloldind, no draond thay gmald celnt want vat; thetcove fr.\n",
            "\n",
            "VIR:\n",
            "whae der as, estiums huel anlall's ak'\n",
            " amaghe lale fon I, Rot chek thes mr, theill b, ghemy foond ye y\n",
            "----\n"
          ],
          "name": "stdout"
        },
        {
          "output_type": "stream",
          "text": [
            "100%|██████████| 769/769 [00:05<00:00, 140.93it/s]\n",
            "  2%|▏         | 15/769 [00:00<00:05, 147.50it/s]"
          ],
          "name": "stderr"
        },
        {
          "output_type": "stream",
          "text": [
            "Epoch: 36 loss: 100.22779824513572\n",
            "----\n",
            "tsr an; syood youl youe\n",
            "'cilcot toMn: the thoy mow o's,\n",
            "An;\n",
            "I arss dars\n",
            "OLelellam fo,\n",
            "'wher whor; gon.\n",
            "\n",
            "AS:\n",
            "On yoll, for for thy mly go habul youd, thid im Lerry as yout prear yoodaws the nelleded.\n",
            "\n",
            "V\n",
            "----\n"
          ],
          "name": "stdout"
        },
        {
          "output_type": "stream",
          "text": [
            "100%|██████████| 769/769 [00:05<00:00, 141.60it/s]\n",
            "  2%|▏         | 14/769 [00:00<00:05, 138.28it/s]"
          ],
          "name": "stderr"
        },
        {
          "output_type": "stream",
          "text": [
            "Epoch: 37 loss: 100.19174888605293\n",
            "----\n",
            "t tower he head thind an mite doond, he ofras.\n",
            "Af hariwI' oons.\n",
            "\n",
            "VIRO a itthadn appreave fo'.\n",
            "\n",
            "VRAmengfe ond soy was st.  urtmauge.\n",
            "Omawey wan; sameneqed\n",
            "Wet pre noice lars songuest.\n",
            "Mfe mere is;\n",
            "OR w\n",
            "----\n"
          ],
          "name": "stdout"
        },
        {
          "output_type": "stream",
          "text": [
            "100%|██████████| 769/769 [00:05<00:00, 141.44it/s]\n",
            "  2%|▏         | 16/769 [00:00<00:05, 149.81it/s]"
          ],
          "name": "stderr"
        },
        {
          "output_type": "stream",
          "text": [
            "Epoch: 38 loss: 100.1558242569048\n",
            "----\n",
            "l: mcene har.\n",
            "Singreanm sir mulms able tins artser: sin'- meve to, tatw\n",
            "Honth you yiurs hats, sto, I whe tom.\n",
            "\n",
            "VVILI'atondr thattoms Whr, redth it Anvell;\n",
            "Tay on:e\n",
            "VId,\n",
            "I gim malilt catornall dorneood\n",
            "----\n"
          ],
          "name": "stdout"
        },
        {
          "output_type": "stream",
          "text": [
            "100%|██████████| 769/769 [00:05<00:00, 138.83it/s]\n",
            "  2%|▏         | 16/769 [00:00<00:04, 150.65it/s]"
          ],
          "name": "stderr"
        },
        {
          "output_type": "stream",
          "text": [
            "Epoch: 39 loss: 100.11947350322963\n",
            "----\n",
            "ns yous is gisenue co ancw:\n",
            "I yo' I uth it hollh the rer, thit ofsowdst freeveny elthe an and tutoodse'st the ondoe the the Vod bathine muthets owko gogheis Ram The'ld FitAven:\n",
            "Aryot\n",
            "Omate anneou vith\n",
            "----\n"
          ],
          "name": "stdout"
        },
        {
          "output_type": "stream",
          "text": [
            "100%|██████████| 769/769 [00:05<00:00, 142.33it/s]\n",
            "  2%|▏         | 16/769 [00:00<00:04, 153.13it/s]"
          ],
          "name": "stderr"
        },
        {
          "output_type": "stream",
          "text": [
            "Epoch: 40 loss: 100.08317376685761\n",
            "----\n",
            "recheLee a peerermes.\n",
            "\n",
            "VALlithipty\n",
            "IUS:\n",
            "IAas! bovenry at enhe intyangan wavey\n",
            "I\n",
            "SVA:\n",
            "Cou:\n",
            "MTI:\n",
            "Aatmof cedst,\n",
            "gom an co meanne henly I yot\n",
            "I\n",
            "\n",
            "VORGGILIULGGIA sudnemt. I we ofen.\n",
            "\n",
            "VUerI arsheird, ild gun\n",
            "----\n"
          ],
          "name": "stdout"
        },
        {
          "output_type": "stream",
          "text": [
            "100%|██████████| 769/769 [00:05<00:00, 140.29it/s]\n",
            "  2%|▏         | 14/769 [00:00<00:05, 133.08it/s]"
          ],
          "name": "stderr"
        },
        {
          "output_type": "stream",
          "text": [
            "Epoch: 41 loss: 100.04725652996795\n",
            "----\n",
            ", the icninsuod; thiblt fpees.\n",
            "\n",
            "ALanners LEm hes youg arm Ay malkme wade UR pser alif dion deay shadey farey co,\n",
            "IU\n",
            "Fallit. ikt sthe yous,\n",
            "Im you ciar be strancis, ollomakyeneres angner it, shind t'lu\n",
            "----\n"
          ],
          "name": "stdout"
        },
        {
          "output_type": "stream",
          "text": [
            "100%|██████████| 769/769 [00:05<00:00, 140.54it/s]\n",
            "  2%|▏         | 15/769 [00:00<00:05, 149.31it/s]"
          ],
          "name": "stderr"
        },
        {
          "output_type": "stream",
          "text": [
            "Epoch: 42 loss: 100.01139906549434\n",
            "----\n",
            "our\n",
            "\n",
            "MALE'babth stit core\n",
            "Remy mu naindeogir Lem,.\n",
            "\n",
            "VRGI toe Theld, I irniumars\n",
            " is be,\n",
            "Vee fore herb, kiar nor::\n",
            "Rou boold you warpein is it nerrot;\n",
            "Tor: it yot he ainglocar,\n",
            "I ratir nopt werad. Andr\n",
            "----\n"
          ],
          "name": "stdout"
        },
        {
          "output_type": "stream",
          "text": [
            "100%|██████████| 769/769 [00:05<00:00, 140.71it/s]\n",
            "  2%|▏         | 15/769 [00:00<00:05, 148.90it/s]"
          ],
          "name": "stderr"
        },
        {
          "output_type": "stream",
          "text": [
            "Epoch: 43 loss: 99.97545675806357\n",
            "----\n",
            "irs arn hem'yh it porwe'bor m tow col wame good th s aand,\n",
            "Rory farik talim; aum if en inerer goof the be\n",
            "Amcaily in hptike it, hire fof,\n",
            "I cathy pand then hy golve collere?\n",
            "gond I wire nall yon wos, \n",
            "----\n"
          ],
          "name": "stdout"
        },
        {
          "output_type": "stream",
          "text": [
            "100%|██████████| 769/769 [00:05<00:00, 141.48it/s]\n",
            "  2%|▏         | 15/769 [00:00<00:05, 147.81it/s]"
          ],
          "name": "stderr"
        },
        {
          "output_type": "stream",
          "text": [
            "Epoch: 44 loss: 99.93945278115916\n",
            "----\n",
            "l; and aand; sound il wat:\n",
            "Whey caved ridce, turere ins ense ore\n",
            "hilals fies nheir:\n",
            "Mathee\n",
            " hiis apel\n",
            "Weeve the the; I an Joll; tor witir siuke anp!\n",
            "\n",
            "VFnedemmy lors! wEmam, at your: I his thouptcil ou\n",
            "----\n"
          ],
          "name": "stdout"
        },
        {
          "output_type": "stream",
          "text": [
            "100%|██████████| 769/769 [00:05<00:00, 142.98it/s]\n",
            "  2%|▏         | 13/769 [00:00<00:06, 125.32it/s]"
          ],
          "name": "stderr"
        },
        {
          "output_type": "stream",
          "text": [
            "Epoch: 45 loss: 99.90345519594129\n",
            "----\n",
            "osist. I lot, the el, the  rra.\n",
            "\n",
            "MRsuustise hist tans hif I avey lhe dour whay ha at bove enicot is\n",
            "Af oore metit, ond wuld easit ollo\n",
            "I, Omtaad ther:\n",
            "Whus it mmad datay Vicaaly ind le, I hesindy thid\n",
            "----\n"
          ],
          "name": "stdout"
        },
        {
          "output_type": "stream",
          "text": [
            "100%|██████████| 769/769 [00:05<00:00, 141.51it/s]\n",
            "  2%|▏         | 15/769 [00:00<00:05, 146.38it/s]"
          ],
          "name": "stderr"
        },
        {
          "output_type": "stream",
          "text": [
            "Epoch: 46 loss: 99.8672437242812\n",
            "----\n",
            "ne mlol. Ma izis izet me you\n",
            "Anonlkem innderesw hael sour gonhen the yit oame anvmirwim whet mures im ssad firs armcet tawsround. whe. dad sang am youith the with ppsur welagh, noth een thest prut hf \n",
            "----\n"
          ],
          "name": "stdout"
        },
        {
          "output_type": "stream",
          "text": [
            "100%|██████████| 769/769 [00:05<00:00, 139.60it/s]\n",
            "  2%|▏         | 15/769 [00:00<00:05, 145.93it/s]"
          ],
          "name": "stderr"
        },
        {
          "output_type": "stream",
          "text": [
            "Epoch: 47 loss: 99.8309213177046\n",
            "----\n",
            "t; I'\n",
            "peelliis:\n",
            "Onf to youc pes\n",
            "Cot erey, thi ser matweandich tureve but'\n",
            "Mofe. I irsgontef he'pe ackely ust, fteak of whe I' ad we arcreald arst: wad hhllois, thed cof my, yuu porer.\n",
            "\n",
            "Finradty hatle \n",
            "----\n"
          ],
          "name": "stdout"
        },
        {
          "output_type": "stream",
          "text": [
            "100%|██████████| 769/769 [00:05<00:00, 142.52it/s]\n",
            "  2%|▏         | 14/769 [00:00<00:05, 136.93it/s]"
          ],
          "name": "stderr"
        },
        {
          "output_type": "stream",
          "text": [
            "Epoch: 48 loss: 99.79466114824613\n",
            "----\n",
            "tt I all I dpeves sfrad fopr, ome cabreyA igoul,\n",
            "Arakir me tpy\n",
            "Allind ppallonstheer,\n",
            "I,.\n",
            "Tangror art wer he peele an me. I andnotine velcamen:\n",
            "I see\n",
            "Somlat; thes tathe.\n",
            "\n",
            "VIRGILIRGILIA:\n",
            "Tfit's wius.\n",
            "Wy\n",
            "----\n"
          ],
          "name": "stdout"
        },
        {
          "output_type": "stream",
          "text": [
            "100%|██████████| 769/769 [00:05<00:00, 140.32it/s]\n",
            "  2%|▏         | 12/769 [00:00<00:06, 113.86it/s]"
          ],
          "name": "stderr"
        },
        {
          "output_type": "stream",
          "text": [
            "Epoch: 49 loss: 99.75819446356851\n",
            "----\n",
            "'m arst res ower gows pautns.\n",
            "\n",
            "OMNIy: I upbees the kis\n",
            "yor INod prow wan: porr mamt therndeis, dont onr foon-e wow\n",
            "\n",
            "VIRIbac'on hime thi go Mais, po pyou toredace whet el toeed:\n",
            "Ia ig tilhith shals hin\n",
            "----\n"
          ],
          "name": "stdout"
        },
        {
          "output_type": "stream",
          "text": [
            "100%|██████████| 769/769 [00:05<00:00, 140.69it/s]\n",
            "  2%|▏         | 13/769 [00:00<00:05, 129.29it/s]"
          ],
          "name": "stderr"
        },
        {
          "output_type": "stream",
          "text": [
            "Epoch: 50 loss: 99.72164124997208\n",
            "----\n",
            "ne, Isen.\n",
            "Ond,\n",
            "chis hamitore H yans land le noum youeth ser erins tLoble gour goa yoriwh miliok.\n",
            "\n",
            "VIURUENIionse attarest do iingevestle of woun ould leeril or pamy shacis you?\n",
            "RCaMhale thin can pank, \n",
            "----\n"
          ],
          "name": "stdout"
        },
        {
          "output_type": "stream",
          "text": [
            "100%|██████████| 769/769 [00:05<00:00, 138.36it/s]\n",
            "  2%|▏         | 13/769 [00:00<00:05, 126.24it/s]"
          ],
          "name": "stderr"
        },
        {
          "output_type": "stream",
          "text": [
            "Epoch: 51 loss: 99.68495440657843\n",
            "----\n",
            "s sbnornead her ad meall scen.\n",
            "\n",
            "VIAELI:\n",
            "Nanomakid; his sons n thene prain; be, I the bor not al shyuc; ven: bus gouptec\n",
            "cou ulldUsed, hir the is. fot to mane erst, toucns you, arn urelinapay.\n",
            "\n",
            "VIRGILI\n",
            "----\n"
          ],
          "name": "stdout"
        },
        {
          "output_type": "stream",
          "text": [
            "100%|██████████| 769/769 [00:05<00:00, 141.75it/s]\n",
            "  2%|▏         | 15/769 [00:00<00:05, 142.00it/s]"
          ],
          "name": "stderr"
        },
        {
          "output_type": "stream",
          "text": [
            "Epoch: 52 loss: 99.64790383378654\n",
            "----\n",
            "unintithr.\n",
            "hanreld wiain aoth urast tethen Cit Cit,\n",
            "Vhey dere mn.\n",
            "\n",
            "VALEA:\n",
            "VerAO athome\n",
            "Aamme yoanh oumere the dugee pedley eld at?\n",
            "\n",
            "ERIA:\n",
            "They aranMAROFIUTUy cottidmy ther teneatine ind wile micee kol\n",
            "----\n"
          ],
          "name": "stdout"
        },
        {
          "output_type": "stream",
          "text": [
            "100%|██████████| 769/769 [00:05<00:00, 141.34it/s]\n",
            "  2%|▏         | 15/769 [00:00<00:05, 142.32it/s]"
          ],
          "name": "stderr"
        },
        {
          "output_type": "stream",
          "text": [
            "Epoch: 53 loss: 99.61047091335888\n",
            "----\n",
            "uls,\n",
            "I he sems.\n",
            "\n",
            "ENIUTVITIAep anelly me my vaol yhe goontarnnof ruded ant, we iple we warveenteeve mlel hamlay,.\n",
            "Thop denh ours.\n",
            "de taplig knou to mengo thercow renom and wabt, saf,: yorpome,\n",
            "Thet I w\n",
            "----\n"
          ],
          "name": "stdout"
        },
        {
          "output_type": "stream",
          "text": [
            "100%|██████████| 769/769 [00:05<00:00, 139.70it/s]\n",
            "  2%|▏         | 16/769 [00:00<00:04, 153.61it/s]"
          ],
          "name": "stderr"
        },
        {
          "output_type": "stream",
          "text": [
            "Epoch: 54 loss: 99.57262291527692\n",
            "----\n",
            "tiw wereranger Hom belam hads alt yor oll:\n",
            "VA:\n",
            "had brenyiy amur lrRCaCathe woy sey on\n",
            "Woss you:\n",
            "Isrey hey boy the. As; did wek?\n",
            "\n",
            "ToCIind ingrmeing arce mith Ifer cather; to I yoo you hangrigurs nnhle \n",
            "----\n"
          ],
          "name": "stdout"
        },
        {
          "output_type": "stream",
          "text": [
            "100%|██████████| 769/769 [00:05<00:00, 141.63it/s]\n",
            "  2%|▏         | 16/769 [00:00<00:04, 154.74it/s]"
          ],
          "name": "stderr"
        },
        {
          "output_type": "stream",
          "text": [
            "Epoch: 55 loss: 99.53440437533135\n",
            "----\n",
            "e hanfolede dered wame hithlits fhrad yopreant the Cenown wame ankLouuli y: the yours; ii hiteerted hithr of iul, anther I than preome I'll notcethriur sweringetamol iscled hand, thet the paey sacache\n",
            "----\n"
          ],
          "name": "stdout"
        },
        {
          "output_type": "stream",
          "text": [
            "100%|██████████| 769/769 [00:05<00:00, 141.98it/s]\n",
            "  2%|▏         | 15/769 [00:00<00:05, 138.65it/s]"
          ],
          "name": "stderr"
        },
        {
          "output_type": "stream",
          "text": [
            "Epoch: 56 loss: 99.49572152957762\n",
            "----\n",
            "olleiu! mher:\n",
            "Whas ad fraaveres' arerly he hor cut\n",
            "\n",
            "Ay cam. bodorts ar; wo sorews\n",
            "Ronwite fshaln, upreodino siit apan-RGbrst, boll proris aud katt sas,\n",
            "Irsnove it leant thet.\n",
            "dows'ts him, pro storofed\n",
            "----\n"
          ],
          "name": "stdout"
        },
        {
          "output_type": "stream",
          "text": [
            "100%|██████████| 769/769 [00:05<00:00, 142.33it/s]\n",
            "  2%|▏         | 16/769 [00:00<00:04, 153.68it/s]"
          ],
          "name": "stderr"
        },
        {
          "output_type": "stream",
          "text": [
            "Epoch: 57 loss: 99.45646819163375\n",
            "----\n",
            "in; bus aplok, no patiokser or in fellot kir I'rs sad hajang, watd maros\n",
            " hitize cas yoe. many, hine awive wite ar mp wakeey, I mild, rathe nerers lath tole mato IRelout ar wor'p.\n",
            "\n",
            "VIRIA:\n",
            "Bet lormast,\n",
            "----\n"
          ],
          "name": "stdout"
        },
        {
          "output_type": "stream",
          "text": [
            "100%|██████████| 769/769 [00:05<00:00, 140.74it/s]\n",
            "  2%|▏         | 14/769 [00:00<00:05, 135.65it/s]"
          ],
          "name": "stderr"
        },
        {
          "output_type": "stream",
          "text": [
            "Epoch: 58 loss: 99.41678271234098\n",
            "----\n",
            "lrl.\n",
            "Mload, I cprithhat shato thive archan mlat, you the is you.\n",
            "\n",
            "VIA:\n",
            "Soleafr, in I wis mulasely don mh ares ar that you\n",
            "\n",
            "VILIA:\n",
            "I Iill ir nomlly:\n",
            "Hoy ara woncdingenger shbar care\n",
            "Von the it shaly an\n",
            "----\n"
          ],
          "name": "stdout"
        },
        {
          "output_type": "stream",
          "text": [
            "100%|██████████| 769/769 [00:05<00:00, 143.34it/s]\n",
            "  2%|▏         | 14/769 [00:00<00:05, 134.17it/s]"
          ],
          "name": "stderr"
        },
        {
          "output_type": "stream",
          "text": [
            "Epoch: 59 loss: 99.37650570926685\n",
            "----\n",
            "chemy'y I: cofendst: Circhot had'e imer-To hu ushe ived: I's ney bem, is eners Corote mo tath hill I wor Thougrand.\n",
            "\n",
            "VIRGIAj:\n",
            "Ven cLI Copat wared whey. watare most\n",
            "If IUb,\n",
            "Hes dait you:\n",
            "Wiskis s wi? h\n",
            "----\n"
          ],
          "name": "stdout"
        },
        {
          "output_type": "stream",
          "text": [
            "100%|██████████| 769/769 [00:05<00:00, 140.36it/s]\n",
            "  2%|▏         | 16/769 [00:00<00:04, 151.45it/s]"
          ],
          "name": "stderr"
        },
        {
          "output_type": "stream",
          "text": [
            "Epoch: 60 loss: 99.33592285628083\n",
            "----\n",
            "n; pous, yowere it, Aird,\n",
            "Ttow mits co haw urnss antiblo\n",
            "If guik ry is ra ratio the thoy siceand,\n",
            "Micis oMA:\n",
            "Snobbo to my prous for makedrenot leachy noty Of nory mathen 'so the fLatikn and small co c\n",
            "----\n"
          ],
          "name": "stdout"
        },
        {
          "output_type": "stream",
          "text": [
            "100%|██████████| 769/769 [00:05<00:00, 143.34it/s]\n",
            "  2%|▏         | 16/769 [00:00<00:04, 151.42it/s]"
          ],
          "name": "stderr"
        },
        {
          "output_type": "stream",
          "text": [
            "Epoch: 61 loss: 99.29537525967764\n",
            "----\n",
            "us lilobeang shood wour sfo , I manerndirnnallverst tyoodellyer lorvad starall.\n",
            "Shy yoves mafreread noun my it renetoltyou\n",
            "mogpr liy ol I hit woris omer tosd the onas fomy malyoum, tle whe itoke?\n",
            "\n",
            "VID\n",
            "----\n"
          ],
          "name": "stdout"
        },
        {
          "output_type": "stream",
          "text": [
            "100%|██████████| 769/769 [00:05<00:00, 141.51it/s]\n",
            "  2%|▏         | 15/769 [00:00<00:05, 146.24it/s]"
          ],
          "name": "stderr"
        },
        {
          "output_type": "stream",
          "text": [
            "Epoch: 62 loss: 99.25402776836563\n",
            "----\n",
            "nger.\n",
            "Faaly, gollat; hhede'MNow, I webipfivon his. An\n",
            "\n",
            "ull, Iy, thty ti fret and nibatcald werotcsenksthes rathe darim noblaras tof quiin pis tile goodseank ibc?\n",
            "\n",
            "OLUS:\n",
            "Oit are lomell Vord thadats fal\n",
            "----\n"
          ],
          "name": "stdout"
        },
        {
          "output_type": "stream",
          "text": [
            "100%|██████████| 769/769 [00:05<00:00, 144.40it/s]\n",
            "  2%|▏         | 15/769 [00:00<00:05, 147.41it/s]"
          ],
          "name": "stderr"
        },
        {
          "output_type": "stream",
          "text": [
            "Epoch: 63 loss: 99.21254759989637\n",
            "----\n",
            "efirsis you:\n",
            "Het, in ngraangeatome cout senedst\n",
            "you alp at sirst I all mamere mingelp artand bse,\n",
            "VOd mome it; deam; that he rpeingirt; swtiglanlliomyourddave vili the thele dait is\n",
            "wade.\n",
            "The non blir\n",
            "----\n"
          ],
          "name": "stdout"
        },
        {
          "output_type": "stream",
          "text": [
            "100%|██████████| 769/769 [00:05<00:00, 141.37it/s]\n",
            "  2%|▏         | 15/769 [00:00<00:05, 147.50it/s]"
          ],
          "name": "stderr"
        },
        {
          "output_type": "stream",
          "text": [
            "Epoch: 64 loss: 99.17093206759803\n",
            "----\n",
            "my yoaveration mis wererangmelaatim st, ist waplre are glorst of chid; natich youund llmivell ars the ar c I ame bey in gead lims.\n",
            "\n",
            "VIRIA:\n",
            "Ifwesels of liadieg\n",
            "Af norat\n",
            "medbamrne nould is wolves fank,\n",
            "\n",
            "----\n"
          ],
          "name": "stdout"
        },
        {
          "output_type": "stream",
          "text": [
            "100%|██████████| 769/769 [00:05<00:00, 142.40it/s]\n",
            "  2%|▏         | 16/769 [00:00<00:04, 151.29it/s]"
          ],
          "name": "stderr"
        },
        {
          "output_type": "stream",
          "text": [
            "Epoch: 65 loss: 99.12947820795914\n",
            "----\n",
            "goill it merrst boilt in ewy, cere,\n",
            "He us the wored kale wmam,\n",
            "Pyieseave Miughire arnethuprelin: be; Of tarearch hamerty my yof freavoully\n",
            "Matik\n",
            "We boringing innout nore wore lllen mive, you picawer b\n",
            "----\n"
          ],
          "name": "stdout"
        },
        {
          "output_type": "stream",
          "text": [
            "100%|██████████| 769/769 [00:05<00:00, 141.71it/s]\n",
            "  2%|▏         | 15/769 [00:00<00:05, 148.51it/s]"
          ],
          "name": "stderr"
        },
        {
          "output_type": "stream",
          "text": [
            "Epoch: 66 loss: 99.08791109469227\n",
            "----\n",
            "tenkenncyr? nom: your hedry,\n",
            "Wheve teresenoby ITUS:\n",
            "Lire forved to do lowim shanc ars!\n",
            "\n",
            "VIRGILIRGILIRGILIA:\n",
            "IDand bathyur;\n",
            "swak il to you mast, ous mald youedeued hamabcnest; ne ferall. the cotheurs w\n",
            "----\n"
          ],
          "name": "stdout"
        },
        {
          "output_type": "stream",
          "text": [
            "100%|██████████| 769/769 [00:05<00:00, 143.83it/s]\n",
            "  2%|▏         | 16/769 [00:00<00:04, 153.65it/s]"
          ],
          "name": "stderr"
        },
        {
          "output_type": "stream",
          "text": [
            "Epoch: 67 loss: 99.04620982263256\n",
            "----\n",
            "uth:\n",
            "Sall: a'lllely nom, Vowthius loutizense you toshingf telithenghe the crme, Vno noull cithrae sotcor goug, thes hawe thalke, the heandeter mice thut ond, I fistioe havith stortelllean to the meavt\n",
            "----\n"
          ],
          "name": "stdout"
        },
        {
          "output_type": "stream",
          "text": [
            "100%|██████████| 769/769 [00:05<00:00, 140.49it/s]\n",
            "  2%|▏         | 15/769 [00:00<00:05, 141.74it/s]"
          ],
          "name": "stderr"
        },
        {
          "output_type": "stream",
          "text": [
            "Epoch: 68 loss: 99.00416345362157\n",
            "----\n",
            "nenghed you thes ourghit has chuch cmand mtyou\n",
            "Wer souelit Cim wa, beeader we.\n",
            "\n",
            "AmRStond my an bdors orhik\n",
            "The wanr bathies the ware you wims th ic lipe whal. Mare paansen hmilu butherant magtily god,\n",
            "----\n"
          ],
          "name": "stdout"
        },
        {
          "output_type": "stream",
          "text": [
            "100%|██████████| 769/769 [00:05<00:00, 137.99it/s]\n",
            "  2%|▏         | 15/769 [00:00<00:05, 147.72it/s]"
          ],
          "name": "stderr"
        },
        {
          "output_type": "stream",
          "text": [
            "Epoch: 69 loss: 98.96183815886458\n",
            "----\n",
            "zenffow firs ery deul smar:\n",
            "Thang;\n",
            "The coran; is yout, I enk?\n",
            "\n",
            "VIRGILIA:\n",
            "MALERerowa uno beiove:\n",
            "\n",
            "VOLUSernry haye\n",
            "They and cathir:\n",
            "as, healmes in onk gan aat greviblith arine pou; it our they your anss\n",
            "----\n"
          ],
          "name": "stdout"
        },
        {
          "output_type": "stream",
          "text": [
            "100%|██████████| 769/769 [00:05<00:00, 140.85it/s]\n",
            "  2%|▏         | 14/769 [00:00<00:05, 139.14it/s]"
          ],
          "name": "stderr"
        },
        {
          "output_type": "stream",
          "text": [
            "Epoch: 70 loss: 98.91961781072287\n",
            "----\n",
            "ttrt yom mo'ty\n",
            "int,\n",
            "A; modnithew.\n",
            "\n",
            "VARUnFof watheame\n",
            "Yae ordotedant; en it cor: onll, I,\n",
            "Iw nor: gtar!\n",
            "Sein madain.\n",
            "\n",
            "myRGIA: pound aa panichemeplat of wats, nosA anerain me mor:\n",
            "Set; lest\n",
            "Fartit I'Sco\n",
            "----\n"
          ],
          "name": "stdout"
        },
        {
          "output_type": "stream",
          "text": [
            "100%|██████████| 769/769 [00:05<00:00, 138.79it/s]\n",
            "  2%|▏         | 15/769 [00:00<00:05, 149.66it/s]"
          ],
          "name": "stderr"
        },
        {
          "output_type": "stream",
          "text": [
            "Epoch: 71 loss: 98.87742372427464\n",
            "----\n",
            "ze on the both.\n",
            "\n",
            "VIS:Cim weabltooct'on'd adnem, spamproctizeds!'d male\n",
            "Yonky batn.\n",
            "\n",
            "VIRGIL:\n",
            "Gasp,'f to aomf, hean wonry hititince shent stertize-y yoy at tirt suchins, tyour thabethe cimy a lice,\n",
            "Whey\n",
            "----\n"
          ],
          "name": "stdout"
        },
        {
          "output_type": "stream",
          "text": [
            "100%|██████████| 769/769 [00:05<00:00, 142.62it/s]\n",
            "  2%|▏         | 13/769 [00:00<00:06, 122.68it/s]"
          ],
          "name": "stderr"
        },
        {
          "output_type": "stream",
          "text": [
            "Epoch: 72 loss: 98.83514157174974\n",
            "----\n",
            "me your instered you or, by lomriredrat proldry, I madiur mowh amenert'sh you hang it\n",
            "Eoreth ham in\n",
            "Hect anr thom: eithers ceattolimfjede. 'cey theceyound; I\n",
            "\n",
            "VILIA:\n",
            "Bishere dingsh warse reheat to ing\n",
            "----\n"
          ],
          "name": "stdout"
        },
        {
          "output_type": "stream",
          "text": [
            "100%|██████████| 769/769 [00:05<00:00, 139.01it/s]\n",
            "  2%|▏         | 15/769 [00:00<00:05, 147.94it/s]"
          ],
          "name": "stderr"
        },
        {
          "output_type": "stream",
          "text": [
            "Epoch: 73 loss: 98.79284957186425\n",
            "----\n",
            "e;\n",
            "Whaghas toll.\n",
            "\n",
            "MENENIA I atherhellthen wecave limned ast co'd the 'n then:\n",
            "Jure tit go kus to I, unfreivery ga the notesxeriuse on hame that trf, lamy swonty\n",
            "IA swarcaf onjorlald micI alm cath then\n",
            "----\n"
          ],
          "name": "stdout"
        },
        {
          "output_type": "stream",
          "text": [
            "100%|██████████| 769/769 [00:05<00:00, 140.05it/s]\n",
            "  2%|▏         | 13/769 [00:00<00:06, 124.19it/s]"
          ],
          "name": "stderr"
        },
        {
          "output_type": "stream",
          "text": [
            "Epoch: 74 loss: 98.75054897265531\n",
            "----\n",
            "myiy,,\n",
            "hy mo pis enenowenchighowh.\n",
            "\n",
            "Thav madloer: des, heango's themiy, I pilindend in the my daevith, whe and dantaonve you no ast me Se, fould goothad'urese com Romist for fsor:\n",
            "I hisoumy to you\n",
            "\n",
            "Ma\n",
            "----\n"
          ],
          "name": "stdout"
        },
        {
          "output_type": "stream",
          "text": [
            "100%|██████████| 769/769 [00:05<00:00, 140.56it/s]\n",
            "  2%|▏         | 15/769 [00:00<00:05, 148.44it/s]"
          ],
          "name": "stderr"
        },
        {
          "output_type": "stream",
          "text": [
            "Epoch: 75 loss: 98.70829680332149\n",
            "----\n",
            "tich.\n",
            "Nmak\n",
            "Senty ond worer of or jeenemly it knice paeld: hod, nomar!\n",
            "Ferelf thet tronh. I the'st were acelrer the you noter banacchis chererw ir lancitis, stamy reveds:\n",
            "He lllecut ins me. I foms.\n",
            "\n",
            "Fi\n",
            "----\n"
          ],
          "name": "stdout"
        },
        {
          "output_type": "stream",
          "text": [
            "100%|██████████| 769/769 [00:05<00:00, 140.34it/s]\n",
            "  2%|▏         | 14/769 [00:00<00:05, 130.91it/s]"
          ],
          "name": "stderr"
        },
        {
          "output_type": "stream",
          "text": [
            "Epoch: 76 loss: 98.66612859826085\n",
            "----\n",
            "nirs, the rered beiave wors.\n",
            "\n",
            "RCIAiriod the\n",
            "Hell the stons ralt stthoust thoultaritnow atiu, cae goon: alc the groum-.\n",
            "\n",
            "VIRGILGint her jeser fit colisbproins.\n",
            "\n",
            "Mt Ihay\n",
            "sheracaghere ol is ceach reamy i\n",
            "----\n"
          ],
          "name": "stdout"
        },
        {
          "output_type": "stream",
          "text": [
            "100%|██████████| 769/769 [00:05<00:00, 141.19it/s]\n",
            "  2%|▏         | 14/769 [00:00<00:05, 138.72it/s]"
          ],
          "name": "stderr"
        },
        {
          "output_type": "stream",
          "text": [
            "Epoch: 77 loss: 98.62414875933264\n",
            "----\n",
            ",. gidreinf thaaodicouf'-, arm\n",
            "We spacke sour\n",
            "No maliniuny cerswisil souplears you I sorse Laivitheenll  hescare\n",
            "\n",
            "ARCCIUS:\n",
            "Thererat\n",
            "alleLit thase winomsts;\n",
            "in CoorI I-lay,, nelfon bus sad we;\n",
            "Wheat fo\n",
            "----\n"
          ],
          "name": "stdout"
        },
        {
          "output_type": "stream",
          "text": [
            "100%|██████████| 769/769 [00:05<00:00, 138.49it/s]\n",
            "  2%|▏         | 15/769 [00:00<00:05, 147.18it/s]"
          ],
          "name": "stderr"
        },
        {
          "output_type": "stream",
          "text": [
            "Epoch: 78 loss: 98.58241648010316\n",
            "----\n",
            "s his tore mothead I afoud,\n",
            "Thant\n",
            "Anach nobnveindst Come nower tol.\n",
            "\n",
            "VALERGILIAIl:\n",
            "Thail.\n",
            "\n",
            "Andet me ius, the Labems's the fidaling\n",
            "If-A quot mthmodill I shate vI to vfow himy,D\n",
            "Haap'ssrysy CoMemawes\n",
            "d\n",
            "----\n"
          ],
          "name": "stdout"
        },
        {
          "output_type": "stream",
          "text": [
            "100%|██████████| 769/769 [00:05<00:00, 140.42it/s]\n",
            "  2%|▏         | 15/769 [00:00<00:05, 146.03it/s]"
          ],
          "name": "stderr"
        },
        {
          "output_type": "stream",
          "text": [
            "Epoch: 79 loss: 98.54071454778372\n",
            "----\n",
            "ve tht, in bue hiugee worald s pres; meae whoancerie poony uld I at to' prnither and yout? ser.\n",
            "\n",
            "SINIUSCOLORGILIA:\n",
            "Ant my, to ad eritiun\n",
            "\n",
            "I\n",
            "VIRGILIA:\n",
            "Ofthit.\n",
            "\n",
            "VALEIRGILILIA:\n",
            "AnxNourn:\n",
            "To\n",
            "Niminge, I om\n",
            "----\n"
          ],
          "name": "stdout"
        },
        {
          "output_type": "stream",
          "text": [
            "100%|██████████| 769/769 [00:05<00:00, 133.98it/s]\n",
            "  2%|▏         | 14/769 [00:00<00:05, 139.05it/s]"
          ],
          "name": "stderr"
        },
        {
          "output_type": "stream",
          "text": [
            "Epoch: 80 loss: 98.49903900952584\n",
            "----\n",
            "en.\n",
            "Vo'cid he.\n",
            "Will the ghenom. fhis, dol ased it that towaly sor an whour and in, of it you ambrelis lakamit mongbe sircithich to mus! 'sould\n",
            "ToredoctinitWires and kich.\n",
            " herim talyincarenes, the\n",
            "Men\n",
            "----\n"
          ],
          "name": "stdout"
        },
        {
          "output_type": "stream",
          "text": [
            "100%|██████████| 769/769 [00:05<00:00, 138.72it/s]\n",
            "  2%|▏         | 15/769 [00:00<00:05, 148.86it/s]"
          ],
          "name": "stderr"
        },
        {
          "output_type": "stream",
          "text": [
            "Epoch: 81 loss: 98.45710039431268\n",
            "----\n",
            "nimste, ar wamaun\n",
            "He peat of com dteread, hink hyike ha noprotelle VUlay o tied, noce, had, in looks on the patton.\n",
            "\n",
            "VIy:\n",
            "LangTlawh, wield plmeut toll Aughers follize ches.\n",
            "dom! sher. 'ntell 'at of th\n",
            "----\n"
          ],
          "name": "stdout"
        },
        {
          "output_type": "stream",
          "text": [
            "100%|██████████| 769/769 [00:05<00:00, 139.42it/s]\n",
            "  2%|▏         | 15/769 [00:00<00:05, 146.41it/s]"
          ],
          "name": "stderr"
        },
        {
          "output_type": "stream",
          "text": [
            "Epoch: 82 loss: 98.41486152120646\n",
            "----\n",
            "ady goo wark, and tyey wishe momsithe, whresend ghes, the keve thar yould gom Stoplake hiceard, like coull'--\n",
            "\n",
            "ALERCIUS:\n",
            "Cobd cit to assbowne, fary.\n",
            "\n",
            "Firstrer, elran oulrely brhourd\n",
            "Inser!\n",
            "\n",
            "VIRGILIAth\n",
            "----\n"
          ],
          "name": "stdout"
        },
        {
          "output_type": "stream",
          "text": [
            "100%|██████████| 769/769 [00:05<00:00, 142.23it/s]\n",
            "  2%|▏         | 15/769 [00:00<00:05, 146.72it/s]"
          ],
          "name": "stderr"
        },
        {
          "output_type": "stream",
          "text": [
            "Epoch: 83 loss: 98.37240258050933\n",
            "----\n",
            "s welvir.\n",
            "\n",
            "VOLEAem:\n",
            "whies.\n",
            "We cond it fingenmalyiniston in bupit I meree an hif the th towe to thes.\n",
            "\n",
            "VALA\n",
            "FIUS:\n",
            "Anh awe four and in hay hesr seoll the gim'd the not corst sula?\n",
            "Hest we. devad gray th\n",
            "----\n"
          ],
          "name": "stdout"
        },
        {
          "output_type": "stream",
          "text": [
            "100%|██████████| 769/769 [00:05<00:00, 139.12it/s]\n",
            "  2%|▏         | 15/769 [00:00<00:05, 147.53it/s]"
          ],
          "name": "stderr"
        },
        {
          "output_type": "stream",
          "text": [
            "Epoch: 84 loss: 98.32957947407537\n",
            "----\n",
            "ughe\n",
            "ir you bodrle fomy levorce not ar mo stawe hed the toonthiplu ver gritA sect oonfadit fowelfen he bellad meden sstingrer fure ghe and thinst, Auf:\n",
            "They hiselllest: thor gindith the uses foon fcer\n",
            "----\n"
          ],
          "name": "stdout"
        },
        {
          "output_type": "stream",
          "text": [
            "100%|██████████| 769/769 [00:05<00:00, 141.91it/s]\n",
            "  2%|▏         | 13/769 [00:00<00:05, 128.57it/s]"
          ],
          "name": "stderr"
        },
        {
          "output_type": "stream",
          "text": [
            "Epoch: 85 loss: 98.28621360825056\n",
            "----\n",
            "ip, Barabret Marsh lnd Igay with wheme reade\n",
            "hord fare, benger word Cinge?\n",
            "\n",
            "VIRGILIA:\n",
            "On honteon,\n",
            "Of louus matchinscofthsw a mineens and it sad sames ur. connos, mopry gow senttatiy the bibkteve his l\n",
            "----\n"
          ],
          "name": "stdout"
        },
        {
          "output_type": "stream",
          "text": [
            "100%|██████████| 769/769 [00:05<00:00, 139.36it/s]\n",
            "  2%|▏         | 16/769 [00:00<00:04, 152.61it/s]"
          ],
          "name": "stderr"
        },
        {
          "output_type": "stream",
          "text": [
            "Epoch: 86 loss: 98.24224736094233\n",
            "----\n",
            "cin\n",
            "redest ull irst he a taly die sale rathenes hap lakis\n",
            "He chim.\n",
            "\n",
            "VILIA:\n",
            "I bnaad.\n",
            "nneyomar'y. thain.\n",
            "\n",
            "MENarath heir\n",
            "sured, an it lich gooide\n",
            " whawe fonape'llle pemephin; thee Citizen:\n",
            "Lerer alabs; o\n",
            "----\n"
          ],
          "name": "stdout"
        },
        {
          "output_type": "stream",
          "text": [
            "100%|██████████| 769/769 [00:05<00:00, 142.09it/s]\n",
            "  2%|▏         | 15/769 [00:00<00:05, 146.59it/s]"
          ],
          "name": "stderr"
        },
        {
          "output_type": "stream",
          "text": [
            "Epoch: 87 loss: 98.19762091196914\n",
            "----\n",
            "rs,\n",
            "Home murllitht, hund corcius. I\n",
            "\n",
            "VIS:\n",
            "Their instreshy homcis los ele Lo'S'ld: dithy taresed becion ching.\n",
            "As cowh at o- nrer and moding wheinaid.\n",
            "Live ratiriod this eith wan thor cofthiit'f: oumec\n",
            "----\n"
          ],
          "name": "stdout"
        },
        {
          "output_type": "stream",
          "text": [
            "100%|██████████| 769/769 [00:05<00:00, 141.19it/s]\n",
            "  2%|▏         | 14/769 [00:00<00:05, 131.14it/s]"
          ],
          "name": "stderr"
        },
        {
          "output_type": "stream",
          "text": [
            "Epoch: 88 loss: 98.15247895225959\n",
            "----\n",
            "de kfreaullwer it o owhing.\n",
            "Thate\n",
            "sing! I hare our\n",
            "'le mite us lo, th yoodns are aghonss ste\n",
            "You urtis Ciscandek:\n",
            "Sefnou-: I arik blly therell!\n",
            "To his cablu brmepaal wentyor ghel ow make minhe cour fi\n",
            "----\n"
          ],
          "name": "stdout"
        },
        {
          "output_type": "stream",
          "text": [
            "100%|██████████| 769/769 [00:05<00:00, 142.40it/s]\n",
            "  1%|▏         | 10/769 [00:00<00:07, 95.13it/s]"
          ],
          "name": "stderr"
        },
        {
          "output_type": "stream",
          "text": [
            "Epoch: 89 loss: 98.10693904168505\n",
            "----\n",
            "t, pir. ILead mmor arst thomach olly\n",
            "Noe you\n",
            "Are Volisich; wians in to thens ble win, mosto go the artik, you and, you than uund tiod. That ed blolg me muth, id. Wevighor you pristing hour erbnourmyey\n",
            "----\n"
          ],
          "name": "stdout"
        },
        {
          "output_type": "stream",
          "text": [
            "100%|██████████| 769/769 [00:05<00:00, 140.17it/s]\n",
            "  2%|▏         | 14/769 [00:00<00:05, 132.11it/s]"
          ],
          "name": "stderr"
        },
        {
          "output_type": "stream",
          "text": [
            "Epoch: 90 loss: 98.06133392004283\n",
            "----\n",
            "ng hew heit the joor thes, kire ce catd in hhis it eew: Melly.\n",
            "\n",
            "VALERUFirnot ead bricirsiriw follessore ar martiut cuen hinghat oL:\n",
            "Cominduch sistafece nomy,',\n",
            "When in to thead, you wenenengrir: hulve\n",
            "----\n"
          ],
          "name": "stdout"
        },
        {
          "output_type": "stream",
          "text": [
            "100%|██████████| 769/769 [00:05<00:00, 137.56it/s]\n",
            "  2%|▏         | 15/769 [00:00<00:05, 149.97it/s]"
          ],
          "name": "stderr"
        },
        {
          "output_type": "stream",
          "text": [
            "Epoch: 91 loss: 98.0152582866132\n",
            "----\n",
            "ngund the itd\n",
            "fgre vorsir maly afm,\n",
            "Youn ory:\n",
            "prew hen,\n",
            "she were badit h. I ararssyy, latkid.\n",
            "Buty taed mapriiiuss, his norrom rebsfed, the sas? wald nolllle youwizengele mlougyhe ditom.\n",
            "\n",
            "V'TUMA:\n",
            "Firi\n",
            "----\n"
          ],
          "name": "stdout"
        },
        {
          "output_type": "stream",
          "text": [
            "100%|██████████| 769/769 [00:05<00:00, 139.62it/s]\n",
            "  2%|▏         | 13/769 [00:00<00:05, 128.23it/s]"
          ],
          "name": "stderr"
        },
        {
          "output_type": "stream",
          "text": [
            "Epoch: 92 loss: 97.96920091402097\n",
            "----\n",
            "ry, bus'y, mcae cere, upridines frowe have, I derere,\n",
            "Inder.\n",
            "BI ably bs,\n",
            "I murch ith: how yor, pice ofore; surer\n",
            "The batowe panich farit I'd mod to dit? Marciren Intem, kovind th deon spely, hamf the \n",
            "----\n"
          ],
          "name": "stdout"
        },
        {
          "output_type": "stream",
          "text": [
            "100%|██████████| 769/769 [00:05<00:00, 138.45it/s]\n",
            "  2%|▏         | 15/769 [00:00<00:05, 146.38it/s]"
          ],
          "name": "stderr"
        },
        {
          "output_type": "stream",
          "text": [
            "Epoch: 93 loss: 97.92301710626221\n",
            "----\n",
            "ly bebendatheasaly unk laleake atanachey,\n",
            "Is ans enoncord fomy, ware they, woup\n",
            "I the ase stall cod quncuch, hancetsthite.\n",
            "'theor nor: en the arond, you fiust shesw,\n",
            "ronems.\n",
            "Coirem, hegeart; mike,\n",
            "yau\n",
            "----\n"
          ],
          "name": "stdout"
        },
        {
          "output_type": "stream",
          "text": [
            "100%|██████████| 769/769 [00:05<00:00, 138.98it/s]\n",
            "  2%|▏         | 14/769 [00:00<00:05, 129.77it/s]"
          ],
          "name": "stderr"
        },
        {
          "output_type": "stream",
          "text": [
            "Epoch: 94 loss: 97.87696045123955\n",
            "----\n",
            "red shaw atcusentain horverest roumus, amaroupt; oid'Th the arser'h shver Citizent wis'rit must ofnank\n",
            "Unon to gomer ramers day?t ang'y\n",
            "Our at, wor buin, -alith yowhi;'ll het'so bewh wam\n",
            "izesveando fi\n",
            "----\n"
          ],
          "name": "stdout"
        },
        {
          "output_type": "stream",
          "text": [
            "100%|██████████| 769/769 [00:05<00:00, 139.15it/s]\n",
            "  2%|▏         | 15/769 [00:00<00:05, 147.80it/s]"
          ],
          "name": "stderr"
        },
        {
          "output_type": "stream",
          "text": [
            "Epoch: 95 loss: 97.8308314123626\n",
            "----\n",
            "n toe\n",
            "VAtLCIoon laintonr son diec this?\n",
            "Haspiand orighood halis, ane youping ghave\n",
            "had Vamy'e srothepead in toI\n",
            "Bines\n",
            "Cothar. I nencetroont your you that-'s cate dor I ofor yoy of fit; chire Mamy cork\n",
            "----\n"
          ],
          "name": "stdout"
        },
        {
          "output_type": "stream",
          "text": [
            "100%|██████████| 769/769 [00:05<00:00, 140.36it/s]\n",
            "  2%|▏         | 15/769 [00:00<00:05, 145.48it/s]"
          ],
          "name": "stderr"
        },
        {
          "output_type": "stream",
          "text": [
            "Epoch: 96 loss: 97.78495890372191\n",
            "----\n",
            "rts I toumm shetaditd: you dompe.\n",
            "\n",
            "VALERICIUS Oll: Ifth ald you recangs core all wady, was bufs, maghnoy whichreig.\n",
            "Thaat toon\n",
            "fenangt Matizen: inssy you lich ald, harave pumina, the:\n",
            "'sh deroronge.\n",
            "\n",
            "\n",
            "----\n"
          ],
          "name": "stdout"
        },
        {
          "output_type": "stream",
          "text": [
            "100%|██████████| 769/769 [00:05<00:00, 138.83it/s]\n",
            "  2%|▏         | 16/769 [00:00<00:05, 150.43it/s]"
          ],
          "name": "stderr"
        },
        {
          "output_type": "stream",
          "text": [
            "Epoch: 97 loss: 97.7389182786209\n",
            "----\n",
            "t to yoursellle were sere.\n",
            "\n",
            "VIRGIDIUS:\n",
            "Balinat stry alls he fweanderm; good; hat'st Satoney:\n",
            "Bom mo guratiss whive murely comlost in hatcun wan at hy\n",
            "stafthe himighf.\n",
            "\n",
            "VIRGILIRIUS:\n",
            "UMNIAsily, wits rat\n",
            "----\n"
          ],
          "name": "stdout"
        },
        {
          "output_type": "stream",
          "text": [
            "100%|██████████| 769/769 [00:05<00:00, 140.09it/s]\n",
            "  2%|▏         | 15/769 [00:00<00:05, 148.71it/s]"
          ],
          "name": "stderr"
        },
        {
          "output_type": "stream",
          "text": [
            "Epoch: 98 loss: 97.69293224307829\n",
            "----\n",
            "ntper. Hamad his malf? the fout. No've\n",
            "\n",
            "VIRGILIA:\n",
            "Indolly; thy, nele com\n",
            "merey's Stiun Vamy.\n",
            "\n",
            "VIRGILINIUS: irsenvesen snotneder larl withsese mominicitabt, the provew anded.\n",
            "\n",
            "VILGino\n",
            "A loat must mlike\n",
            "----\n"
          ],
          "name": "stdout"
        },
        {
          "output_type": "stream",
          "text": [
            "100%|██████████| 769/769 [00:05<00:00, 139.91it/s]\n",
            "  2%|▏         | 16/769 [00:00<00:05, 150.46it/s]"
          ],
          "name": "stderr"
        },
        {
          "output_type": "stream",
          "text": [
            "Epoch: 99 loss: 97.64685707928174\n",
            "----\n",
            "ncu:\n",
            "therell gnor the good.\n",
            "\n",
            "VIRGILIA:\n",
            "Shat youed sunom,\n",
            "ste prey!\n",
            "\n",
            "VIRGhitt\n",
            "Cooneshand tyou onleing in ulluse\n",
            "Af eromis youbke sanow raven:\n",
            "end bied lyont pildy, pthe hassolk,\n",
            "Cabulrne arrit ubrock\n",
            "c\n",
            "----\n"
          ],
          "name": "stdout"
        },
        {
          "output_type": "stream",
          "text": [
            "100%|██████████| 769/769 [00:05<00:00, 142.06it/s]\n",
            "  2%|▏         | 15/769 [00:00<00:05, 149.89it/s]"
          ],
          "name": "stderr"
        },
        {
          "output_type": "stream",
          "text": [
            "Epoch: 100 loss: 97.6007427066405\n",
            "----\n",
            "ly and yours dood hat fomer: mush.\n",
            "\n",
            "VIRGILIRGIMIRIA:\n",
            "Whriltis mes; ppat lins., preius, th elible, ir hingon arn:\n",
            "ghie, chink bated ctall bake.\n",
            "\n",
            "FILI bulperer: whim, fore\n",
            "Lethuss ast bevand whorse, lee\n",
            "----\n"
          ],
          "name": "stdout"
        },
        {
          "output_type": "stream",
          "text": [
            "100%|██████████| 769/769 [00:05<00:00, 138.80it/s]\n",
            "  2%|▏         | 14/769 [00:00<00:05, 136.75it/s]"
          ],
          "name": "stderr"
        },
        {
          "output_type": "stream",
          "text": [
            "Epoch: 101 loss: 97.55446303810189\n",
            "----\n",
            "upinges I scas; dand wis lowe, leballno domy so\n",
            "Lithid, whad meras.\n",
            "nere nower:\n",
            "Lhy the serfis good. 'dinithy sherad more all-hith and word ich woulls. peer note\n",
            "Owste memlanf, hord bedandim yain sse,\n",
            "----\n"
          ],
          "name": "stdout"
        },
        {
          "output_type": "stream",
          "text": [
            " 10%|▉         | 74/769 [00:00<00:05, 131.87it/s]"
          ],
          "name": "stderr"
        },
        {
          "output_type": "stream",
          "text": [
            "End!\n"
          ],
          "name": "stdout"
        },
        {
          "output_type": "stream",
          "text": [
            "\n"
          ],
          "name": "stderr"
        }
      ]
    },
    {
      "cell_type": "markdown",
      "metadata": {
        "id": "kyePIowQYmg4"
      },
      "source": [
        "# Vanishing and Exploding Gradients\n",
        "The model has been trained. We will now try and look into the problems of a simple RNN. We will feed a single sequence to the network. The network produces the gradients for each time step. We will be plotting these gradient along the time step."
      ]
    },
    {
      "cell_type": "code",
      "metadata": {
        "id": "cP2NcqWiYu-q"
      },
      "source": [
        "input = text_as_int[0:seq_length]\n",
        "target = text_as_int[1:seq_length+1]\n",
        "hprev = np.zeros((hidden_size,1))\n",
        "dWxh_list, dWhh_list, dWhy_list = lossFun(input, target, hprev,hist_grad=True)"
      ],
      "execution_count": 21,
      "outputs": []
    },
    {
      "cell_type": "markdown",
      "metadata": {
        "id": "7BHY32vmm6sV"
      },
      "source": [
        "## Gradients for $W_{y}$"
      ]
    },
    {
      "cell_type": "code",
      "metadata": {
        "id": "2vIGHWUEjpp-",
        "outputId": "1f4aaada-3156-446a-9eca-43e6f9a6f94f",
        "colab": {
          "base_uri": "https://localhost:8080/",
          "height": 336
        }
      },
      "source": [
        "plt.figure(figsize=(20,5))\n",
        "plt.subplot(1,3,1)\n",
        "plt.hist(dWhy_list[-1].reshape(-1),100)\n",
        "plt.title('Time step 0')\n",
        "plt.xlim(-1e-1, 1e-1)\n",
        "plt.subplot(1,3,2)\n",
        "plt.hist(dWhy_list[14].reshape(-1),100)\n",
        "plt.title('Time step 13')\n",
        "plt.xlim(-1e-1, 1e-1)\n",
        "plt.subplot(1,3,3)\n",
        "plt.hist(dWhy_list[0].reshape(-1),100)\n",
        "plt.title('Time step 24')\n",
        "plt.xlim(-1e-1, 1e-1)\n",
        "plt.show()"
      ],
      "execution_count": 34,
      "outputs": [
        {
          "output_type": "display_data",
          "data": {
            "image/png": "[encoded data removed]",
            "text/plain": [
              "<Figure size 1440x360 with 3 Axes>"
            ]
          },
          "metadata": {
            "tags": [],
            "needs_background": "light"
          }
        }
      ]
    },
    {
      "cell_type": "markdown",
      "metadata": {
        "id": "AwkPw5C3nAii"
      },
      "source": [
        "Here we can see that the gradients of $W_{y}$ vanish along the time step. We need to notice that the gradients flows from the last time step to the first. This means that the gradeint at the last time step will gradually decrease as it reaches the first time step. This is quite evident from the chart above. "
      ]
    },
    {
      "cell_type": "markdown",
      "metadata": {
        "id": "jEZR58FjnCSO"
      },
      "source": [
        "## Gradients for $W_{h}$"
      ]
    },
    {
      "cell_type": "code",
      "metadata": {
        "id": "zqcoIme3nCSe",
        "outputId": "bff63c28-691b-4385-92ed-b65e634ddd52",
        "colab": {
          "base_uri": "https://localhost:8080/",
          "height": 336
        }
      },
      "source": [
        "plt.figure(figsize=(20,5))\n",
        "plt.subplot(1,3,1)\n",
        "plt.hist(dWhh_list[-1].reshape(-1),100)\n",
        "plt.title('Time step 0')\n",
        "plt.xlim(-1e-1, 1e-1)\n",
        "plt.subplot(1,3,2)\n",
        "plt.hist(dWhh_list[14].reshape(-1),100)\n",
        "plt.title('Time step 13')\n",
        "plt.xlim(-1e-1, 1e-1)\n",
        "plt.subplot(1,3,3)\n",
        "plt.hist(dWhh_list[0].reshape(-1),100)\n",
        "plt.title('Time step 24')\n",
        "plt.xlim(-1e-1, 1e-1)\n",
        "plt.show()"
      ],
      "execution_count": 35,
      "outputs": [
        {
          "output_type": "display_data",
          "data": {
            "image/png": "[encoded data removed]",
            "text/plain": [
              "<Figure size 1440x360 with 3 Axes>"
            ]
          },
          "metadata": {
            "tags": [],
            "needs_background": "light"
          }
        }
      ]
    },
    {
      "cell_type": "markdown",
      "metadata": {
        "id": "IrSUFtJ5nCTR"
      },
      "source": [
        "We see a similar trend here as well"
      ]
    },
    {
      "cell_type": "markdown",
      "metadata": {
        "id": "XwyZeHEmnDTW"
      },
      "source": [
        "## Gradients for $W_{x}$"
      ]
    },
    {
      "cell_type": "code",
      "metadata": {
        "id": "AFdIVBDCnDTd",
        "outputId": "5f310f8e-cbdc-4c5c-8430-5196f89bc56c",
        "colab": {
          "base_uri": "https://localhost:8080/",
          "height": 336
        }
      },
      "source": [
        "plt.figure(figsize=(20,5))\n",
        "plt.subplot(1,3,1)\n",
        "plt.hist(dWxh_list[-1].reshape(-1),100)\n",
        "plt.title('Time step 0')\n",
        "plt.xlim(-1e-1, 1e-1)\n",
        "plt.subplot(1,3,2)\n",
        "plt.hist(dWxh_list[14].reshape(-1),100)\n",
        "plt.title('Time step 13')\n",
        "plt.xlim(-1e-1, 1e-1)\n",
        "plt.subplot(1,3,3)\n",
        "plt.hist(dWxh_list[0].reshape(-1),100)\n",
        "plt.title('Time step 24')\n",
        "plt.xlim(-1e-1, 1e-1)\n",
        "plt.show()"
      ],
      "execution_count": 37,
      "outputs": [
        {
          "output_type": "display_data",
          "data": {
            "image/png": "[encoded data removed]",
            "text/plain": [
              "<Figure size 1440x360 with 3 Axes>"
            ]
          },
          "metadata": {
            "tags": [],
            "needs_background": "light"
          }
        }
      ]
    },
    {
      "cell_type": "markdown",
      "metadata": {
        "id": "6EGKWhQwnDT1"
      },
      "source": [
        "Here the gradients are negligible in time step 0."
      ]
    }
  ]
}